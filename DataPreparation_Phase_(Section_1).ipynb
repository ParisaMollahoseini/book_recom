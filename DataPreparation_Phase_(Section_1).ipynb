{
 "cells": [
  {
   "cell_type": "code",
   "execution_count": 6,
   "id": "lonely-bedroom",
   "metadata": {},
   "outputs": [],
   "source": [
    "import pandas as pd\n",
    "import numpy as np"
   ]
  },
  {
   "cell_type": "code",
   "execution_count": 7,
   "id": "color-reflection",
   "metadata": {},
   "outputs": [],
   "source": [
    "path = 'E:/my_courses/data mining/project/data_genre/'\n",
    "path = 'C:/Users/User/Downloads/xxx/book_recom-main/'"
   ]
  },
  {
   "cell_type": "code",
   "execution_count": 8,
   "id": "figured-technical",
   "metadata": {},
   "outputs": [],
   "source": [
    "rating = pd.read_csv(path + 'ratings.csv')\n",
    "to_read = pd.read_csv(path + 'to_read.csv')\n",
    "book = pd.read_csv(path + 'books.csv')"
   ]
  },
  {
   "cell_type": "markdown",
   "id": "excellent-breakfast",
   "metadata": {},
   "source": [
    "# 2️⃣ Data Preparation Phase : Section 1\n",
    "<hr style=\"border:2px solid gray\"> </hr>"
   ]
  },
  {
   "cell_type": "markdown",
   "id": "checked-genealogy",
   "metadata": {},
   "source": [
    "## 📑 Outlier detection"
   ]
  },
  {
   "cell_type": "markdown",
   "id": "extraordinary-signature",
   "metadata": {},
   "source": [
    "<div style=\"\", align=\"justify\"><h3>\n",
    "⚫ checking book dataset outliers\n",
    "<hr style=\"border:1px solid gray\">"
   ]
  },
  {
   "cell_type": "code",
   "execution_count": 4,
   "id": "dental-collective",
   "metadata": {},
   "outputs": [
    {
     "name": "stdout",
     "output_type": "stream",
     "text": [
      "<class 'pandas.core.frame.DataFrame'>\n",
      "RangeIndex: 10000 entries, 0 to 9999\n",
      "Data columns (total 23 columns):\n",
      " #   Column                     Non-Null Count  Dtype  \n",
      "---  ------                     --------------  -----  \n",
      " 0   book_id                    10000 non-null  int64  \n",
      " 1   goodreads_book_id          10000 non-null  int64  \n",
      " 2   best_book_id               10000 non-null  int64  \n",
      " 3   work_id                    10000 non-null  int64  \n",
      " 4   books_count                10000 non-null  int64  \n",
      " 5   isbn                       9300 non-null   object \n",
      " 6   isbn13                     9415 non-null   float64\n",
      " 7   authors                    10000 non-null  object \n",
      " 8   original_publication_year  9979 non-null   float64\n",
      " 9   original_title             9415 non-null   object \n",
      " 10  title                      10000 non-null  object \n",
      " 11  language_code              8916 non-null   object \n",
      " 12  average_rating             10000 non-null  float64\n",
      " 13  ratings_count              10000 non-null  int64  \n",
      " 14  work_ratings_count         10000 non-null  int64  \n",
      " 15  work_text_reviews_count    10000 non-null  int64  \n",
      " 16  ratings_1                  10000 non-null  int64  \n",
      " 17  ratings_2                  10000 non-null  int64  \n",
      " 18  ratings_3                  10000 non-null  int64  \n",
      " 19  ratings_4                  10000 non-null  int64  \n",
      " 20  ratings_5                  10000 non-null  int64  \n",
      " 21  image_url                  10000 non-null  object \n",
      " 22  small_image_url            10000 non-null  object \n",
      "dtypes: float64(3), int64(13), object(7)\n",
      "memory usage: 1.8+ MB\n"
     ]
    }
   ],
   "source": [
    "book.info()"
   ]
  },
  {
   "cell_type": "markdown",
   "id": "regulation-spain",
   "metadata": {},
   "source": [
    "### ✅ Checking outliers of language_code :  Language_codes must be valid"
   ]
  },
  {
   "cell_type": "code",
   "execution_count": 5,
   "id": "acquired-jewel",
   "metadata": {},
   "outputs": [
    {
     "name": "stdout",
     "output_type": "stream",
     "text": [
      "['eng', 'en-US', 'en-CA', nan, 'spa', 'en-GB', 'fre', 'nl', 'ara', 'por', 'ger', 'nor', 'jpn', 'en', 'vie', 'ind', 'pol', 'tur', 'dan', 'fil', 'ita', 'per', 'swe', 'rum', 'mul', 'rus']\n"
     ]
    }
   ],
   "source": [
    "print(list(book['language_code'].unique()))"
   ]
  },
  {
   "cell_type": "markdown",
   "id": "educational-valuation",
   "metadata": {},
   "source": [
    "<div style=\"color:red\", align=\"justify\"><h4>\n",
    "📌 There isn't any outlier value in language_code column"
   ]
  },
  {
   "cell_type": "markdown",
   "id": "german-belarus",
   "metadata": {},
   "source": [
    "(eng : English)\n",
    "(en-US : English as used in the United States)\n",
    "(spa :  Spanish)\n",
    "(en - GB : English as used in United Kingdom)\n",
    "(fre : French)\n",
    "(nl : Dutch)\n",
    "(ara : Arabic)\n",
    "(por : Portuguese)\n",
    "(ger : German)\n",
    "(nor : Norwegian)\n",
    "(jpn : Japanese)\n",
    "(en : English)\n",
    "(vie : Vietnamese)\n",
    "(ind : Indonesian)\n",
    "(pol : Polish)\n",
    "(tur : Turkish)\n",
    "(dan : Danish)\n",
    "(fil : Filipino)\n",
    "(ita : Italian)\n",
    "(per : Persian)\n",
    "(swe : Swedish)\n",
    "(rum : Romanian)\n",
    "(mul : multiple languages)\n",
    "(rus : Russian)\n",
    "    \n",
    "https://www.science.co.il/language/Codes.php"
   ]
  },
  {
   "cell_type": "markdown",
   "id": "bronze-empty",
   "metadata": {},
   "source": [
    "### ✅ Checking outliers of original_publication_year : Original_publication_year must be less than 2021"
   ]
  },
  {
   "cell_type": "code",
   "execution_count": 11,
   "id": "characteristic-delhi",
   "metadata": {},
   "outputs": [
    {
     "name": "stdout",
     "output_type": "stream",
     "text": [
      "There is 0 book with publication year > 2021\n"
     ]
    }
   ],
   "source": [
    "print('There is {} book with publication year > 2021'.format(len(book[book['original_publication_year'] > 2021])))"
   ]
  },
  {
   "cell_type": "code",
   "execution_count": 6,
   "id": "great-liberal",
   "metadata": {},
   "outputs": [
    {
     "name": "stdout",
     "output_type": "stream",
     "text": [
      "[2008.0, 1997.0, 2005.0, 1960.0, 1925.0, 2012.0, 1937.0, 1951.0, 2000.0, 1813.0, 2003.0, 2011.0, 1949.0, 1945.0, 1947.0, 2009.0, 1999.0, 1954.0, 2010.0, 2002.0, 1998.0, 2007.0, 1595.0, 1988.0, 1993.0, 1950.0, 1996.0, 2006.0, 1868.0, 1847.0, 2001.0, 1953.0, 1974.0, 1979.0, 1932.0, 1884.0, 1952.0, 2015.0, 1995.0, 2004.0, 1969.0, 1936.0, 1985.0, 1818.0, 1977.0, 1811.0, -720.0, 1946.0, 1859.0, 1990.0, 1964.0, 1989.0, 1958.0, 1973.0, 1967.0, 1911.0, 1891.0, 1897.0, 1963.0, 1844.0, 2013.0, 1862.0, 1961.0, 1876.0, 1962.0, 1955.0, 1991.0, 1600.0, 1965.0, 1939.0, 1908.0, 1850.0, 2014.0, 1606.0, 1860.0, 1942.0, 1978.0, 1815.0, 1877.0, 1986.0, 1866.0, 1922.0, 1987.0, 1851.0, 1982.0, 1843.0, 1976.0, 1994.0, 1915.0, 1956.0, nan, 1980.0, 1865.0, 1817.0, 1957.0, 1926.0, 1943.0, 1938.0, 1966.0, 1981.0, 2016.0, 1992.0, 1984.0, 1972.0, 1882.0, 1895.0, 1899.0, 1983.0, -750.0, 1900.0, 1975.0, 1971.0, 1603.0, 1929.0, 1968.0, 1838.0, 1903.0, 1886.0, 1940.0, -500.0, 1887.0, 1931.0, 1611.0, 1814.0, 1719.0, 1513.0, 1880.0, 1923.0, 1869.0, 1849.0, 1892.0, 1904.0, 1726.0, 1598.0, 975.0, 1905.0, 1935.0, 1948.0, 1856.0, 1759.0, 1959.0, 1605.0, 1901.0, 1970.0, 1902.0, 1390.0, 1852.0, 1909.0, 1920.0, 1934.0, 1872.0, 1894.0, 1599.0, -380.0, 1593.0, 1831.0, 1812.0, 1623.0, 1854.0, -430.0, 1596.0, 1601.0, 1941.0, 1906.0, 1930.0, 1916.0, 1871.0, 1864.0, 1320.0, 1667.0, 1927.0, 1874.0, 1918.0, -300.0, 1835.0, 1883.0, -560.0, 1914.0, 1308.0, 1881.0, 1933.0, -17.0, 1830.0, 1678.0, 1848.0, 1826.0, 1912.0, 1853.0, 1890.0, -441.0, 1928.0, 1896.0, 1879.0, 1819.0, 1889.0, 1592.0, 1855.0, 1845.0, 1924.0, 1944.0, 1898.0, 800.0, 1910.0, 180.0, -401.0, -1750.0, 609.0, 1919.0, -762.0, 1842.0, 1774.0, 1808.0, -400.0, 1861.0, 1846.0, 8.0, 1604.0, 1791.0, 1516.0, -431.0, 1917.0, 1833.0, 1913.0, 1519.0, 1798.0, 1885.0, 1840.0, 1273.0, 397.0, 1834.0, -440.0, 1857.0, 1782.0, 1729.0, 1651.0, 1722.0, 1691.0, 1893.0, 1591.0, 1839.0, 1762.0, 1787.0, 1820.0, -385.0, 1645.0, -350.0, 1789.0, -458.0, 1485.0, -411.0, 1353.0, 1749.0, 1878.0, 1776.0, 1637.0, 1921.0, 1781.0, 1550.0, -390.0, 1664.0, 1832.0, 2017.0, 1641.0, 1837.0, 1888.0, 1418.0, 1589.0, 1594.0, 1120.0, 1689.0, 1563.0, 1597.0, 1796.0, 1841.0, 1767.0, 1807.0, 1863.0, 1907.0, -476.0, 1748.0, 1666.0, 1764.0, 1836.0, -330.0, 119.0, 1867.0, 1590.0, 1380.0, 1554.0, -335.0, 1785.0, 1532.0, 1677.0, 1825.0]\n"
     ]
    }
   ],
   "source": [
    "print(list(book['original_publication_year'].unique()))"
   ]
  },
  {
   "cell_type": "markdown",
   "id": "challenging-italian",
   "metadata": {},
   "source": [
    "<div style=\"color:red\", align=\"justify\"><h4>\n",
    "📌 There is some negative values in original_publication_year column. Outlier values or not?\n",
    "<div style=\"color:green\", align=\"justify\"><h4>\n",
    "✔️ Negative original_publication_year referes to BC. authors such as Homer, Plato, Aristotle, Sophocles, ..."
   ]
  },
  {
   "cell_type": "code",
   "execution_count": 7,
   "id": "modular-sustainability",
   "metadata": {},
   "outputs": [
    {
     "data": {
      "text/html": [
       "<div>\n",
       "<style scoped>\n",
       "    .dataframe tbody tr th:only-of-type {\n",
       "        vertical-align: middle;\n",
       "    }\n",
       "\n",
       "    .dataframe tbody tr th {\n",
       "        vertical-align: top;\n",
       "    }\n",
       "\n",
       "    .dataframe thead th {\n",
       "        text-align: right;\n",
       "    }\n",
       "</style>\n",
       "<table border=\"1\" class=\"dataframe\">\n",
       "  <thead>\n",
       "    <tr style=\"text-align: right;\">\n",
       "      <th></th>\n",
       "      <th>book_id</th>\n",
       "      <th>goodreads_book_id</th>\n",
       "      <th>best_book_id</th>\n",
       "      <th>work_id</th>\n",
       "      <th>books_count</th>\n",
       "      <th>isbn</th>\n",
       "      <th>isbn13</th>\n",
       "      <th>authors</th>\n",
       "      <th>original_publication_year</th>\n",
       "      <th>original_title</th>\n",
       "      <th>...</th>\n",
       "      <th>ratings_count</th>\n",
       "      <th>work_ratings_count</th>\n",
       "      <th>work_text_reviews_count</th>\n",
       "      <th>ratings_1</th>\n",
       "      <th>ratings_2</th>\n",
       "      <th>ratings_3</th>\n",
       "      <th>ratings_4</th>\n",
       "      <th>ratings_5</th>\n",
       "      <th>image_url</th>\n",
       "      <th>small_image_url</th>\n",
       "    </tr>\n",
       "  </thead>\n",
       "  <tbody>\n",
       "    <tr>\n",
       "      <th>78</th>\n",
       "      <td>79</td>\n",
       "      <td>1381</td>\n",
       "      <td>1381</td>\n",
       "      <td>3356006</td>\n",
       "      <td>1703</td>\n",
       "      <td>143039954</td>\n",
       "      <td>9.780143e+12</td>\n",
       "      <td>Homer, Robert Fagles, E.V. Rieu, Frédéric Mugl...</td>\n",
       "      <td>-720.0</td>\n",
       "      <td>Ὀδύσσεια</td>\n",
       "      <td>...</td>\n",
       "      <td>670326</td>\n",
       "      <td>710757</td>\n",
       "      <td>8101</td>\n",
       "      <td>29703</td>\n",
       "      <td>65629</td>\n",
       "      <td>183082</td>\n",
       "      <td>224120</td>\n",
       "      <td>208223</td>\n",
       "      <td>https://images.gr-assets.com/books/1390173285m...</td>\n",
       "      <td>https://images.gr-assets.com/books/1390173285s...</td>\n",
       "    </tr>\n",
       "    <tr>\n",
       "      <th>340</th>\n",
       "      <td>341</td>\n",
       "      <td>1371</td>\n",
       "      <td>1371</td>\n",
       "      <td>3293141</td>\n",
       "      <td>1726</td>\n",
       "      <td>140275363</td>\n",
       "      <td>9.780140e+12</td>\n",
       "      <td>Homer, Robert Fagles, Frédéric Mugler, Bernard...</td>\n",
       "      <td>-750.0</td>\n",
       "      <td>Ἰλιάς</td>\n",
       "      <td>...</td>\n",
       "      <td>241088</td>\n",
       "      <td>273565</td>\n",
       "      <td>4763</td>\n",
       "      <td>7701</td>\n",
       "      <td>20845</td>\n",
       "      <td>68844</td>\n",
       "      <td>89384</td>\n",
       "      <td>86791</td>\n",
       "      <td>https://s.gr-assets.com/assets/nophoto/book/11...</td>\n",
       "      <td>https://s.gr-assets.com/assets/nophoto/book/50...</td>\n",
       "    </tr>\n",
       "    <tr>\n",
       "      <th>402</th>\n",
       "      <td>403</td>\n",
       "      <td>10534</td>\n",
       "      <td>10534</td>\n",
       "      <td>3200649</td>\n",
       "      <td>1865</td>\n",
       "      <td>1590302257</td>\n",
       "      <td>9.781590e+12</td>\n",
       "      <td>Sun Tzu, Thomas Cleary</td>\n",
       "      <td>-500.0</td>\n",
       "      <td>孫子兵法 [Sūnzi bīngfǎ]</td>\n",
       "      <td>...</td>\n",
       "      <td>167332</td>\n",
       "      <td>203948</td>\n",
       "      <td>6335</td>\n",
       "      <td>2930</td>\n",
       "      <td>11589</td>\n",
       "      <td>48265</td>\n",
       "      <td>70644</td>\n",
       "      <td>70520</td>\n",
       "      <td>https://images.gr-assets.com/books/1453417993m...</td>\n",
       "      <td>https://images.gr-assets.com/books/1453417993s...</td>\n",
       "    </tr>\n",
       "    <tr>\n",
       "      <th>771</th>\n",
       "      <td>772</td>\n",
       "      <td>30289</td>\n",
       "      <td>30289</td>\n",
       "      <td>1625515</td>\n",
       "      <td>842</td>\n",
       "      <td>140449140</td>\n",
       "      <td>9.780140e+12</td>\n",
       "      <td>Plato, Desmond Lee</td>\n",
       "      <td>-380.0</td>\n",
       "      <td>Πολιτεία</td>\n",
       "      <td>...</td>\n",
       "      <td>110274</td>\n",
       "      <td>122747</td>\n",
       "      <td>2261</td>\n",
       "      <td>2772</td>\n",
       "      <td>7531</td>\n",
       "      <td>29394</td>\n",
       "      <td>42284</td>\n",
       "      <td>40766</td>\n",
       "      <td>https://s.gr-assets.com/assets/nophoto/book/11...</td>\n",
       "      <td>https://s.gr-assets.com/assets/nophoto/book/50...</td>\n",
       "    </tr>\n",
       "    <tr>\n",
       "      <th>823</th>\n",
       "      <td>824</td>\n",
       "      <td>1554</td>\n",
       "      <td>1554</td>\n",
       "      <td>3098166</td>\n",
       "      <td>498</td>\n",
       "      <td>1580495931</td>\n",
       "      <td>9.781580e+12</td>\n",
       "      <td>Sophocles, J.E. Thomas</td>\n",
       "      <td>-430.0</td>\n",
       "      <td>Οἰδίπους Τύραννος</td>\n",
       "      <td>...</td>\n",
       "      <td>119496</td>\n",
       "      <td>134384</td>\n",
       "      <td>2129</td>\n",
       "      <td>3032</td>\n",
       "      <td>12324</td>\n",
       "      <td>42020</td>\n",
       "      <td>45436</td>\n",
       "      <td>31572</td>\n",
       "      <td>https://s.gr-assets.com/assets/nophoto/book/11...</td>\n",
       "      <td>https://s.gr-assets.com/assets/nophoto/book/50...</td>\n",
       "    </tr>\n",
       "  </tbody>\n",
       "</table>\n",
       "<p>5 rows × 23 columns</p>\n",
       "</div>"
      ],
      "text/plain": [
       "     book_id  goodreads_book_id  best_book_id  work_id  books_count  \\\n",
       "78        79               1381          1381  3356006         1703   \n",
       "340      341               1371          1371  3293141         1726   \n",
       "402      403              10534         10534  3200649         1865   \n",
       "771      772              30289         30289  1625515          842   \n",
       "823      824               1554          1554  3098166          498   \n",
       "\n",
       "           isbn        isbn13  \\\n",
       "78    143039954  9.780143e+12   \n",
       "340   140275363  9.780140e+12   \n",
       "402  1590302257  9.781590e+12   \n",
       "771   140449140  9.780140e+12   \n",
       "823  1580495931  9.781580e+12   \n",
       "\n",
       "                                               authors  \\\n",
       "78   Homer, Robert Fagles, E.V. Rieu, Frédéric Mugl...   \n",
       "340  Homer, Robert Fagles, Frédéric Mugler, Bernard...   \n",
       "402                             Sun Tzu, Thomas Cleary   \n",
       "771                                 Plato, Desmond Lee   \n",
       "823                             Sophocles, J.E. Thomas   \n",
       "\n",
       "     original_publication_year       original_title  ... ratings_count  \\\n",
       "78                      -720.0             Ὀδύσσεια  ...        670326   \n",
       "340                     -750.0                Ἰλιάς  ...        241088   \n",
       "402                     -500.0  孫子兵法 [Sūnzi bīngfǎ]  ...        167332   \n",
       "771                     -380.0             Πολιτεία  ...        110274   \n",
       "823                     -430.0    Οἰδίπους Τύραννος  ...        119496   \n",
       "\n",
       "    work_ratings_count  work_text_reviews_count  ratings_1  ratings_2  \\\n",
       "78              710757                     8101      29703      65629   \n",
       "340             273565                     4763       7701      20845   \n",
       "402             203948                     6335       2930      11589   \n",
       "771             122747                     2261       2772       7531   \n",
       "823             134384                     2129       3032      12324   \n",
       "\n",
       "     ratings_3  ratings_4  ratings_5  \\\n",
       "78      183082     224120     208223   \n",
       "340      68844      89384      86791   \n",
       "402      48265      70644      70520   \n",
       "771      29394      42284      40766   \n",
       "823      42020      45436      31572   \n",
       "\n",
       "                                             image_url  \\\n",
       "78   https://images.gr-assets.com/books/1390173285m...   \n",
       "340  https://s.gr-assets.com/assets/nophoto/book/11...   \n",
       "402  https://images.gr-assets.com/books/1453417993m...   \n",
       "771  https://s.gr-assets.com/assets/nophoto/book/11...   \n",
       "823  https://s.gr-assets.com/assets/nophoto/book/11...   \n",
       "\n",
       "                                       small_image_url  \n",
       "78   https://images.gr-assets.com/books/1390173285s...  \n",
       "340  https://s.gr-assets.com/assets/nophoto/book/50...  \n",
       "402  https://images.gr-assets.com/books/1453417993s...  \n",
       "771  https://s.gr-assets.com/assets/nophoto/book/50...  \n",
       "823  https://s.gr-assets.com/assets/nophoto/book/50...  \n",
       "\n",
       "[5 rows x 23 columns]"
      ]
     },
     "execution_count": 7,
     "metadata": {},
     "output_type": "execute_result"
    }
   ],
   "source": [
    "book[book['original_publication_year'] < 0].head()"
   ]
  },
  {
   "cell_type": "markdown",
   "id": "exotic-photographer",
   "metadata": {},
   "source": [
    "### ✅ Checking outliers of average_rating : Average rating must be in range 1 to 5 "
   ]
  },
  {
   "cell_type": "markdown",
   "id": "duplicate-reader",
   "metadata": {},
   "source": [
    "<div style=\"color:red\", align=\"justify\"><h4>\n",
    "📌 There isn't any outlier value in average-rating column"
   ]
  },
  {
   "cell_type": "code",
   "execution_count": 8,
   "id": "reflected-singer",
   "metadata": {},
   "outputs": [
    {
     "name": "stdout",
     "output_type": "stream",
     "text": [
      "Average rating differ from 2.47 to 4.82\n"
     ]
    }
   ],
   "source": [
    "print('Average rating differ from {} to {}'.format(book['average_rating'].min(), book['average_rating'].max()))"
   ]
  },
  {
   "cell_type": "markdown",
   "id": "adaptive-messaging",
   "metadata": {},
   "source": [
    "### ✅ Checking outliers of isbn13 : Validation of isbn13 using pyisbn library"
   ]
  },
  {
   "cell_type": "code",
   "execution_count": 11,
   "id": "alternate-adams",
   "metadata": {},
   "outputs": [],
   "source": [
    "import sys\n",
    "from isbntools.app import *\n",
    "import pyisbn\n",
    "import time"
   ]
  },
  {
   "cell_type": "code",
   "execution_count": 12,
   "id": "exciting-hunger",
   "metadata": {},
   "outputs": [],
   "source": [
    "valid_isbn13 = []\n",
    "invalid_isbn13 = []\n",
    "\n",
    "for i in range (len(book)):\n",
    "    try:\n",
    "        if pyisbn.validate(str(int(book.loc[i].isbn13))) != True:\n",
    "            invalid_isbn13.append(i)   \n",
    "        else:\n",
    "            valid_isbn13.append(i)\n",
    "    except:\n",
    "            invalid_isbn13.append(i)"
   ]
  },
  {
   "cell_type": "markdown",
   "id": "quality-exclusion",
   "metadata": {},
   "source": [
    "<div style=\"color:red\", align=\"justify\"><h4>\n",
    "📌 There is some outlier value in isbn13 column\n",
    "<div style=\"color:green\", align=\"justify\"><h4>\n",
    "✔️ We use isbntool and pyisbn to imputing correct isbn13"
   ]
  },
  {
   "cell_type": "code",
   "execution_count": 13,
   "id": "demographic-spokesman",
   "metadata": {},
   "outputs": [
    {
     "name": "stdout",
     "output_type": "stream",
     "text": [
      "There is 9043 ivalid isbn13 and 957 valid isbn13 !\n"
     ]
    }
   ],
   "source": [
    "print('There is {} ivalid isbn13 and {} valid isbn13 !'.format(len(invalid_isbn13), len(valid_isbn13)))"
   ]
  },
  {
   "cell_type": "code",
   "execution_count": 14,
   "id": "subsequent-visibility",
   "metadata": {},
   "outputs": [
    {
     "name": "stdout",
     "output_type": "stream",
     "text": [
      "An example of invalid isbn13 : 9780439023480.0\n"
     ]
    }
   ],
   "source": [
    "print('An example of invalid isbn13 :', book.loc[invalid_isbn13[0]]['isbn13'])"
   ]
  },
  {
   "cell_type": "code",
   "execution_count": 15,
   "id": "satellite-chemical",
   "metadata": {},
   "outputs": [
    {
     "data": {
      "image/png": "[encoded data removed]",
      "text/plain": [
       "<IPython.core.display.Image object>"
      ]
     },
     "execution_count": 15,
     "metadata": {},
     "output_type": "execute_result"
    }
   ],
   "source": [
    "from IPython.display import Image\n",
    "Image(\"C:/Users/User/Downloads/test2/isbn_invalid.png\")"
   ]
  },
  {
   "cell_type": "code",
   "execution_count": 16,
   "id": "digital-jason",
   "metadata": {},
   "outputs": [
    {
     "name": "stdout",
     "output_type": "stream",
     "text": [
      "An example of valid isbn13 : 9780439554930.0\n"
     ]
    }
   ],
   "source": [
    "print('An example of valid isbn13 :', book.loc[valid_isbn13[0]]['isbn13'])"
   ]
  },
  {
   "cell_type": "code",
   "execution_count": 17,
   "id": "going-discharge",
   "metadata": {},
   "outputs": [
    {
     "data": {
      "image/png": "[encoded data removed]",
      "text/plain": [
       "<IPython.core.display.Image object>"
      ]
     },
     "execution_count": 17,
     "metadata": {},
     "output_type": "execute_result"
    }
   ],
   "source": [
    "Image(\"C:/Users/User/Downloads/test2/isbn_valid.png\")"
   ]
  },
  {
   "cell_type": "markdown",
   "id": "thousand-colleague",
   "metadata": {},
   "source": [
    "### ✅ Checking outliers of work_ratings_count : Work_ratings_count must be the sum of ratings_1 to ratings_5"
   ]
  },
  {
   "cell_type": "code",
   "execution_count": 23,
   "id": "forward-preserve",
   "metadata": {},
   "outputs": [],
   "source": [
    "invalid_work_ratings_count = 0\n",
    "for i in range(len(book)):\n",
    "    if book.loc[i]['work_ratings_count'] != (book.loc[i]['ratings_1'] + book.loc[i]['ratings_2'] + \n",
    "                                             book.loc[i]['ratings_3'] + book.loc[i]['ratings_4'] + \n",
    "                                             book.loc[i]['ratings_5']):\n",
    "        invalid_work_ratings_count += 1"
   ]
  },
  {
   "cell_type": "markdown",
   "id": "aerial-insulin",
   "metadata": {},
   "source": [
    "<div style=\"color:red\", align=\"justify\"><h4>\n",
    "📌 There isn't any outlier value in work_ratings_count column"
   ]
  },
  {
   "cell_type": "code",
   "execution_count": 24,
   "id": "linear-exploration",
   "metadata": {},
   "outputs": [
    {
     "data": {
      "text/plain": [
       "0"
      ]
     },
     "execution_count": 24,
     "metadata": {},
     "output_type": "execute_result"
    }
   ],
   "source": [
    "invalid_work_ratings_count"
   ]
  },
  {
   "cell_type": "markdown",
   "id": "relevant-journalist",
   "metadata": {},
   "source": [
    "<div style=\"\", align=\"justify\"><h3>\n",
    "⚫ checking ratings dataset outliers\n",
    "<hr style=\"border:1px solid gray\">"
   ]
  },
  {
   "cell_type": "code",
   "execution_count": 37,
   "id": "accomplished-vinyl",
   "metadata": {},
   "outputs": [
    {
     "name": "stdout",
     "output_type": "stream",
     "text": [
      "<class 'pandas.core.frame.DataFrame'>\n",
      "RangeIndex: 5976479 entries, 0 to 5976478\n",
      "Data columns (total 3 columns):\n",
      " #   Column   Dtype\n",
      "---  ------   -----\n",
      " 0   user_id  int64\n",
      " 1   book_id  int64\n",
      " 2   rating   int64\n",
      "dtypes: int64(3)\n",
      "memory usage: 136.8 MB\n"
     ]
    }
   ],
   "source": [
    "rating.info()"
   ]
  },
  {
   "cell_type": "markdown",
   "id": "legislative-cement",
   "metadata": {},
   "source": [
    "### ✅ Checking outliers of book_id : Book_ids in rating dataset must be in range 1 to 10000"
   ]
  },
  {
   "cell_type": "markdown",
   "id": "undefined-rapid",
   "metadata": {},
   "source": [
    "<div style=\"color:red\", align=\"justify\"><h4>\n",
    "📌 There isn't any outlier value in book_id column"
   ]
  },
  {
   "cell_type": "code",
   "execution_count": 45,
   "id": "threaded-sense",
   "metadata": {},
   "outputs": [
    {
     "name": "stdout",
     "output_type": "stream",
     "text": [
      "book_id differ from 1 to 10000\n"
     ]
    }
   ],
   "source": [
    "print('book_id differ from {} to {}'.format(rating['book_id'].min(), rating['book_id'].max()))"
   ]
  },
  {
   "cell_type": "markdown",
   "id": "japanese-guitar",
   "metadata": {},
   "source": [
    "### ✅ Checking outliers of user_id : User_ids in rating dataset must be in range 1 to 53424"
   ]
  },
  {
   "cell_type": "markdown",
   "id": "progressive-arena",
   "metadata": {},
   "source": [
    "<div style=\"color:red\", align=\"justify\"><h4>\n",
    "📌 There isn't any outlier value in user_id column"
   ]
  },
  {
   "cell_type": "code",
   "execution_count": 43,
   "id": "everyday-compression",
   "metadata": {},
   "outputs": [
    {
     "name": "stdout",
     "output_type": "stream",
     "text": [
      "user_id differ from 1 to 53424\n"
     ]
    }
   ],
   "source": [
    "print('user_id differ from {} to {}'.format(rating['user_id'].min(), rating['user_id'].max()))"
   ]
  },
  {
   "cell_type": "markdown",
   "id": "substantial-beast",
   "metadata": {},
   "source": [
    "### ✅ Checking outliers of rating : Rating must be in range 1 to 5"
   ]
  },
  {
   "cell_type": "markdown",
   "id": "following-alfred",
   "metadata": {},
   "source": [
    "<div style=\"color:red\", align=\"justify\"><h4>\n",
    "📌 There isn't any outlier value in rating column"
   ]
  },
  {
   "cell_type": "code",
   "execution_count": 42,
   "id": "social-secondary",
   "metadata": {},
   "outputs": [
    {
     "name": "stdout",
     "output_type": "stream",
     "text": [
      "rating differ from 1 to 5\n"
     ]
    }
   ],
   "source": [
    "print('rating differ from {} to {}'.format(rating['rating'].min(), rating['rating'].max()))"
   ]
  },
  {
   "cell_type": "markdown",
   "id": "established-anderson",
   "metadata": {},
   "source": [
    "<div style=\"\", align=\"justify\"><h3>\n",
    "⚫ checking to_read dataset outliers\n",
    "<hr style=\"border:1px solid gray\">"
   ]
  },
  {
   "cell_type": "code",
   "execution_count": 39,
   "id": "republican-client",
   "metadata": {},
   "outputs": [
    {
     "name": "stdout",
     "output_type": "stream",
     "text": [
      "<class 'pandas.core.frame.DataFrame'>\n",
      "RangeIndex: 912705 entries, 0 to 912704\n",
      "Data columns (total 2 columns):\n",
      " #   Column   Non-Null Count   Dtype\n",
      "---  ------   --------------   -----\n",
      " 0   user_id  912705 non-null  int64\n",
      " 1   book_id  912705 non-null  int64\n",
      "dtypes: int64(2)\n",
      "memory usage: 13.9 MB\n"
     ]
    }
   ],
   "source": [
    "to_read.info()"
   ]
  },
  {
   "cell_type": "markdown",
   "id": "norwegian-shirt",
   "metadata": {},
   "source": [
    "### ✅ Checking outliers of book_id : Book_ids in to_read dataset must be in range 1 to 10000"
   ]
  },
  {
   "cell_type": "markdown",
   "id": "adolescent-lighter",
   "metadata": {},
   "source": [
    "<div style=\"color:red\", align=\"justify\"><h4>\n",
    "📌 There isn't any outlier value in book_id column"
   ]
  },
  {
   "cell_type": "code",
   "execution_count": 46,
   "id": "adult-forward",
   "metadata": {},
   "outputs": [
    {
     "name": "stdout",
     "output_type": "stream",
     "text": [
      "book_id differ from 1 to 10000\n"
     ]
    }
   ],
   "source": [
    "print('book_id differ from {} to {}'.format(to_read['book_id'].min(), to_read['book_id'].max()))"
   ]
  },
  {
   "cell_type": "markdown",
   "id": "careful-religious",
   "metadata": {},
   "source": [
    "### ✅ Checking outliers of user_id : User_ids in to_read dataset must be in range 1 to 53424"
   ]
  },
  {
   "cell_type": "markdown",
   "id": "primary-million",
   "metadata": {},
   "source": [
    "<div style=\"color:red\", align=\"justify\"><h4>\n",
    "📌 There isn't any outlier value in user_id column"
   ]
  },
  {
   "cell_type": "code",
   "execution_count": 47,
   "id": "twenty-bhutan",
   "metadata": {},
   "outputs": [
    {
     "name": "stdout",
     "output_type": "stream",
     "text": [
      "user_id differ from 1 to 53424\n"
     ]
    }
   ],
   "source": [
    "print('user_id differ from {} to {}'.format(to_read['user_id'].min(), to_read['user_id'].max()))"
   ]
  },
  {
   "cell_type": "markdown",
   "id": "statutory-particular",
   "metadata": {},
   "source": [
    "## 📑 Data cleaning"
   ]
  },
  {
   "cell_type": "code",
   "execution_count": 27,
   "id": "minor-assessment",
   "metadata": {},
   "outputs": [
    {
     "name": "stdout",
     "output_type": "stream",
     "text": [
      "<class 'pandas.core.frame.DataFrame'>\n",
      "RangeIndex: 10000 entries, 0 to 9999\n",
      "Data columns (total 23 columns):\n",
      " #   Column                     Non-Null Count  Dtype  \n",
      "---  ------                     --------------  -----  \n",
      " 0   book_id                    10000 non-null  int64  \n",
      " 1   goodreads_book_id          10000 non-null  int64  \n",
      " 2   best_book_id               10000 non-null  int64  \n",
      " 3   work_id                    10000 non-null  int64  \n",
      " 4   books_count                10000 non-null  int64  \n",
      " 5   isbn                       9300 non-null   object \n",
      " 6   isbn13                     9415 non-null   float64\n",
      " 7   authors                    10000 non-null  object \n",
      " 8   original_publication_year  9979 non-null   float64\n",
      " 9   original_title             9415 non-null   object \n",
      " 10  title                      10000 non-null  object \n",
      " 11  language_code              8916 non-null   object \n",
      " 12  average_rating             10000 non-null  float64\n",
      " 13  ratings_count              10000 non-null  int64  \n",
      " 14  work_ratings_count         10000 non-null  int64  \n",
      " 15  work_text_reviews_count    10000 non-null  int64  \n",
      " 16  ratings_1                  10000 non-null  int64  \n",
      " 17  ratings_2                  10000 non-null  int64  \n",
      " 18  ratings_3                  10000 non-null  int64  \n",
      " 19  ratings_4                  10000 non-null  int64  \n",
      " 20  ratings_5                  10000 non-null  int64  \n",
      " 21  image_url                  10000 non-null  object \n",
      " 22  small_image_url            10000 non-null  object \n",
      "dtypes: float64(3), int64(13), object(7)\n",
      "memory usage: 1.8+ MB\n"
     ]
    }
   ],
   "source": [
    "book.info()"
   ]
  },
  {
   "cell_type": "markdown",
   "id": "varying-preview",
   "metadata": {},
   "source": [
    "### ✅ Checking the missing values of book dataset"
   ]
  },
  {
   "cell_type": "markdown",
   "id": "identified-culture",
   "metadata": {},
   "source": [
    "<div style=\"direction:rtl\", align=\"justify\"><h3>\n",
    "<span style='font-family:\"B Nazanin\"'>\n",
    "با توجه به اینکه متغیر های isbn و isnb13 شماره اشتراک بین المللی کتاب هستند به نوعی identifier بوده و به ازای هر کتاب مقدار منحصر به فرد دارند لذا در مدلسازی به کار نمی آیند اما با داشتن آن ها می توان سایر اطلاعات با اهمیت درباره کتاب ها را استخراج نمود. با داشتن isbn13 و کتابخانه pyisbn می توان به ازای رکورد هایی که حاوی مقدار نال برای ستون های سال چاپ و زبان هستند مقادیر معتبر نظیر این ستون ها را یافته و جایگذاری کرد. به علاوه ستون original_title نیز مورد استفاده ما در مدل سازی نمی باشد چرا که وجود title کافی است.\n"
   ]
  },
  {
   "cell_type": "code",
   "execution_count": 29,
   "id": "processed-touch",
   "metadata": {},
   "outputs": [
    {
     "data": {
      "text/plain": [
       "book_id                         0\n",
       "goodreads_book_id               0\n",
       "best_book_id                    0\n",
       "work_id                         0\n",
       "books_count                     0\n",
       "isbn                          700\n",
       "isbn13                        585\n",
       "authors                         0\n",
       "original_publication_year      21\n",
       "original_title                585\n",
       "title                           0\n",
       "language_code                1084\n",
       "average_rating                  0\n",
       "ratings_count                   0\n",
       "work_ratings_count              0\n",
       "work_text_reviews_count         0\n",
       "ratings_1                       0\n",
       "ratings_2                       0\n",
       "ratings_3                       0\n",
       "ratings_4                       0\n",
       "ratings_5                       0\n",
       "image_url                       0\n",
       "small_image_url                 0\n",
       "dtype: int64"
      ]
     },
     "execution_count": 29,
     "metadata": {},
     "output_type": "execute_result"
    }
   ],
   "source": [
    "book.isnull().sum()"
   ]
  },
  {
   "cell_type": "markdown",
   "id": "broken-fleece",
   "metadata": {},
   "source": [
    "<div style=\"color:red;\", align=\"justify\" ><h4>\n",
    "📌 isbn has 700, isbn13 has 585, original_publication_year has 21, original_title has 585 and language_code has 1084 null values.\n",
    "<div style=\"color:green\", align=\"justify\"><h4>\n",
    "✔️ We use isbntool and pyisbn to filling null values"
   ]
  },
  {
   "cell_type": "markdown",
   "id": "comic-yahoo",
   "metadata": {},
   "source": [
    "https://pyisbn.readthedocs.io/en/latest/_modules/pyisbn.html"
   ]
  },
  {
   "cell_type": "code",
   "execution_count": 5,
   "id": "hungry-identifier",
   "metadata": {},
   "outputs": [],
   "source": [
    "import sys\n",
    "from isbntools.app import *\n",
    "import pyisbn\n",
    "import time"
   ]
  },
  {
   "cell_type": "markdown",
   "id": "complete-technique",
   "metadata": {},
   "source": [
    "### ✅ Imputation and correct isbn13"
   ]
  },
  {
   "cell_type": "markdown",
   "id": "joint-stand",
   "metadata": {},
   "source": [
    "<div style=\"direction:rtl\", align=\"justify\"><h3>\n",
    "<span style='font-family:\"B Nazanin\"'>\n",
    "تابع isbn_creator با بهره گیری از ابزار isbntools و کتابخانه pyisbn از روی نام نویسندگان و عنوان کتاب به کمک تابع آماده isb_from_words به isbn13 دست پیدا می کند و مقدار آن را در ستون متناظر قرار می دهیم. با توجه به حجم زیاد درخواست ها ممکن است عمل جستجو و resolve شماره اشتراک با موفقت همراه نباشد لذا اندیس نظیر رکورد هایی که مقدار isbn13 معتبر آن ها با موفقیت بدست نیامده است را درون لیست exception_isbn ذخیره کرده و در ادامه مجددا برای جستجوی آن ها تلاش خواهیم کرد. "
   ]
  },
  {
   "cell_type": "code",
   "execution_count": 5,
   "id": "looking-tactics",
   "metadata": {},
   "outputs": [],
   "source": [
    "def isbn_creator(strat_indx, end_indx):\n",
    "    exception_isbn = []\n",
    "    for i in book[(book.book_id < end_indx) & (book.book_id >= strat_indx)].index:\n",
    "        try:\n",
    "            isbn13 = isbn_from_words(str(book.loc[i].title + ' ' + book.loc[i].authors))\n",
    "            book.loc[i,'isbn13'] = isbn13\n",
    "            time.sleep(0.2)\n",
    "        except:\n",
    "            exception_isbn.append(i)\n",
    "            print(i, \"Next entry\")\n",
    "    return exception_isbn"
   ]
  },
  {
   "cell_type": "markdown",
   "id": "metropolitan-uzbekistan",
   "metadata": {},
   "source": [
    "<div style=\"direction:rtl\", align=\"justify\"><h3>\n",
    "<span style='font-family:\"B Nazanin\"'>\n",
    "در این قسمت تابع second_isbn_creator لیستی از اندیس کتاب هایی که شماره اشتراک آن ها قبلا بدست نیامده بود را دریافت کرده و مجددا برای resolve آن ها تلاش می کند."
   ]
  },
  {
   "cell_type": "code",
   "execution_count": 6,
   "id": "concerned-spring",
   "metadata": {},
   "outputs": [],
   "source": [
    "def second_isbn_creator(unavailables):\n",
    "    exception_isbn = []\n",
    "    for i in unavailables:\n",
    "        try:\n",
    "            isbn13 = isbn_from_words(str(book.loc[i].title + ' ' + book.loc[i].authors))\n",
    "            book.loc[i,'isbn13'] = isbn13\n",
    "            time.sleep(0.2)\n",
    "        except:\n",
    "            exception_isbn.append(i)\n",
    "            print(i, \"Next entry\")\n",
    "    return exception_isbn"
   ]
  },
  {
   "cell_type": "markdown",
   "id": "married-brass",
   "metadata": {},
   "source": [
    "<div style=\"direction:rtl\", align=\"justify\"><h3>\n",
    "<span style='font-family:\"B Nazanin\"'>\n",
    "به این ترتیب ابتدا isbn13 نظر تمام رکورد های دیتاست را با استفاده از تابع isbn_creator بدست می آوریم و خروجی این تابع لیستی از کتاب هایی است که عمل جستجوی isbn13 نظیر آن ها موفقیت آمیز نبوده است. در مراحل بعدی این لیست را به تابع second_isbn_creator داده و برای resolve مجدد آن ها تلاش می کنیم به دلیل تعداد request های زیاد این کار را تا چند مرحله تکرار می کنیم تا انجا که اطمینان یابیم تنها isbn13 هایی resolve نشده اند که از روی نام نویسنده و عنوان کتاب قابل جستجو نبوده اند. "
   ]
  },
  {
   "cell_type": "code",
   "execution_count": 16,
   "id": "military-assumption",
   "metadata": {},
   "outputs": [
    {
     "name": "stdout",
     "output_type": "stream",
     "text": [
      "67  book is not available for getting isbn13\n",
      "____________________________________________________________\n",
      "[193, 395, 1178, 2024, 2811, 3145, 3296, 3505, 3527, 3655, 3753, 3864, 3907, 4008, 4044, 4070, 4164, 4204, 4325, 4393, 4412, 4466, 4514, 4516, 4733, 4764, 4809, 4874, 5171, 5232, 5265, 5325, 5390, 5947, 6063, 6096, 6134, 6199, 6233, 6254, 6255, 6256, 6257, 6259, 6261, 6263, 6366, 6528, 7393, 7503, 7718, 8083, 8342, 8379, 8408, 8919, 9084, 9142, 9327, 9371, 9386, 9521, 9666, 9690, 9766, 9771, 9961]\n"
     ]
    }
   ],
   "source": [
    "unavailables = []\n",
    "for i in range(0, 10000, 500):\n",
    "    exception_isbn = isbn_creator(i, i+501)\n",
    "    for exc in exception_isbn:\n",
    "        unavailables.append(exc)\n",
    "\n",
    "print (len(unavailables), ' book is not available for getting isbn13')\n",
    "print ('____________________________________________________________')\n",
    "print (unavailables)"
   ]
  },
  {
   "cell_type": "code",
   "execution_count": 28,
   "id": "nasty-specific",
   "metadata": {},
   "outputs": [
    {
     "name": "stdout",
     "output_type": "stream",
     "text": [
      "12  book is not available for getting isbn13\n",
      "____________________________________________________________\n",
      "[193, 2811, 4044, 4412, 4733, 5171, 6096, 6134, 6233, 7503, 9690, 9766]\n"
     ]
    }
   ],
   "source": [
    "exception_isbn = second_isbn_creator(unavailables)\n",
    "\n",
    "print (len(exception_isbn), ' book is not available for getting isbn13')\n",
    "print ('____________________________________________________________')\n",
    "print (exception_isbn)"
   ]
  },
  {
   "cell_type": "code",
   "execution_count": 84,
   "id": "intellectual-lesbian",
   "metadata": {},
   "outputs": [
    {
     "name": "stdout",
     "output_type": "stream",
     "text": [
      "0  book is not available for getting isbn13\n",
      "____________________________________________________________\n",
      "[]\n"
     ]
    }
   ],
   "source": [
    "for i in range(0, 20):\n",
    "    exception_isbn = second_isbn_creator(exception_isbn)\n",
    "    \n",
    "print (len(exception_isbn), ' book is not available for getting isbn13')\n",
    "print ('____________________________________________________________')\n",
    "print (exception_isbn)"
   ]
  },
  {
   "cell_type": "code",
   "execution_count": 161,
   "id": "theoretical-compromise",
   "metadata": {},
   "outputs": [],
   "source": [
    "book.to_csv(path + 'book_no_null.csv', index=False)"
   ]
  },
  {
   "cell_type": "markdown",
   "id": "placed-decrease",
   "metadata": {},
   "source": [
    "<div style=\"direction:rtl\", align=\"justify\">\n",
    "در انتها دیتافریم حاوی isbn13 های معتبر را در دیتاست book_no_null.csv ذخیره سازی کرده و در گام های بعدی ازین دیتاست استفاده می نماییم."
   ]
  },
  {
   "cell_type": "markdown",
   "id": "disabled-component",
   "metadata": {},
   "source": [
    "### ✅ Check validity and remaining null in isbn13"
   ]
  },
  {
   "cell_type": "markdown",
   "id": "norwegian-hartford",
   "metadata": {},
   "source": [
    "<div style=\"direction:rtl\", align=\"justify\"> <h3>\n",
    "<span style='font-family:\"B Nazanin\"'>\n",
    "در ادامه به وسیله تابع validate_isbn که از تابع آماده validate موجود در کتابخانه pyisbn بهره می گیرد مقادیر isbn13 نظر تمام رکورد های دیتافریم مرحله قبل را اعتبار سنجی می کنیم و در صورتی که معتبر نباشند آن ها را در لیست IsInvalid و درصورتی که null باشند در لیست IsNull ذخیره سازی می کنیم. "
   ]
  },
  {
   "cell_type": "code",
   "execution_count": 7,
   "id": "fewer-familiar",
   "metadata": {},
   "outputs": [],
   "source": [
    "def validate_isbn(strat_indx, end_indx):\n",
    "    IsNull = []\n",
    "    IsInvalid = []\n",
    "    for i in book[(book.book_id < end_indx) & (book.book_id >=strat_indx)].index:\n",
    "        try:\n",
    "            if pyisbn.validate(str(int(book.loc[i].isbn13))) != True:\n",
    "                IsInvalid.append(i)\n",
    "        except:\n",
    "            IsNull.append(i)\n",
    "            \n",
    "    return (IsNull, IsInvalid)"
   ]
  },
  {
   "cell_type": "markdown",
   "id": "incident-consciousness",
   "metadata": {},
   "source": [
    "<div style=\"direction:rtl\", align=\"justify\"> <h3>\n",
    "<span style='font-family:\"B Nazanin\"'>\n",
    "چنانچه request دریافت isbn13 موفقیت آمیز نباشد و به دلیل ترافیک بالا یا یافت نشدن   کتاب resolve نشود رشته تهی برگردانده می شود که نیاز است رکورد های حاوی این مقدار را ابتدا با NaN جایگذاری کرده و سپس عمل اعتبار سنجی isbn13 را انجام دهیم."
   ]
  },
  {
   "cell_type": "code",
   "execution_count": 127,
   "id": "married-combination",
   "metadata": {},
   "outputs": [],
   "source": [
    "book['isbn13'].replace({'': np.nan}, inplace = True)"
   ]
  },
  {
   "cell_type": "markdown",
   "id": "athletic-tower",
   "metadata": {},
   "source": [
    "<div style=\"direction:rtl\", align=\"justify\"> <h3>\n",
    "<span style='font-family:\"B Nazanin\"'>\n",
    "لیست IsInvalid خالی است لذا تمام isbn13 های موجود یا معتبر یا Null هستند."
   ]
  },
  {
   "cell_type": "code",
   "execution_count": 102,
   "id": "studied-refund",
   "metadata": {},
   "outputs": [
    {
     "name": "stdout",
     "output_type": "stream",
     "text": [
      "0  isbn is not valid\n",
      "____________________________________________________________\n",
      "[]\n"
     ]
    }
   ],
   "source": [
    "IsNull, IsInvalid = validate_isbn(0, 10000)\n",
    "print (len(IsInvalid), ' isbn is not valid')\n",
    "print ('____________________________________________________________')\n",
    "print(IsInvalid)"
   ]
  },
  {
   "cell_type": "markdown",
   "id": "potential-router",
   "metadata": {},
   "source": [
    "<div style=\"direction:rtl\", align=\"justify\"> <h3>\n",
    "<span style='font-family:\"B Nazanin\"'>\n",
    "84 مورد کتاب در میان ده هزار کتاب وجود دارد که isbn13 آن ها Null بوده و در مراحل قبلی resolve نشده است."
   ]
  },
  {
   "cell_type": "code",
   "execution_count": 103,
   "id": "opponent-authorization",
   "metadata": {},
   "outputs": [
    {
     "name": "stdout",
     "output_type": "stream",
     "text": [
      "84  isbn is null\n",
      "____________________________________________________________\n",
      "[726, 1053, 1113, 1179, 1196, 1225, 1772, 1832, 1894, 2164, 2442, 2936, 3198, 3266, 3371, 3394, 3632, 3824, 4005, 4065, 4105, 4160, 4204, 4414, 4441, 4606, 4637, 4675, 4687, 4821, 4891, 4934, 5052, 5209, 5359, 5376, 5646, 5678, 5715, 5868, 6194, 6260, 6451, 6600, 6742, 7084, 7166, 7224, 7471, 7568, 7619, 7638, 7674, 7782, 7934, 8039, 8078, 8108, 8111, 8143, 8246, 8335, 8431, 8482, 8486, 8522, 8758, 8868, 8881, 8912, 9043, 9066, 9121, 9140, 9178, 9220, 9320, 9384, 9557, 9609, 9619, 9677, 9689, 9857]\n"
     ]
    }
   ],
   "source": [
    "print (len(IsNull), ' isbn is null')\n",
    "print ('____________________________________________________________')\n",
    "print(IsNull)"
   ]
  },
  {
   "cell_type": "markdown",
   "id": "chinese-motorcycle",
   "metadata": {},
   "source": [
    "<div style=\"direction:rtl\", align=\"justify\"> <h3>\n",
    "<span style='font-family:\"B Nazanin\"'>\n",
    "مجددا تلاش میکنیم isbn13 نظیر این 84 مورد کتاب باقی مانده را با دادن لیست حاوی اندیس آن ها به تابع second_isbn_creator بدست آوریم."
   ]
  },
  {
   "cell_type": "code",
   "execution_count": 107,
   "id": "preliminary-johns",
   "metadata": {},
   "outputs": [
    {
     "name": "stdout",
     "output_type": "stream",
     "text": [
      "1  book is not available for getting isbn13\n",
      "____________________________________________________________\n",
      "[4821]\n"
     ]
    }
   ],
   "source": [
    "exception_isbn = second_isbn_creator(IsNull)\n",
    "\n",
    "print (len(exception_isbn), ' book is not available for getting isbn13')\n",
    "print ('____________________________________________________________')\n",
    "print (exception_isbn)"
   ]
  },
  {
   "cell_type": "code",
   "execution_count": 116,
   "id": "latin-theme",
   "metadata": {},
   "outputs": [],
   "source": [
    "book['isbn13'].replace({'': np.nan}, inplace = True)"
   ]
  },
  {
   "cell_type": "code",
   "execution_count": 129,
   "id": "funded-omega",
   "metadata": {},
   "outputs": [
    {
     "name": "stdout",
     "output_type": "stream",
     "text": [
      "0  isbn is not valid\n",
      "____________________________________________________________\n",
      "[]\n"
     ]
    }
   ],
   "source": [
    "IsNull, IsInvalid = validate_isbn(0, 10000)\n",
    "print (len(IsInvalid), ' isbn is not valid')\n",
    "print ('____________________________________________________________')\n",
    "print(IsInvalid)"
   ]
  },
  {
   "cell_type": "code",
   "execution_count": 130,
   "id": "square-dominant",
   "metadata": {},
   "outputs": [
    {
     "name": "stdout",
     "output_type": "stream",
     "text": [
      "76  isbn is null\n",
      "____________________________________________________________\n",
      "[726, 1053, 1113, 1179, 1225, 1832, 1894, 2164, 2442, 2936, 3198, 3371, 3394, 3824, 4005, 4065, 4105, 4160, 4204, 4414, 4441, 4606, 4637, 4675, 4687, 4821, 4891, 4934, 5052, 5209, 5359, 5376, 5646, 5678, 5715, 5868, 6194, 6260, 6451, 6600, 7084, 7166, 7224, 7471, 7568, 7619, 7638, 7674, 7782, 7934, 8039, 8078, 8108, 8111, 8143, 8246, 8335, 8431, 8482, 8486, 8522, 8758, 8868, 8881, 8912, 9043, 9066, 9121, 9140, 9178, 9320, 9384, 9609, 9619, 9677, 9857]\n"
     ]
    }
   ],
   "source": [
    "print (len(IsNull), ' isbn is null')\n",
    "print ('____________________________________________________________')\n",
    "print(IsNull)"
   ]
  },
  {
   "cell_type": "code",
   "execution_count": null,
   "id": "bottom-loading",
   "metadata": {},
   "outputs": [],
   "source": [
    "book.to_csv(path + 'book_no_null.csv', index=False)"
   ]
  },
  {
   "cell_type": "markdown",
   "id": "emerging-pocket",
   "metadata": {},
   "source": [
    "### ✅ Filling null values in original_publication_year"
   ]
  },
  {
   "cell_type": "markdown",
   "id": "indoor-shipping",
   "metadata": {},
   "source": [
    "<div style=\"direction:rtl\", align=\"justify\"> <h3>\n",
    "<span style='font-family:\"B Nazanin\"'>\n",
    "در این قسمت ابتدا اندیس نظیر تمام کتاب هایی که سال چاپ آن ها نال است را پیدا میکنیم. در حالت کلی تعداد 21 کتاب سال چاپ Null دارند."
   ]
  },
  {
   "cell_type": "code",
   "execution_count": 145,
   "id": "miniature-retailer",
   "metadata": {},
   "outputs": [
    {
     "name": "stdout",
     "output_type": "stream",
     "text": [
      "Int64Index([ 219,  975, 3505, 4228, 4247, 4409, 4707, 4770, 4877, 5609, 5871,\n",
      "            6428, 7190, 7215, 7416, 7645, 8476, 9196, 9510, 9533, 9928],\n",
      "           dtype='int64')\n"
     ]
    }
   ],
   "source": [
    "null_publication_year = book[book['original_publication_year'].isna()].index\n",
    "print(null_publication_year)"
   ]
  },
  {
   "cell_type": "markdown",
   "id": "herbal-trick",
   "metadata": {},
   "source": [
    "<div style=\"direction:rtl\", align=\"justify\"> <h3>\n",
    "<span style='font-family:\"B Nazanin\"'>\n",
    "سپس با استفاده از isbn13 و تابع meta اطلاعات مربوط به این کتاب را استخراج کرده و فیلد Year آن را به عنوان سال چاپ استفاده می کنیم به علاوه در صورتی که سال چاپ از روی isbn13 و metadata های موحود قابل استخراج نباشد و یا احیانا isbn13 کتابی Null باشد آنگاه اندیس نظیر این کتاب ها که همچنان ستون سال چاپ آن ها نال باقی مانده درون لیست exception_original_publication_year ذخیره می شود تا در ادامه به نحوی دیگر سال چاپ نظیر این کتاب ها را استخراج کنیم.."
   ]
  },
  {
   "cell_type": "code",
   "execution_count": 185,
   "id": "banned-richards",
   "metadata": {},
   "outputs": [],
   "source": [
    "exception_original_publication_year = []\n",
    "for i in null_publication_year:\n",
    "    try:\n",
    "        json_response = meta(str(int(book.loc[i,'isbn13'])))\n",
    "        book.loc[i,'original_publication_year'] = json_response['Year']\n",
    "    except:\n",
    "        exception_original_publication_year.append(i)"
   ]
  },
  {
   "cell_type": "markdown",
   "id": "fuzzy-gossip",
   "metadata": {},
   "source": [
    "<div style=\"direction:rtl\", align=\"justify\"> <h3>\n",
    "<span style='font-family:\"B Nazanin\"'>\n",
    "پس از پر کردن مقادیر نال موجود تنها 4 کتاب باقی می ماند که یا isbn13 نظیر آن ها نال بوده و یا از روی isbn13 و metadata های موجود کتابخانه pyisbn نتوانسته سال چاپ کتاب را بدست آورد. که در ادامه این موارد را به صورتی دستی جستجو کرده و وارد دیتاست می کنیم. "
   ]
  },
  {
   "cell_type": "code",
   "execution_count": 186,
   "id": "indoor-logan",
   "metadata": {},
   "outputs": [
    {
     "data": {
      "text/plain": [
       "[975, 5871, 6428, 7190]"
      ]
     },
     "execution_count": 186,
     "metadata": {},
     "output_type": "execute_result"
    }
   ],
   "source": [
    "exception_original_publication_year"
   ]
  },
  {
   "cell_type": "code",
   "execution_count": 187,
   "id": "transsexual-hamilton",
   "metadata": {},
   "outputs": [],
   "source": [
    "book['original_publication_year'].replace({'': np.nan}, inplace = True)"
   ]
  },
  {
   "cell_type": "code",
   "execution_count": 188,
   "id": "orange-liberia",
   "metadata": {},
   "outputs": [
    {
     "data": {
      "text/plain": [
       "Int64Index([975, 5871, 6428, 7190, 9928], dtype='int64')"
      ]
     },
     "execution_count": 188,
     "metadata": {},
     "output_type": "execute_result"
    }
   ],
   "source": [
    "book[book['original_publication_year'].isna()].index"
   ]
  },
  {
   "cell_type": "markdown",
   "id": "opening-track",
   "metadata": {},
   "source": [
    "### ✅ Imputation of remaining null values in original_publication_year manually"
   ]
  },
  {
   "cell_type": "code",
   "execution_count": 4,
   "id": "pressing-failing",
   "metadata": {},
   "outputs": [],
   "source": [
    "book.loc[975,'original_publication_year'] = 1998\n",
    "\n",
    "book.loc[5871,'original_publication_year'] = 2010\n",
    "\n",
    "book.loc[6428,'original_publication_year'] = 2006\n",
    "\n",
    "book.loc[7190,'original_publication_year'] = 2010\n",
    "\n",
    "book.loc[9928,'original_publication_year'] = 1998"
   ]
  },
  {
   "cell_type": "code",
   "execution_count": 6,
   "id": "efficient-worse",
   "metadata": {},
   "outputs": [],
   "source": [
    "book.to_csv(path + 'book_no_null.csv', index=False)"
   ]
  },
  {
   "cell_type": "markdown",
   "id": "parental-great",
   "metadata": {},
   "source": [
    "### ✅ Filling null values in language_code"
   ]
  },
  {
   "cell_type": "markdown",
   "id": "mounted-horse",
   "metadata": {},
   "source": [
    "<div style=\"direction:rtl\", align=\"justify\"> <h3>\n",
    "<span style='font-family:\"B Nazanin\"'>\n",
    "در این قسمت ابتدا اندیس نظیر تمام کتاب هایی که زبان نظیر آن ها نال است را پیدا میکنیم. در حالت کلی تعداد 1084 کتاب زبان Null دارند."
   ]
  },
  {
   "cell_type": "code",
   "execution_count": 8,
   "id": "apparent-title",
   "metadata": {},
   "outputs": [
    {
     "name": "stdout",
     "output_type": "stream",
     "text": [
      "Int64Index([  44,  131,  203,  236,  287,  320,  408,  412,  464,  486,\n",
      "            ...\n",
      "            9951, 9953, 9959, 9967, 9969, 9972, 9973, 9976, 9985, 9999],\n",
      "           dtype='int64', length=1084)\n"
     ]
    }
   ],
   "source": [
    "null_language_code = book[book['language_code'].isna()].index\n",
    "print(null_language_code)"
   ]
  },
  {
   "cell_type": "markdown",
   "id": "fossil-decimal",
   "metadata": {},
   "source": [
    "<div style=\"direction:rtl\", align=\"justify\"> <h3>\n",
    "<span style='font-family:\"B Nazanin\"'>\n",
    "سپس با استفاده از isbn13 و تابع info اطلاعات مربوط به کشور کتاب ها را استخراج کرده به علاوه در صورتی که کشور مربوطه از روی isbn13 و info های موجود قابل استخراج نباشد و یا احیانا isbn13 کتابی Null باشد آنگاه اندیس نظیر این کتاب ها که همچنان ستون language آن ها نال باقی مانده درون لیست exception_language_code ذخیره می شود تا در ادامه به نحوی دیگر کشور و زبان نظیر این کتاب ها را استخراج کنیم.."
   ]
  },
  {
   "cell_type": "code",
   "execution_count": 9,
   "id": "circular-spanking",
   "metadata": {},
   "outputs": [
    {
     "data": {
      "text/plain": [
       "array(['eng', 'en-US', 'en-CA', nan, 'spa', 'en-GB', 'fre', 'nl', 'ara',\n",
       "       'por', 'ger', 'nor', 'jpn', 'en', 'vie', 'ind', 'pol', 'tur',\n",
       "       'dan', 'fil', 'ita', 'per', 'swe', 'rum', 'mul', 'rus'],\n",
       "      dtype=object)"
      ]
     },
     "execution_count": 9,
     "metadata": {},
     "output_type": "execute_result"
    }
   ],
   "source": [
    "book['language_code'].unique()"
   ]
  },
  {
   "cell_type": "code",
   "execution_count": 10,
   "id": "intimate-carpet",
   "metadata": {},
   "outputs": [],
   "source": [
    "exception_language_code = []\n",
    "lan_code = []\n",
    "for i in null_language_code:\n",
    "    try:\n",
    "        lan_response = info(str(int(book.loc[i,'isbn13'])))\n",
    "        book.loc[i,'language_code'] = lan_response\n",
    "        lan_code.append(lan_response)\n",
    "    except:\n",
    "        exception_language_code.append(i)"
   ]
  },
  {
   "cell_type": "code",
   "execution_count": 13,
   "id": "endangered-genome",
   "metadata": {},
   "outputs": [],
   "source": [
    "def unique(list1):\n",
    "    \n",
    "    unique_list = []\n",
    "    for x in list1:\n",
    "        if x not in unique_list:\n",
    "            unique_list.append(x)\n",
    "    return unique_list"
   ]
  },
  {
   "cell_type": "code",
   "execution_count": 14,
   "id": "weird-index",
   "metadata": {},
   "outputs": [
    {
     "data": {
      "text/plain": [
       "['English language',\n",
       " \"China, People's Republic\",\n",
       " 'United States',\n",
       " 'Turkey',\n",
       " 'Sweden',\n",
       " 'German language',\n",
       " 'India',\n",
       " 'Finland',\n",
       " 'French language',\n",
       " 'Japan',\n",
       " 'Argentina']"
      ]
     },
     "execution_count": 14,
     "metadata": {},
     "output_type": "execute_result"
    }
   ],
   "source": [
    "unique(lan_code)"
   ]
  },
  {
   "cell_type": "code",
   "execution_count": 15,
   "id": "descending-aurora",
   "metadata": {},
   "outputs": [],
   "source": [
    "book['language_code'].replace({  'English language':'eng',\n",
    "                                 \"China, People's Republic\":'chi',\n",
    "                                 'United States':'en-US',\n",
    "                                 'Turkey':'tur',\n",
    "                                 'Sweden':'swe',\n",
    "                                 'German language':'ger',\n",
    "                                 'India':'hin',\n",
    "                                 'Finland':'fin',\n",
    "                                 'French language':'fre',\n",
    "                                 'Japan':'jpn',\n",
    "                                 'Argentina': 'es-ar'\n",
    "                                }, inplace = True)"
   ]
  },
  {
   "cell_type": "markdown",
   "id": "derived-level",
   "metadata": {},
   "source": [
    "<div style=\"direction:rtl\", align=\"justify\"> <h3>\n",
    "<span style='font-family:\"B Nazanin\"'>\n",
    "پس از پر کردن مقادیر نال موجود تنها 4 کتاب باقی می ماند که یا isbn13 نظیر آن ها نال بوده و یا از روی isbn13 و info های موجود کتابخانه pyisbn نتوانسته کشور و زبان مربوطه را بدست آورد. که در ادامه این موارد را به صورتی دستی جستجو کرده و وارد دیتاست می کنیم. "
   ]
  },
  {
   "cell_type": "code",
   "execution_count": 4,
   "id": "healthy-cinema",
   "metadata": {},
   "outputs": [
    {
     "name": "stdout",
     "output_type": "stream",
     "text": [
      "[1053, 2164, 5376, 9677]\n"
     ]
    }
   ],
   "source": [
    "exception_language_code"
   ]
  },
  {
   "cell_type": "code",
   "execution_count": 3,
   "id": "theoretical-cosmetic",
   "metadata": {},
   "outputs": [],
   "source": [
    "book['language_code'].replace({'': np.nan}, inplace = True)"
   ]
  },
  {
   "cell_type": "code",
   "execution_count": 17,
   "id": "thrown-explorer",
   "metadata": {},
   "outputs": [
    {
     "data": {
      "text/plain": [
       "Int64Index([1053, 2164, 5376, 9677], dtype='int64')"
      ]
     },
     "execution_count": 17,
     "metadata": {},
     "output_type": "execute_result"
    }
   ],
   "source": [
    "book[book['language_code'].isna()].index"
   ]
  },
  {
   "cell_type": "markdown",
   "id": "disciplinary-verse",
   "metadata": {},
   "source": [
    "### ✅ Imputation of remaining null values in language_code manually"
   ]
  },
  {
   "cell_type": "code",
   "execution_count": 7,
   "id": "acoustic-remark",
   "metadata": {},
   "outputs": [],
   "source": [
    "book.loc[1053,'language_code'] = 'eng'\n",
    "\n",
    "book.loc[2164,'language_code'] = 'eng'\n",
    "\n",
    "book.loc[5376,'language_code'] = 'fre'\n",
    "\n",
    "book.loc[9677,'language_code'] = 'eng'"
   ]
  },
  {
   "cell_type": "code",
   "execution_count": 8,
   "id": "unsigned-guyana",
   "metadata": {},
   "outputs": [],
   "source": [
    "book.to_csv(path + 'book_no_null.csv', index=False)"
   ]
  },
  {
   "cell_type": "markdown",
   "id": "fewer-flight",
   "metadata": {},
   "source": [
    "### ✅ Change eng,en-GB,en-CA,en-US to en"
   ]
  },
  {
   "cell_type": "code",
   "execution_count": 10,
   "id": "decreased-commercial",
   "metadata": {},
   "outputs": [],
   "source": [
    "book.language_code = book.language_code.replace(['eng','en-CA','en-GB','en-US'],'en')"
   ]
  },
  {
   "cell_type": "code",
   "execution_count": 11,
   "id": "registered-personal",
   "metadata": {},
   "outputs": [
    {
     "data": {
      "text/plain": [
       "array(['en', 'spa', 'fre', 'nl', 'ara', 'por', 'ger', 'nor', 'chi', 'jpn',\n",
       "       'vie', 'ind', 'pol', 'tur', 'swe', 'dan', 'fil', 'ita', 'per',\n",
       "       'hin', 'fin', 'es-ar', 'rum', 'mul', 'rus'], dtype=object)"
      ]
     },
     "execution_count": 11,
     "metadata": {},
     "output_type": "execute_result"
    }
   ],
   "source": [
    "book['language_code'].unique()"
   ]
  },
  {
   "cell_type": "code",
   "execution_count": 12,
   "id": "alike-benjamin",
   "metadata": {},
   "outputs": [],
   "source": [
    "book.to_csv('book_no_null_language_merging.csv', index=False)"
   ]
  },
  {
   "cell_type": "code",
   "execution_count": 13,
   "id": "dominant-employment",
   "metadata": {},
   "outputs": [
    {
     "data": {
      "text/plain": [
       "book_id                        0\n",
       "goodreads_book_id              0\n",
       "best_book_id                   0\n",
       "work_id                        0\n",
       "books_count                    0\n",
       "isbn                         700\n",
       "isbn13                        76\n",
       "authors                        0\n",
       "original_publication_year      0\n",
       "original_title               585\n",
       "title                          0\n",
       "language_code                  0\n",
       "average_rating                 0\n",
       "ratings_count                  0\n",
       "work_ratings_count             0\n",
       "work_text_reviews_count        0\n",
       "ratings_1                      0\n",
       "ratings_2                      0\n",
       "ratings_3                      0\n",
       "ratings_4                      0\n",
       "ratings_5                      0\n",
       "image_url                      0\n",
       "small_image_url                0\n",
       "dtype: int64"
      ]
     },
     "execution_count": 13,
     "metadata": {},
     "output_type": "execute_result"
    }
   ],
   "source": [
    "book.isna().sum()"
   ]
  }
 ],
 "metadata": {
  "kernelspec": {
   "display_name": "Python 3",
   "language": "python",
   "name": "python3"
  },
  "language_info": {
   "codemirror_mode": {
    "name": "ipython",
    "version": 3
   },
   "file_extension": ".py",
   "mimetype": "text/x-python",
   "name": "python",
   "nbconvert_exporter": "python",
   "pygments_lexer": "ipython3",
   "version": "3.7.1"
  }
 },
 "nbformat": 4,
 "nbformat_minor": 5
}
