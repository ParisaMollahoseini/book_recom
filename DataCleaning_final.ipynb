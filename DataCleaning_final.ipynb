{
 "cells": [
  {
   "cell_type": "code",
   "execution_count": 7,
   "id": "figured-technical",
   "metadata": {},
   "outputs": [],
   "source": [
    "import pandas as pd\n",
    "import numpy as np\n",
    "\n",
    "tags = pd.read_csv('tags.csv')\n",
    "rating = pd.read_csv('ratings.csv')\n",
    "to_read = pd.read_csv('to_read.csv')\n",
    "book = pd.read_csv('book_no_null.csv')\n",
    "book_tags = pd.read_csv('book_tags.csv')"
   ]
  },
  {
   "cell_type": "markdown",
   "id": "statutory-particular",
   "metadata": {},
   "source": [
    "## Data cleaning"
   ]
  },
  {
   "cell_type": "code",
   "execution_count": 2,
   "id": "anticipated-candidate",
   "metadata": {},
   "outputs": [
    {
     "data": {
      "text/html": [
       "<div>\n",
       "<style scoped>\n",
       "    .dataframe tbody tr th:only-of-type {\n",
       "        vertical-align: middle;\n",
       "    }\n",
       "\n",
       "    .dataframe tbody tr th {\n",
       "        vertical-align: top;\n",
       "    }\n",
       "\n",
       "    .dataframe thead th {\n",
       "        text-align: right;\n",
       "    }\n",
       "</style>\n",
       "<table border=\"1\" class=\"dataframe\">\n",
       "  <thead>\n",
       "    <tr style=\"text-align: right;\">\n",
       "      <th></th>\n",
       "      <th>book_id</th>\n",
       "      <th>goodreads_book_id</th>\n",
       "      <th>best_book_id</th>\n",
       "      <th>work_id</th>\n",
       "      <th>books_count</th>\n",
       "      <th>isbn</th>\n",
       "      <th>isbn13</th>\n",
       "      <th>authors</th>\n",
       "      <th>original_publication_year</th>\n",
       "      <th>original_title</th>\n",
       "      <th>...</th>\n",
       "      <th>ratings_count</th>\n",
       "      <th>work_ratings_count</th>\n",
       "      <th>work_text_reviews_count</th>\n",
       "      <th>ratings_1</th>\n",
       "      <th>ratings_2</th>\n",
       "      <th>ratings_3</th>\n",
       "      <th>ratings_4</th>\n",
       "      <th>ratings_5</th>\n",
       "      <th>image_url</th>\n",
       "      <th>small_image_url</th>\n",
       "    </tr>\n",
       "  </thead>\n",
       "  <tbody>\n",
       "    <tr>\n",
       "      <th>0</th>\n",
       "      <td>1</td>\n",
       "      <td>2767052</td>\n",
       "      <td>2767052</td>\n",
       "      <td>2792775</td>\n",
       "      <td>272</td>\n",
       "      <td>439023483</td>\n",
       "      <td>9.780439e+12</td>\n",
       "      <td>Suzanne Collins</td>\n",
       "      <td>2008.0</td>\n",
       "      <td>The Hunger Games</td>\n",
       "      <td>...</td>\n",
       "      <td>4780653</td>\n",
       "      <td>4942365</td>\n",
       "      <td>155254</td>\n",
       "      <td>66715</td>\n",
       "      <td>127936</td>\n",
       "      <td>560092</td>\n",
       "      <td>1481305</td>\n",
       "      <td>2706317</td>\n",
       "      <td>https://images.gr-assets.com/books/1447303603m...</td>\n",
       "      <td>https://images.gr-assets.com/books/1447303603s...</td>\n",
       "    </tr>\n",
       "    <tr>\n",
       "      <th>1</th>\n",
       "      <td>2</td>\n",
       "      <td>3</td>\n",
       "      <td>3</td>\n",
       "      <td>4640799</td>\n",
       "      <td>491</td>\n",
       "      <td>439554934</td>\n",
       "      <td>9.780440e+12</td>\n",
       "      <td>J.K. Rowling, Mary GrandPré</td>\n",
       "      <td>1997.0</td>\n",
       "      <td>Harry Potter and the Philosopher's Stone</td>\n",
       "      <td>...</td>\n",
       "      <td>4602479</td>\n",
       "      <td>4800065</td>\n",
       "      <td>75867</td>\n",
       "      <td>75504</td>\n",
       "      <td>101676</td>\n",
       "      <td>455024</td>\n",
       "      <td>1156318</td>\n",
       "      <td>3011543</td>\n",
       "      <td>https://images.gr-assets.com/books/1474154022m...</td>\n",
       "      <td>https://images.gr-assets.com/books/1474154022s...</td>\n",
       "    </tr>\n",
       "    <tr>\n",
       "      <th>2</th>\n",
       "      <td>3</td>\n",
       "      <td>41865</td>\n",
       "      <td>41865</td>\n",
       "      <td>3212258</td>\n",
       "      <td>226</td>\n",
       "      <td>316015849</td>\n",
       "      <td>9.780316e+12</td>\n",
       "      <td>Stephenie Meyer</td>\n",
       "      <td>2005.0</td>\n",
       "      <td>Twilight</td>\n",
       "      <td>...</td>\n",
       "      <td>3866839</td>\n",
       "      <td>3916824</td>\n",
       "      <td>95009</td>\n",
       "      <td>456191</td>\n",
       "      <td>436802</td>\n",
       "      <td>793319</td>\n",
       "      <td>875073</td>\n",
       "      <td>1355439</td>\n",
       "      <td>https://images.gr-assets.com/books/1361039443m...</td>\n",
       "      <td>https://images.gr-assets.com/books/1361039443s...</td>\n",
       "    </tr>\n",
       "    <tr>\n",
       "      <th>3</th>\n",
       "      <td>4</td>\n",
       "      <td>2657</td>\n",
       "      <td>2657</td>\n",
       "      <td>3275794</td>\n",
       "      <td>487</td>\n",
       "      <td>61120081</td>\n",
       "      <td>9.780061e+12</td>\n",
       "      <td>Harper Lee</td>\n",
       "      <td>1960.0</td>\n",
       "      <td>To Kill a Mockingbird</td>\n",
       "      <td>...</td>\n",
       "      <td>3198671</td>\n",
       "      <td>3340896</td>\n",
       "      <td>72586</td>\n",
       "      <td>60427</td>\n",
       "      <td>117415</td>\n",
       "      <td>446835</td>\n",
       "      <td>1001952</td>\n",
       "      <td>1714267</td>\n",
       "      <td>https://images.gr-assets.com/books/1361975680m...</td>\n",
       "      <td>https://images.gr-assets.com/books/1361975680s...</td>\n",
       "    </tr>\n",
       "    <tr>\n",
       "      <th>4</th>\n",
       "      <td>5</td>\n",
       "      <td>4671</td>\n",
       "      <td>4671</td>\n",
       "      <td>245494</td>\n",
       "      <td>1356</td>\n",
       "      <td>743273567</td>\n",
       "      <td>9.780743e+12</td>\n",
       "      <td>F. Scott Fitzgerald</td>\n",
       "      <td>1925.0</td>\n",
       "      <td>The Great Gatsby</td>\n",
       "      <td>...</td>\n",
       "      <td>2683664</td>\n",
       "      <td>2773745</td>\n",
       "      <td>51992</td>\n",
       "      <td>86236</td>\n",
       "      <td>197621</td>\n",
       "      <td>606158</td>\n",
       "      <td>936012</td>\n",
       "      <td>947718</td>\n",
       "      <td>https://images.gr-assets.com/books/1490528560m...</td>\n",
       "      <td>https://images.gr-assets.com/books/1490528560s...</td>\n",
       "    </tr>\n",
       "  </tbody>\n",
       "</table>\n",
       "<p>5 rows × 23 columns</p>\n",
       "</div>"
      ],
      "text/plain": [
       "   book_id  goodreads_book_id  best_book_id  work_id  books_count       isbn  \\\n",
       "0        1            2767052       2767052  2792775          272  439023483   \n",
       "1        2                  3             3  4640799          491  439554934   \n",
       "2        3              41865         41865  3212258          226  316015849   \n",
       "3        4               2657          2657  3275794          487   61120081   \n",
       "4        5               4671          4671   245494         1356  743273567   \n",
       "\n",
       "         isbn13                      authors  original_publication_year  \\\n",
       "0  9.780439e+12              Suzanne Collins                     2008.0   \n",
       "1  9.780440e+12  J.K. Rowling, Mary GrandPré                     1997.0   \n",
       "2  9.780316e+12              Stephenie Meyer                     2005.0   \n",
       "3  9.780061e+12                   Harper Lee                     1960.0   \n",
       "4  9.780743e+12          F. Scott Fitzgerald                     1925.0   \n",
       "\n",
       "                             original_title  ... ratings_count  \\\n",
       "0                          The Hunger Games  ...       4780653   \n",
       "1  Harry Potter and the Philosopher's Stone  ...       4602479   \n",
       "2                                  Twilight  ...       3866839   \n",
       "3                     To Kill a Mockingbird  ...       3198671   \n",
       "4                          The Great Gatsby  ...       2683664   \n",
       "\n",
       "  work_ratings_count  work_text_reviews_count  ratings_1  ratings_2  \\\n",
       "0            4942365                   155254      66715     127936   \n",
       "1            4800065                    75867      75504     101676   \n",
       "2            3916824                    95009     456191     436802   \n",
       "3            3340896                    72586      60427     117415   \n",
       "4            2773745                    51992      86236     197621   \n",
       "\n",
       "   ratings_3  ratings_4  ratings_5  \\\n",
       "0     560092    1481305    2706317   \n",
       "1     455024    1156318    3011543   \n",
       "2     793319     875073    1355439   \n",
       "3     446835    1001952    1714267   \n",
       "4     606158     936012     947718   \n",
       "\n",
       "                                           image_url  \\\n",
       "0  https://images.gr-assets.com/books/1447303603m...   \n",
       "1  https://images.gr-assets.com/books/1474154022m...   \n",
       "2  https://images.gr-assets.com/books/1361039443m...   \n",
       "3  https://images.gr-assets.com/books/1361975680m...   \n",
       "4  https://images.gr-assets.com/books/1490528560m...   \n",
       "\n",
       "                                     small_image_url  \n",
       "0  https://images.gr-assets.com/books/1447303603s...  \n",
       "1  https://images.gr-assets.com/books/1474154022s...  \n",
       "2  https://images.gr-assets.com/books/1361039443s...  \n",
       "3  https://images.gr-assets.com/books/1361975680s...  \n",
       "4  https://images.gr-assets.com/books/1490528560s...  \n",
       "\n",
       "[5 rows x 23 columns]"
      ]
     },
     "execution_count": 2,
     "metadata": {},
     "output_type": "execute_result"
    }
   ],
   "source": [
    "book.head()"
   ]
  },
  {
   "cell_type": "markdown",
   "id": "sitting-brass",
   "metadata": {},
   "source": [
    "### Missing values "
   ]
  },
  {
   "cell_type": "markdown",
   "id": "distinct-stranger",
   "metadata": {},
   "source": [
    "### Checking the missing values"
   ]
  },
  {
   "cell_type": "code",
   "execution_count": 3,
   "id": "processed-touch",
   "metadata": {},
   "outputs": [
    {
     "data": {
      "text/plain": [
       "book_id                         0\n",
       "goodreads_book_id               0\n",
       "best_book_id                    0\n",
       "work_id                         0\n",
       "books_count                     0\n",
       "isbn                          700\n",
       "isbn13                        585\n",
       "authors                         0\n",
       "original_publication_year      21\n",
       "original_title                585\n",
       "title                           0\n",
       "language_code                1084\n",
       "average_rating                  0\n",
       "ratings_count                   0\n",
       "work_ratings_count              0\n",
       "work_text_reviews_count         0\n",
       "ratings_1                       0\n",
       "ratings_2                       0\n",
       "ratings_3                       0\n",
       "ratings_4                       0\n",
       "ratings_5                       0\n",
       "image_url                       0\n",
       "small_image_url                 0\n",
       "dtype: int64"
      ]
     },
     "execution_count": 3,
     "metadata": {},
     "output_type": "execute_result"
    }
   ],
   "source": [
    "book.isnull().sum()"
   ]
  },
  {
   "cell_type": "code",
   "execution_count": 5,
   "id": "hungry-identifier",
   "metadata": {},
   "outputs": [],
   "source": [
    "import sys\n",
    "from isbntools.app import *\n",
    "import pyisbn\n",
    "import time\n"
   ]
  },
  {
   "cell_type": "markdown",
   "id": "complete-technique",
   "metadata": {},
   "source": [
    "### Imputation and correct isbn13 data"
   ]
  },
  {
   "cell_type": "code",
   "execution_count": 5,
   "id": "looking-tactics",
   "metadata": {},
   "outputs": [],
   "source": [
    "def isbn_creator(strat_indx, end_indx):\n",
    "    exception_isbn = []\n",
    "    for i in book[(book.book_id < end_indx) & (book.book_id >= strat_indx)].index:\n",
    "        try:\n",
    "            isbn13 = isbn_from_words(str(book.loc[i].title + ' ' + book.loc[i].authors))\n",
    "            book.loc[i,'isbn13'] = isbn13\n",
    "            time.sleep(0.2)\n",
    "        except:\n",
    "            exception_isbn.append(i)\n",
    "            print(i, \"Next entry\")\n",
    "    return exception_isbn"
   ]
  },
  {
   "cell_type": "code",
   "execution_count": 6,
   "id": "concerned-spring",
   "metadata": {},
   "outputs": [],
   "source": [
    "def second_isbn_creator(unavailables):\n",
    "    exception_isbn = []\n",
    "    for i in unavailables:\n",
    "        try:\n",
    "            isbn13 = isbn_from_words(str(book.loc[i].title + ' ' + book.loc[i].authors))\n",
    "            book.loc[i,'isbn13'] = isbn13\n",
    "            time.sleep(0.2)\n",
    "        except:\n",
    "            exception_isbn.append(i)\n",
    "            print(i, \"Next entry\")\n",
    "    return exception_isbn"
   ]
  },
  {
   "cell_type": "code",
   "execution_count": 16,
   "id": "military-assumption",
   "metadata": {},
   "outputs": [
    {
     "name": "stdout",
     "output_type": "stream",
     "text": [
      "67  book is not available for getting isbn13\n",
      "____________________________________________________________\n",
      "[193, 395, 1178, 2024, 2811, 3145, 3296, 3505, 3527, 3655, 3753, 3864, 3907, 4008, 4044, 4070, 4164, 4204, 4325, 4393, 4412, 4466, 4514, 4516, 4733, 4764, 4809, 4874, 5171, 5232, 5265, 5325, 5390, 5947, 6063, 6096, 6134, 6199, 6233, 6254, 6255, 6256, 6257, 6259, 6261, 6263, 6366, 6528, 7393, 7503, 7718, 8083, 8342, 8379, 8408, 8919, 9084, 9142, 9327, 9371, 9386, 9521, 9666, 9690, 9766, 9771, 9961]\n"
     ]
    }
   ],
   "source": [
    "unavailables = []\n",
    "for i in range(0, 10000, 500):\n",
    "    exception_isbn = isbn_creator(i, i+501)\n",
    "    for exc in exception_isbn:\n",
    "        unavailables.append(exc)\n",
    "\n",
    "print (len(unavailables), ' book is not available for getting isbn13')\n",
    "print ('____________________________________________________________')\n",
    "print (unavailables)"
   ]
  },
  {
   "cell_type": "code",
   "execution_count": 28,
   "id": "nasty-specific",
   "metadata": {},
   "outputs": [
    {
     "name": "stdout",
     "output_type": "stream",
     "text": [
      "12  book is not available for getting isbn13\n",
      "____________________________________________________________\n",
      "[193, 2811, 4044, 4412, 4733, 5171, 6096, 6134, 6233, 7503, 9690, 9766]\n"
     ]
    }
   ],
   "source": [
    "exception_isbn = second_isbn_creator(unavailables)\n",
    "\n",
    "print (len(exception_isbn), ' book is not available for getting isbn13')\n",
    "print ('____________________________________________________________')\n",
    "print (exception_isbn)"
   ]
  },
  {
   "cell_type": "code",
   "execution_count": 84,
   "id": "intellectual-lesbian",
   "metadata": {},
   "outputs": [
    {
     "name": "stdout",
     "output_type": "stream",
     "text": [
      "0  book is not available for getting isbn13\n",
      "____________________________________________________________\n",
      "[]\n"
     ]
    }
   ],
   "source": [
    "for i in range(0, 20):\n",
    "    exception_isbn = second_isbn_creator(exception_isbn)\n",
    "    \n",
    "print (len(exception_isbn), ' book is not available for getting isbn13')\n",
    "print ('____________________________________________________________')\n",
    "print (exception_isbn)"
   ]
  },
  {
   "cell_type": "code",
   "execution_count": 161,
   "id": "theoretical-compromise",
   "metadata": {},
   "outputs": [],
   "source": [
    "book.to_csv('book_no_null.csv', index=False)"
   ]
  },
  {
   "cell_type": "markdown",
   "id": "disabled-component",
   "metadata": {},
   "source": [
    "### Check validity and being null in isbn13 column"
   ]
  },
  {
   "cell_type": "code",
   "execution_count": 7,
   "id": "fewer-familiar",
   "metadata": {},
   "outputs": [],
   "source": [
    "def validate_isbn(strat_indx, end_indx):\n",
    "    IsNull = []\n",
    "    IsInvalid = []\n",
    "    for i in book[(book.book_id < end_indx) & (book.book_id >=strat_indx)].index:\n",
    "        try:\n",
    "            if pyisbn.validate(str(int(book.loc[i].isbn13))) != True:\n",
    "                IsInvalid.append(i)\n",
    "        except:\n",
    "            IsNull.append(i)\n",
    "            \n",
    "    return (IsNull, IsInvalid)"
   ]
  },
  {
   "cell_type": "code",
   "execution_count": 127,
   "id": "married-combination",
   "metadata": {},
   "outputs": [],
   "source": [
    "book['isbn13'].replace({'': np.nan}, inplace = True)"
   ]
  },
  {
   "cell_type": "code",
   "execution_count": 102,
   "id": "studied-refund",
   "metadata": {},
   "outputs": [
    {
     "name": "stdout",
     "output_type": "stream",
     "text": [
      "0  isbn is not valid\n",
      "____________________________________________________________\n",
      "[]\n"
     ]
    }
   ],
   "source": [
    "IsNull, IsInvalid = validate_isbn(0, 10000)\n",
    "print (len(IsInvalid), ' isbn is not valid')\n",
    "print ('____________________________________________________________')\n",
    "print(IsInvalid)"
   ]
  },
  {
   "cell_type": "code",
   "execution_count": 103,
   "id": "opponent-authorization",
   "metadata": {},
   "outputs": [
    {
     "name": "stdout",
     "output_type": "stream",
     "text": [
      "84  isbn is null\n",
      "____________________________________________________________\n",
      "[726, 1053, 1113, 1179, 1196, 1225, 1772, 1832, 1894, 2164, 2442, 2936, 3198, 3266, 3371, 3394, 3632, 3824, 4005, 4065, 4105, 4160, 4204, 4414, 4441, 4606, 4637, 4675, 4687, 4821, 4891, 4934, 5052, 5209, 5359, 5376, 5646, 5678, 5715, 5868, 6194, 6260, 6451, 6600, 6742, 7084, 7166, 7224, 7471, 7568, 7619, 7638, 7674, 7782, 7934, 8039, 8078, 8108, 8111, 8143, 8246, 8335, 8431, 8482, 8486, 8522, 8758, 8868, 8881, 8912, 9043, 9066, 9121, 9140, 9178, 9220, 9320, 9384, 9557, 9609, 9619, 9677, 9689, 9857]\n"
     ]
    }
   ],
   "source": [
    "print (len(IsNull), ' isbn is null')\n",
    "print ('____________________________________________________________')\n",
    "print(IsNull)"
   ]
  },
  {
   "cell_type": "code",
   "execution_count": 107,
   "id": "preliminary-johns",
   "metadata": {},
   "outputs": [
    {
     "name": "stdout",
     "output_type": "stream",
     "text": [
      "1  book is not available for getting isbn13\n",
      "____________________________________________________________\n",
      "[4821]\n"
     ]
    }
   ],
   "source": [
    "exception_isbn = second_isbn_creator(IsNull)\n",
    "\n",
    "print (len(exception_isbn), ' book is not available for getting isbn13')\n",
    "print ('____________________________________________________________')\n",
    "print (exception_isbn)"
   ]
  },
  {
   "cell_type": "code",
   "execution_count": 116,
   "id": "latin-theme",
   "metadata": {},
   "outputs": [],
   "source": [
    "book['isbn13'].replace({'': np.nan}, inplace = True)"
   ]
  },
  {
   "cell_type": "code",
   "execution_count": 129,
   "id": "funded-omega",
   "metadata": {},
   "outputs": [
    {
     "name": "stdout",
     "output_type": "stream",
     "text": [
      "0  isbn is not valid\n",
      "____________________________________________________________\n",
      "[]\n"
     ]
    }
   ],
   "source": [
    "IsNull, IsInvalid = validate_isbn(0, 10000)\n",
    "print (len(IsInvalid), ' isbn is not valid')\n",
    "print ('____________________________________________________________')\n",
    "print(IsInvalid)"
   ]
  },
  {
   "cell_type": "code",
   "execution_count": 130,
   "id": "square-dominant",
   "metadata": {},
   "outputs": [
    {
     "name": "stdout",
     "output_type": "stream",
     "text": [
      "76  isbn is null\n",
      "____________________________________________________________\n",
      "[726, 1053, 1113, 1179, 1225, 1832, 1894, 2164, 2442, 2936, 3198, 3371, 3394, 3824, 4005, 4065, 4105, 4160, 4204, 4414, 4441, 4606, 4637, 4675, 4687, 4821, 4891, 4934, 5052, 5209, 5359, 5376, 5646, 5678, 5715, 5868, 6194, 6260, 6451, 6600, 7084, 7166, 7224, 7471, 7568, 7619, 7638, 7674, 7782, 7934, 8039, 8078, 8108, 8111, 8143, 8246, 8335, 8431, 8482, 8486, 8522, 8758, 8868, 8881, 8912, 9043, 9066, 9121, 9140, 9178, 9320, 9384, 9609, 9619, 9677, 9857]\n"
     ]
    }
   ],
   "source": [
    "print (len(IsNull), ' isbn is null')\n",
    "print ('____________________________________________________________')\n",
    "print(IsNull)"
   ]
  },
  {
   "cell_type": "code",
   "execution_count": null,
   "id": "bottom-loading",
   "metadata": {},
   "outputs": [],
   "source": [
    "book.to_csv('book_no_null.csv', index=False)"
   ]
  },
  {
   "cell_type": "markdown",
   "id": "engaged-restaurant",
   "metadata": {},
   "source": [
    "### Fill null values in original_publication_year"
   ]
  },
  {
   "cell_type": "code",
   "execution_count": 145,
   "id": "miniature-retailer",
   "metadata": {},
   "outputs": [
    {
     "name": "stdout",
     "output_type": "stream",
     "text": [
      "Int64Index([ 219,  975, 3505, 4228, 4247, 4409, 4707, 4770, 4877, 5609, 5871,\n",
      "            6428, 7190, 7215, 7416, 7645, 8476, 9196, 9510, 9533, 9928],\n",
      "           dtype='int64')\n"
     ]
    }
   ],
   "source": [
    "null_publication_year = book[book['original_publication_year'].isna()].index\n",
    "print(null_publication_year)"
   ]
  },
  {
   "cell_type": "code",
   "execution_count": 185,
   "id": "banned-richards",
   "metadata": {},
   "outputs": [],
   "source": [
    "exception_original_publication_year = []\n",
    "for i in null_publication_year:\n",
    "    try:\n",
    "        json_response = meta(str(int(book.loc[i,'isbn13'])))\n",
    "        book.loc[i,'original_publication_year'] = json_response['Year']\n",
    "    except:\n",
    "        exception_original_publication_year.append(i)"
   ]
  },
  {
   "cell_type": "code",
   "execution_count": 186,
   "id": "indoor-logan",
   "metadata": {},
   "outputs": [
    {
     "data": {
      "text/plain": [
       "[975, 5871, 6428, 7190]"
      ]
     },
     "execution_count": 186,
     "metadata": {},
     "output_type": "execute_result"
    }
   ],
   "source": [
    "exception_original_publication_year"
   ]
  },
  {
   "cell_type": "markdown",
   "id": "mysterious-criterion",
   "metadata": {},
   "source": [
    "### Replace missing data with form ' ' by np.nan"
   ]
  },
  {
   "cell_type": "code",
   "execution_count": 187,
   "id": "transsexual-hamilton",
   "metadata": {},
   "outputs": [],
   "source": [
    "book['original_publication_year'].replace({'': np.nan}, inplace = True)"
   ]
  },
  {
   "cell_type": "code",
   "execution_count": 188,
   "id": "orange-liberia",
   "metadata": {},
   "outputs": [
    {
     "data": {
      "text/plain": [
       "Int64Index([975, 5871, 6428, 7190, 9928], dtype='int64')"
      ]
     },
     "execution_count": 188,
     "metadata": {},
     "output_type": "execute_result"
    }
   ],
   "source": [
    "book[book['original_publication_year'].isna()].index"
   ]
  },
  {
   "cell_type": "markdown",
   "id": "interested-queue",
   "metadata": {},
   "source": [
    "### Imputation of remaining null values in original_publication_year"
   ]
  },
  {
   "cell_type": "code",
   "execution_count": 4,
   "id": "pressing-failing",
   "metadata": {},
   "outputs": [],
   "source": [
    "book.loc[975,'original_publication_year'] = 1998\n",
    "\n",
    "book.loc[5871,'original_publication_year'] = 2010\n",
    "\n",
    "book.loc[6428,'original_publication_year'] = 2006\n",
    "\n",
    "book.loc[7190,'original_publication_year'] = 2010\n",
    "\n",
    "book.loc[9928,'original_publication_year'] = 1998"
   ]
  },
  {
   "cell_type": "code",
   "execution_count": 6,
   "id": "efficient-worse",
   "metadata": {},
   "outputs": [],
   "source": [
    "book.to_csv('book_no_null.csv', index=False)"
   ]
  },
  {
   "cell_type": "markdown",
   "id": "actual-harmony",
   "metadata": {},
   "source": [
    "### See null languages"
   ]
  },
  {
   "cell_type": "code",
   "execution_count": 8,
   "id": "apparent-title",
   "metadata": {},
   "outputs": [
    {
     "name": "stdout",
     "output_type": "stream",
     "text": [
      "Int64Index([  44,  131,  203,  236,  287,  320,  408,  412,  464,  486,\n",
      "            ...\n",
      "            9951, 9953, 9959, 9967, 9969, 9972, 9973, 9976, 9985, 9999],\n",
      "           dtype='int64', length=1084)\n"
     ]
    }
   ],
   "source": [
    "null_language_code = book[book['language_code'].isna()].index\n",
    "print(null_language_code)"
   ]
  },
  {
   "cell_type": "code",
   "execution_count": 9,
   "id": "circular-spanking",
   "metadata": {},
   "outputs": [
    {
     "data": {
      "text/plain": [
       "array(['eng', 'en-US', 'en-CA', nan, 'spa', 'en-GB', 'fre', 'nl', 'ara',\n",
       "       'por', 'ger', 'nor', 'jpn', 'en', 'vie', 'ind', 'pol', 'tur',\n",
       "       'dan', 'fil', 'ita', 'per', 'swe', 'rum', 'mul', 'rus'],\n",
       "      dtype=object)"
      ]
     },
     "execution_count": 9,
     "metadata": {},
     "output_type": "execute_result"
    }
   ],
   "source": [
    "book['language_code'].unique()"
   ]
  },
  {
   "cell_type": "markdown",
   "id": "available-arrest",
   "metadata": {},
   "source": [
    "### Imputation of Language code column"
   ]
  },
  {
   "cell_type": "code",
   "execution_count": 10,
   "id": "intimate-carpet",
   "metadata": {},
   "outputs": [],
   "source": [
    "exception_language_code = []\n",
    "lan_code = []\n",
    "for i in null_language_code:\n",
    "    try:\n",
    "        lan_response = info(str(int(book.loc[i,'isbn13'])))\n",
    "        book.loc[i,'language_code'] = lan_response\n",
    "        lan_code.append(lan_response)\n",
    "    except:\n",
    "        exception_language_code.append(i)"
   ]
  },
  {
   "cell_type": "code",
   "execution_count": 11,
   "id": "atlantic-asthma",
   "metadata": {},
   "outputs": [
    {
     "data": {
      "text/plain": [
       "[1053, 2164, 5376, 9677]"
      ]
     },
     "execution_count": 11,
     "metadata": {},
     "output_type": "execute_result"
    }
   ],
   "source": [
    "exception_language_code"
   ]
  },
  {
   "cell_type": "code",
   "execution_count": 12,
   "id": "after-cameroon",
   "metadata": {},
   "outputs": [],
   "source": [
    "book['language_code'].replace({'': np.nan}, inplace = True)"
   ]
  },
  {
   "cell_type": "code",
   "execution_count": 13,
   "id": "endangered-genome",
   "metadata": {},
   "outputs": [],
   "source": [
    "def unique(list1):\n",
    "    \n",
    "    unique_list = []\n",
    "    for x in list1:\n",
    "        if x not in unique_list:\n",
    "            unique_list.append(x)\n",
    "    return unique_list"
   ]
  },
  {
   "cell_type": "code",
   "execution_count": 14,
   "id": "weird-index",
   "metadata": {},
   "outputs": [
    {
     "data": {
      "text/plain": [
       "['English language',\n",
       " \"China, People's Republic\",\n",
       " 'United States',\n",
       " 'Turkey',\n",
       " 'Sweden',\n",
       " 'German language',\n",
       " 'India',\n",
       " 'Finland',\n",
       " 'French language',\n",
       " 'Japan',\n",
       " 'Argentina']"
      ]
     },
     "execution_count": 14,
     "metadata": {},
     "output_type": "execute_result"
    }
   ],
   "source": [
    "unique(lan_code)"
   ]
  },
  {
   "cell_type": "code",
   "execution_count": 15,
   "id": "descending-aurora",
   "metadata": {},
   "outputs": [],
   "source": [
    "book['language_code'].replace({  '': np.nan, \n",
    "                                 'English language':'eng',\n",
    "                                 \"China, People's Republic\":'chi',\n",
    "                                 'United States':'en-US',\n",
    "                                 'Turkey':'tur',\n",
    "                                 'Sweden':'swe',\n",
    "                                 'German language':'ger',\n",
    "                                 'India':'hin',\n",
    "                                 'Finland':'fin',\n",
    "                                 'French language':'fre',\n",
    "                                 'Japan':'jpn',\n",
    "                                 'Argentina': 'es-ar'\n",
    "                                }, inplace = True)"
   ]
  },
  {
   "cell_type": "code",
   "execution_count": 17,
   "id": "thrown-explorer",
   "metadata": {},
   "outputs": [
    {
     "data": {
      "text/plain": [
       "Int64Index([1053, 2164, 5376, 9677], dtype='int64')"
      ]
     },
     "execution_count": 17,
     "metadata": {},
     "output_type": "execute_result"
    }
   ],
   "source": [
    "book[book['language_code'].isna()].index"
   ]
  },
  {
   "cell_type": "markdown",
   "id": "disciplinary-verse",
   "metadata": {},
   "source": [
    "### Imputation of remaining null values in language_code"
   ]
  },
  {
   "cell_type": "code",
   "execution_count": 7,
   "id": "acoustic-remark",
   "metadata": {},
   "outputs": [],
   "source": [
    "book.loc[1053,'language_code'] = 'eng'\n",
    "\n",
    "book.loc[2164,'language_code'] = 'eng'\n",
    "\n",
    "book.loc[5376,'language_code'] = 'fre'\n",
    "\n",
    "book.loc[9677,'language_code'] = 'eng'"
   ]
  },
  {
   "cell_type": "code",
   "execution_count": 8,
   "id": "unsigned-guyana",
   "metadata": {},
   "outputs": [],
   "source": [
    "book.to_csv('book_no_null.csv', index=False)"
   ]
  },
  {
   "cell_type": "markdown",
   "id": "fewer-flight",
   "metadata": {},
   "source": [
    "### Change eng,en-GB,en-CA,en-US to en"
   ]
  },
  {
   "cell_type": "code",
   "execution_count": 10,
   "id": "decreased-commercial",
   "metadata": {},
   "outputs": [],
   "source": [
    "book.language_code = book.language_code.replace(['eng','en-CA','en-GB','en-US'],'en')"
   ]
  },
  {
   "cell_type": "code",
   "execution_count": 11,
   "id": "registered-personal",
   "metadata": {},
   "outputs": [
    {
     "data": {
      "text/plain": [
       "array(['en', 'spa', 'fre', 'nl', 'ara', 'por', 'ger', 'nor', 'chi', 'jpn',\n",
       "       'vie', 'ind', 'pol', 'tur', 'swe', 'dan', 'fil', 'ita', 'per',\n",
       "       'hin', 'fin', 'es-ar', 'rum', 'mul', 'rus'], dtype=object)"
      ]
     },
     "execution_count": 11,
     "metadata": {},
     "output_type": "execute_result"
    }
   ],
   "source": [
    "book['language_code'].unique()"
   ]
  },
  {
   "cell_type": "code",
   "execution_count": 12,
   "id": "alike-benjamin",
   "metadata": {},
   "outputs": [],
   "source": [
    "book.to_csv('book_no_null_language_merging.csv', index=False)"
   ]
  },
  {
   "cell_type": "code",
   "execution_count": 13,
   "id": "dominant-employment",
   "metadata": {},
   "outputs": [
    {
     "data": {
      "text/plain": [
       "book_id                        0\n",
       "goodreads_book_id              0\n",
       "best_book_id                   0\n",
       "work_id                        0\n",
       "books_count                    0\n",
       "isbn                         700\n",
       "isbn13                        76\n",
       "authors                        0\n",
       "original_publication_year      0\n",
       "original_title               585\n",
       "title                          0\n",
       "language_code                  0\n",
       "average_rating                 0\n",
       "ratings_count                  0\n",
       "work_ratings_count             0\n",
       "work_text_reviews_count        0\n",
       "ratings_1                      0\n",
       "ratings_2                      0\n",
       "ratings_3                      0\n",
       "ratings_4                      0\n",
       "ratings_5                      0\n",
       "image_url                      0\n",
       "small_image_url                0\n",
       "dtype: int64"
      ]
     },
     "execution_count": 13,
     "metadata": {},
     "output_type": "execute_result"
    }
   ],
   "source": [
    "book.isna().sum()"
   ]
  }
 ],
 "metadata": {
  "kernelspec": {
   "display_name": "Python 3",
   "language": "python",
   "name": "python3"
  },
  "language_info": {
   "codemirror_mode": {
    "name": "ipython",
    "version": 3
   },
   "file_extension": ".py",
   "mimetype": "text/x-python",
   "name": "python",
   "nbconvert_exporter": "python",
   "pygments_lexer": "ipython3",
   "version": "3.7.1"
  }
 },
 "nbformat": 4,
 "nbformat_minor": 5
}
