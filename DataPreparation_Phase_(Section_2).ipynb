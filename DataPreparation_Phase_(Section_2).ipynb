{
 "cells": [
  {
   "cell_type": "code",
   "execution_count": 3,
   "metadata": {},
   "outputs": [],
   "source": [
    "import pandas as pd\n",
    "import numpy as np"
   ]
  },
  {
   "cell_type": "code",
   "execution_count": 4,
   "metadata": {},
   "outputs": [],
   "source": [
    "path = \"E:/my_courses/data mining/project/data_genre/\"\n",
    "path = \"C:/Users/User/Downloads/test2/\""
   ]
  },
  {
   "cell_type": "code",
   "execution_count": 35,
   "metadata": {},
   "outputs": [],
   "source": [
    "book = pd.read_csv(path + \"book_no_null_language_merging.csv\")"
   ]
  },
  {
   "cell_type": "code",
   "execution_count": 4,
   "metadata": {},
   "outputs": [],
   "source": [
    "authors_df = pd.read_json(path + 'goodreads_book_authors.json', lines=True)"
   ]
  },
  {
   "cell_type": "markdown",
   "metadata": {},
   "source": [
    "# 2️⃣ Data Preparation Phase : Section 2\n",
    "<hr style=\"border:2px solid gray\"> </hr>"
   ]
  },
  {
   "cell_type": "markdown",
   "metadata": {},
   "source": [
    "## 📑 Authors clustering"
   ]
  },
  {
   "cell_type": "markdown",
   "metadata": {},
   "source": [
    "<div style=\"direction:rtl\", align=\"justify\"><h3>\n",
    "    <span style='font-family:\"B Nazanin\"'>\n",
    "با توجه به اینکه داخل دیتاست goodbook-10k اطلاعاتی از نویسندگان جر نام آن ها در دسترس نبود لذا از دیتاست اصلی goodreads اطلاعاتی درباره نویسندگان کتاب ها بدست آورده و تلاش می کنیم براساس این اطلاعات نویسندگان را خوشه بندی کنیم."
   ]
  },
  {
   "cell_type": "code",
   "execution_count": 5,
   "metadata": {},
   "outputs": [
    {
     "data": {
      "text/html": [
       "<div>\n",
       "<style scoped>\n",
       "    .dataframe tbody tr th:only-of-type {\n",
       "        vertical-align: middle;\n",
       "    }\n",
       "\n",
       "    .dataframe tbody tr th {\n",
       "        vertical-align: top;\n",
       "    }\n",
       "\n",
       "    .dataframe thead th {\n",
       "        text-align: right;\n",
       "    }\n",
       "</style>\n",
       "<table border=\"1\" class=\"dataframe\">\n",
       "  <thead>\n",
       "    <tr style=\"text-align: right;\">\n",
       "      <th></th>\n",
       "      <th>average_rating</th>\n",
       "      <th>author_id</th>\n",
       "      <th>text_reviews_count</th>\n",
       "      <th>name</th>\n",
       "      <th>ratings_count</th>\n",
       "    </tr>\n",
       "  </thead>\n",
       "  <tbody>\n",
       "    <tr>\n",
       "      <th>0</th>\n",
       "      <td>3.98</td>\n",
       "      <td>604031</td>\n",
       "      <td>7</td>\n",
       "      <td>Ronald J. Fields</td>\n",
       "      <td>49</td>\n",
       "    </tr>\n",
       "    <tr>\n",
       "      <th>1</th>\n",
       "      <td>4.08</td>\n",
       "      <td>626222</td>\n",
       "      <td>28716</td>\n",
       "      <td>Anita Diamant</td>\n",
       "      <td>546796</td>\n",
       "    </tr>\n",
       "    <tr>\n",
       "      <th>2</th>\n",
       "      <td>3.92</td>\n",
       "      <td>10333</td>\n",
       "      <td>5075</td>\n",
       "      <td>Barbara Hambly</td>\n",
       "      <td>122118</td>\n",
       "    </tr>\n",
       "    <tr>\n",
       "      <th>3</th>\n",
       "      <td>3.68</td>\n",
       "      <td>9212</td>\n",
       "      <td>36262</td>\n",
       "      <td>Jennifer Weiner</td>\n",
       "      <td>888522</td>\n",
       "    </tr>\n",
       "    <tr>\n",
       "      <th>4</th>\n",
       "      <td>3.82</td>\n",
       "      <td>149918</td>\n",
       "      <td>96</td>\n",
       "      <td>Nigel Pennick</td>\n",
       "      <td>1740</td>\n",
       "    </tr>\n",
       "  </tbody>\n",
       "</table>\n",
       "</div>"
      ],
      "text/plain": [
       "   average_rating  author_id  text_reviews_count              name  \\\n",
       "0            3.98     604031                   7  Ronald J. Fields   \n",
       "1            4.08     626222               28716     Anita Diamant   \n",
       "2            3.92      10333                5075    Barbara Hambly   \n",
       "3            3.68       9212               36262   Jennifer Weiner   \n",
       "4            3.82     149918                  96     Nigel Pennick   \n",
       "\n",
       "   ratings_count  \n",
       "0             49  \n",
       "1         546796  \n",
       "2         122118  \n",
       "3         888522  \n",
       "4           1740  "
      ]
     },
     "execution_count": 5,
     "metadata": {},
     "output_type": "execute_result"
    }
   ],
   "source": [
    "authors_df.head()"
   ]
  },
  {
   "cell_type": "code",
   "execution_count": 17,
   "metadata": {},
   "outputs": [
    {
     "data": {
      "text/html": [
       "<div>\n",
       "<style scoped>\n",
       "    .dataframe tbody tr th:only-of-type {\n",
       "        vertical-align: middle;\n",
       "    }\n",
       "\n",
       "    .dataframe tbody tr th {\n",
       "        vertical-align: top;\n",
       "    }\n",
       "\n",
       "    .dataframe thead th {\n",
       "        text-align: right;\n",
       "    }\n",
       "</style>\n",
       "<table border=\"1\" class=\"dataframe\">\n",
       "  <thead>\n",
       "    <tr style=\"text-align: right;\">\n",
       "      <th></th>\n",
       "      <th>average_rating</th>\n",
       "      <th>author_id</th>\n",
       "      <th>text_reviews_count</th>\n",
       "      <th>ratings_count</th>\n",
       "    </tr>\n",
       "  </thead>\n",
       "  <tbody>\n",
       "    <tr>\n",
       "      <th>count</th>\n",
       "      <td>829529.000000</td>\n",
       "      <td>8.295290e+05</td>\n",
       "      <td>829529.000000</td>\n",
       "      <td>8.295290e+05</td>\n",
       "    </tr>\n",
       "    <tr>\n",
       "      <th>mean</th>\n",
       "      <td>3.844779</td>\n",
       "      <td>5.751610e+06</td>\n",
       "      <td>106.865331</td>\n",
       "      <td>1.595326e+03</td>\n",
       "    </tr>\n",
       "    <tr>\n",
       "      <th>std</th>\n",
       "      <td>0.603013</td>\n",
       "      <td>5.129977e+06</td>\n",
       "      <td>1770.225828</td>\n",
       "      <td>4.479669e+04</td>\n",
       "    </tr>\n",
       "    <tr>\n",
       "      <th>min</th>\n",
       "      <td>0.000000</td>\n",
       "      <td>3.000000e+00</td>\n",
       "      <td>0.000000</td>\n",
       "      <td>0.000000e+00</td>\n",
       "    </tr>\n",
       "    <tr>\n",
       "      <th>25%</th>\n",
       "      <td>3.580000</td>\n",
       "      <td>9.327180e+05</td>\n",
       "      <td>2.000000</td>\n",
       "      <td>8.000000e+00</td>\n",
       "    </tr>\n",
       "    <tr>\n",
       "      <th>50%</th>\n",
       "      <td>3.900000</td>\n",
       "      <td>4.952564e+06</td>\n",
       "      <td>6.000000</td>\n",
       "      <td>3.100000e+01</td>\n",
       "    </tr>\n",
       "    <tr>\n",
       "      <th>75%</th>\n",
       "      <td>4.170000</td>\n",
       "      <td>7.838936e+06</td>\n",
       "      <td>20.000000</td>\n",
       "      <td>1.310000e+02</td>\n",
       "    </tr>\n",
       "    <tr>\n",
       "      <th>max</th>\n",
       "      <td>5.000000</td>\n",
       "      <td>1.734337e+07</td>\n",
       "      <td>448570.000000</td>\n",
       "      <td>1.853272e+07</td>\n",
       "    </tr>\n",
       "  </tbody>\n",
       "</table>\n",
       "</div>"
      ],
      "text/plain": [
       "       average_rating     author_id  text_reviews_count  ratings_count\n",
       "count   829529.000000  8.295290e+05       829529.000000   8.295290e+05\n",
       "mean         3.844779  5.751610e+06          106.865331   1.595326e+03\n",
       "std          0.603013  5.129977e+06         1770.225828   4.479669e+04\n",
       "min          0.000000  3.000000e+00            0.000000   0.000000e+00\n",
       "25%          3.580000  9.327180e+05            2.000000   8.000000e+00\n",
       "50%          3.900000  4.952564e+06            6.000000   3.100000e+01\n",
       "75%          4.170000  7.838936e+06           20.000000   1.310000e+02\n",
       "max          5.000000  1.734337e+07       448570.000000   1.853272e+07"
      ]
     },
     "execution_count": 17,
     "metadata": {},
     "output_type": "execute_result"
    }
   ],
   "source": [
    "authors_df.describe()"
   ]
  },
  {
   "cell_type": "markdown",
   "metadata": {},
   "source": [
    "### ✅ Finding authors who are present in book dataset "
   ]
  },
  {
   "cell_type": "markdown",
   "metadata": {},
   "source": [
    "<div style=\"direction:rtl\", align=\"justify\"><h3>\n",
    "    <span style='font-family:\"B Nazanin\"'>\n",
    "با توجه به اینکه این دیتاست حاوی اطلاعات بالغ بر  800 هزار نویسنده است و ما درون دیتاست اصلی تنها حدود 5 هزار نویسنده منحصر به فرد داریم لذا ابتدا نویسندگانی که درون دیتاست اصلی هستند را جدا سازی می نماییم."
   ]
  },
  {
   "cell_type": "code",
   "execution_count": 22,
   "metadata": {},
   "outputs": [],
   "source": [
    "import re\n",
    "unique_authors = set()\n",
    "for i in book['authors'].unique():\n",
    "    res = re.split(',', i)\n",
    "    for j in res:\n",
    "        unique_authors.add(j.lstrip())"
   ]
  },
  {
   "cell_type": "code",
   "execution_count": 23,
   "metadata": {},
   "outputs": [],
   "source": [
    "authors_in_book = pd.DataFrame(columns=authors_df.columns)"
   ]
  },
  {
   "cell_type": "code",
   "execution_count": 24,
   "metadata": {},
   "outputs": [],
   "source": [
    "for i in unique_authors:\n",
    "    authors_in_book = authors_in_book.append(authors_df[authors_df['name'] == i])"
   ]
  },
  {
   "cell_type": "code",
   "execution_count": 25,
   "metadata": {},
   "outputs": [
    {
     "data": {
      "text/html": [
       "<div>\n",
       "<style scoped>\n",
       "    .dataframe tbody tr th:only-of-type {\n",
       "        vertical-align: middle;\n",
       "    }\n",
       "\n",
       "    .dataframe tbody tr th {\n",
       "        vertical-align: top;\n",
       "    }\n",
       "\n",
       "    .dataframe thead th {\n",
       "        text-align: right;\n",
       "    }\n",
       "</style>\n",
       "<table border=\"1\" class=\"dataframe\">\n",
       "  <thead>\n",
       "    <tr style=\"text-align: right;\">\n",
       "      <th></th>\n",
       "      <th>average_rating</th>\n",
       "      <th>author_id</th>\n",
       "      <th>text_reviews_count</th>\n",
       "      <th>name</th>\n",
       "      <th>ratings_count</th>\n",
       "    </tr>\n",
       "  </thead>\n",
       "  <tbody>\n",
       "    <tr>\n",
       "      <th>113224</th>\n",
       "      <td>4.00</td>\n",
       "      <td>8143161</td>\n",
       "      <td>846</td>\n",
       "      <td>Titus Lucretius Carus</td>\n",
       "      <td>23970</td>\n",
       "    </tr>\n",
       "    <tr>\n",
       "      <th>111033</th>\n",
       "      <td>3.96</td>\n",
       "      <td>3406353</td>\n",
       "      <td>9173</td>\n",
       "      <td>Justin Halpern</td>\n",
       "      <td>134969</td>\n",
       "    </tr>\n",
       "    <tr>\n",
       "      <th>47586</th>\n",
       "      <td>4.21</td>\n",
       "      <td>170658</td>\n",
       "      <td>6468</td>\n",
       "      <td>L.A. Meyer</td>\n",
       "      <td>81221</td>\n",
       "    </tr>\n",
       "    <tr>\n",
       "      <th>19145</th>\n",
       "      <td>3.87</td>\n",
       "      <td>138825</td>\n",
       "      <td>43628</td>\n",
       "      <td>Tana French</td>\n",
       "      <td>481984</td>\n",
       "    </tr>\n",
       "    <tr>\n",
       "      <th>549338</th>\n",
       "      <td>3.63</td>\n",
       "      <td>14175791</td>\n",
       "      <td>8</td>\n",
       "      <td>Tana French</td>\n",
       "      <td>52</td>\n",
       "    </tr>\n",
       "  </tbody>\n",
       "</table>\n",
       "</div>"
      ],
      "text/plain": [
       "        average_rating author_id text_reviews_count                   name  \\\n",
       "113224            4.00   8143161                846  Titus Lucretius Carus   \n",
       "111033            3.96   3406353               9173         Justin Halpern   \n",
       "47586             4.21    170658               6468             L.A. Meyer   \n",
       "19145             3.87    138825              43628            Tana French   \n",
       "549338            3.63  14175791                  8            Tana French   \n",
       "\n",
       "       ratings_count  \n",
       "113224         23970  \n",
       "111033        134969  \n",
       "47586          81221  \n",
       "19145         481984  \n",
       "549338            52  "
      ]
     },
     "execution_count": 25,
     "metadata": {},
     "output_type": "execute_result"
    }
   ],
   "source": [
    "authors_in_book.head()"
   ]
  },
  {
   "cell_type": "code",
   "execution_count": 26,
   "metadata": {},
   "outputs": [
    {
     "data": {
      "text/plain": [
       "(5784, 5)"
      ]
     },
     "execution_count": 26,
     "metadata": {},
     "output_type": "execute_result"
    }
   ],
   "source": [
    "authors_in_book.shape"
   ]
  },
  {
   "cell_type": "code",
   "execution_count": 27,
   "metadata": {},
   "outputs": [],
   "source": [
    "authors_in_book.to_csv(path + 'authors.csv')"
   ]
  },
  {
   "cell_type": "markdown",
   "metadata": {},
   "source": [
    "### ✅ Normalize authors columns"
   ]
  },
  {
   "cell_type": "markdown",
   "metadata": {},
   "source": [
    "<div style=\"direction:rtl\", align=\"justify\"><h3>\n",
    "    <span style='font-family:\"B Nazanin\"'>\n",
    "در این قسمت فیلد های عددی مربوطه را نرمالایز کرده و در ادامه برای خوشه بندی مناسب از آن ها استفاده می کنیم."
   ]
  },
  {
   "cell_type": "code",
   "execution_count": 5,
   "metadata": {},
   "outputs": [
    {
     "data": {
      "text/html": [
       "<div>\n",
       "<style scoped>\n",
       "    .dataframe tbody tr th:only-of-type {\n",
       "        vertical-align: middle;\n",
       "    }\n",
       "\n",
       "    .dataframe tbody tr th {\n",
       "        vertical-align: top;\n",
       "    }\n",
       "\n",
       "    .dataframe thead th {\n",
       "        text-align: right;\n",
       "    }\n",
       "</style>\n",
       "<table border=\"1\" class=\"dataframe\">\n",
       "  <thead>\n",
       "    <tr style=\"text-align: right;\">\n",
       "      <th></th>\n",
       "      <th>average_rating</th>\n",
       "      <th>author_id</th>\n",
       "      <th>text_reviews_count</th>\n",
       "      <th>name</th>\n",
       "      <th>ratings_count</th>\n",
       "    </tr>\n",
       "  </thead>\n",
       "  <tbody>\n",
       "    <tr>\n",
       "      <th>0</th>\n",
       "      <td>4.00</td>\n",
       "      <td>8143161</td>\n",
       "      <td>846</td>\n",
       "      <td>Titus Lucretius Carus</td>\n",
       "      <td>23970</td>\n",
       "    </tr>\n",
       "    <tr>\n",
       "      <th>1</th>\n",
       "      <td>3.96</td>\n",
       "      <td>3406353</td>\n",
       "      <td>9173</td>\n",
       "      <td>Justin Halpern</td>\n",
       "      <td>134969</td>\n",
       "    </tr>\n",
       "    <tr>\n",
       "      <th>2</th>\n",
       "      <td>4.21</td>\n",
       "      <td>170658</td>\n",
       "      <td>6468</td>\n",
       "      <td>L.A. Meyer</td>\n",
       "      <td>81221</td>\n",
       "    </tr>\n",
       "    <tr>\n",
       "      <th>3</th>\n",
       "      <td>3.87</td>\n",
       "      <td>138825</td>\n",
       "      <td>43628</td>\n",
       "      <td>Tana French</td>\n",
       "      <td>481984</td>\n",
       "    </tr>\n",
       "    <tr>\n",
       "      <th>4</th>\n",
       "      <td>3.63</td>\n",
       "      <td>14175791</td>\n",
       "      <td>8</td>\n",
       "      <td>Tana French</td>\n",
       "      <td>52</td>\n",
       "    </tr>\n",
       "  </tbody>\n",
       "</table>\n",
       "</div>"
      ],
      "text/plain": [
       "   average_rating  author_id  text_reviews_count                   name  \\\n",
       "0            4.00    8143161                 846  Titus Lucretius Carus   \n",
       "1            3.96    3406353                9173         Justin Halpern   \n",
       "2            4.21     170658                6468             L.A. Meyer   \n",
       "3            3.87     138825               43628            Tana French   \n",
       "4            3.63   14175791                   8            Tana French   \n",
       "\n",
       "   ratings_count  \n",
       "0          23970  \n",
       "1         134969  \n",
       "2          81221  \n",
       "3         481984  \n",
       "4             52  "
      ]
     },
     "execution_count": 5,
     "metadata": {},
     "output_type": "execute_result"
    }
   ],
   "source": [
    "authors_df = pd.read_csv(path + 'authors.csv')\n",
    "authors_df.drop(['Unnamed: 0'], axis=1, inplace=True)\n",
    "authors_df.head()"
   ]
  },
  {
   "cell_type": "code",
   "execution_count": 6,
   "metadata": {},
   "outputs": [],
   "source": [
    "# from sklearn.preprocessing import StandardScaler\n",
    "\n",
    "# scaler = StandardScaler()\n",
    "# authors_std = scaler.fit_transform(authors_df.drop(['name'],axis=1))\n",
    "# authors_std = pd.DataFrame(authors_std, columns=authors_df.drop(['name'], axis=1).columns)\n",
    "# authors_std.head()"
   ]
  },
  {
   "cell_type": "code",
   "execution_count": 7,
   "metadata": {},
   "outputs": [],
   "source": [
    "\n",
    "from sklearn.preprocessing import normalize\n",
    "\n",
    "authors_std = pd.DataFrame(normalize(authors_df.drop(['name'],axis=1)),\n",
    "                           columns = authors_df.drop(['name'], axis=1).columns)"
   ]
  },
  {
   "cell_type": "code",
   "execution_count": 8,
   "metadata": {},
   "outputs": [
    {
     "data": {
      "text/html": [
       "<div>\n",
       "<style scoped>\n",
       "    .dataframe tbody tr th:only-of-type {\n",
       "        vertical-align: middle;\n",
       "    }\n",
       "\n",
       "    .dataframe tbody tr th {\n",
       "        vertical-align: top;\n",
       "    }\n",
       "\n",
       "    .dataframe thead th {\n",
       "        text-align: right;\n",
       "    }\n",
       "</style>\n",
       "<table border=\"1\" class=\"dataframe\">\n",
       "  <thead>\n",
       "    <tr style=\"text-align: right;\">\n",
       "      <th></th>\n",
       "      <th>average_rating</th>\n",
       "      <th>author_id</th>\n",
       "      <th>text_reviews_count</th>\n",
       "      <th>ratings_count</th>\n",
       "    </tr>\n",
       "  </thead>\n",
       "  <tbody>\n",
       "    <tr>\n",
       "      <th>0</th>\n",
       "      <td>4.912076e-07</td>\n",
       "      <td>0.999996</td>\n",
       "      <td>1.038904e-04</td>\n",
       "      <td>0.002944</td>\n",
       "    </tr>\n",
       "    <tr>\n",
       "      <th>1</th>\n",
       "      <td>1.161618e-06</td>\n",
       "      <td>0.999212</td>\n",
       "      <td>2.690788e-03</td>\n",
       "      <td>0.039592</td>\n",
       "    </tr>\n",
       "    <tr>\n",
       "      <th>2</th>\n",
       "      <td>2.226210e-05</td>\n",
       "      <td>0.902424</td>\n",
       "      <td>3.420220e-02</td>\n",
       "      <td>0.429489</td>\n",
       "    </tr>\n",
       "    <tr>\n",
       "      <th>3</th>\n",
       "      <td>7.686619e-06</td>\n",
       "      <td>0.275735</td>\n",
       "      <td>8.665422e-02</td>\n",
       "      <td>0.957320</td>\n",
       "    </tr>\n",
       "    <tr>\n",
       "      <th>4</th>\n",
       "      <td>2.560704e-07</td>\n",
       "      <td>1.000000</td>\n",
       "      <td>5.643424e-07</td>\n",
       "      <td>0.000004</td>\n",
       "    </tr>\n",
       "  </tbody>\n",
       "</table>\n",
       "</div>"
      ],
      "text/plain": [
       "   average_rating  author_id  text_reviews_count  ratings_count\n",
       "0    4.912076e-07   0.999996        1.038904e-04       0.002944\n",
       "1    1.161618e-06   0.999212        2.690788e-03       0.039592\n",
       "2    2.226210e-05   0.902424        3.420220e-02       0.429489\n",
       "3    7.686619e-06   0.275735        8.665422e-02       0.957320\n",
       "4    2.560704e-07   1.000000        5.643424e-07       0.000004"
      ]
     },
     "execution_count": 8,
     "metadata": {},
     "output_type": "execute_result"
    }
   ],
   "source": [
    "authors_std.head()"
   ]
  },
  {
   "cell_type": "code",
   "execution_count": 9,
   "metadata": {},
   "outputs": [
    {
     "data": {
      "text/plain": [
       "<AxesSubplot:>"
      ]
     },
     "execution_count": 9,
     "metadata": {},
     "output_type": "execute_result"
    },
    {
     "data": {
      "image/png": "[encoded data removed]",
      "text/plain": [
       "<Figure size 576x576 with 2 Axes>"
      ]
     },
     "metadata": {
      "needs_background": "light"
     },
     "output_type": "display_data"
    }
   ],
   "source": [
    "import matplotlib.pyplot as plt\n",
    "import seaborn as sns\n",
    "plt.subplots(figsize=(8,8))\n",
    "\n",
    "sns.heatmap(authors_std.corr(), annot = True, fmt='.2g',cmap= 'YlGn')"
   ]
  },
  {
   "cell_type": "markdown",
   "metadata": {},
   "source": [
    "### ✅ 3D plot of authors' features"
   ]
  },
  {
   "cell_type": "markdown",
   "metadata": {},
   "source": [
    "<div style=\"direction:rtl\", align=\"justify\"><h3>\n",
    "    <span style='font-family:\"B Nazanin\"'>\n",
    "    نمودار سه بعدی زیر توزیع نویسندگان را براساس ویژگی های آن ها نشان می دهد."
   ]
  },
  {
   "cell_type": "code",
   "execution_count": 10,
   "metadata": {},
   "outputs": [
    {
     "data": {
      "image/png": "[encoded data removed]",
      "text/plain": [
       "<Figure size 720x720 with 1 Axes>"
      ]
     },
     "metadata": {
      "needs_background": "light"
     },
     "output_type": "display_data"
    }
   ],
   "source": [
    "from mpl_toolkits import mplot3d\n",
    "import numpy as np\n",
    "import matplotlib.pyplot as plt\n",
    "\n",
    "# Creating figure\n",
    "fig = plt.figure(figsize = (10, 10))\n",
    "ax = plt.axes(projection =\"3d\")\n",
    "\n",
    "# Creating plot\n",
    "ax.scatter3D(authors_std['text_reviews_count'], authors_std['average_rating'], authors_std['ratings_count'])\n",
    "plt.title(\"simple 3D scatter plot\")\n",
    " \n",
    "ax.set_ylabel('average_rating')\n",
    "ax.set_xlabel('text_reviews_count')\n",
    "ax.set_zlabel('ratings_count')\n",
    "\n",
    "# show plot\n",
    "plt.show()"
   ]
  },
  {
   "cell_type": "markdown",
   "metadata": {},
   "source": [
    "### ✅ How many clusters do we need"
   ]
  },
  {
   "cell_type": "markdown",
   "metadata": {},
   "source": [
    "<div style=\"direction:rtl\", align=\"justify\"><h3>\n",
    "    <span style='font-family:\"B Nazanin\"'>\n",
    "    حال تلاش می کنیم با استفاده از معیار های ارزیابی خوشه بندی مانند اینرسی و شاخص سیلوئت تعداد خوشه مناسب برای نویسندگان را ارزیابی نماییم با توجه به اعداد و نمودار های بدست آمده مشخص است که اینرسی بیشترین تغییر و به عبارت دیگر بیشتر کاهش را زمانی داشته که از 2 خوشه به 3 خوشه رفته ایم و اما شاخص سلوئت دائما با افزایش تعداد خوشه ها در حال کاهش بوده اما میزان کاهش آن در حد چند صدم است و چشمگیر نمی باشد با توجه به این موضوع ما 3 خوشه را انتخاب می کنیم چرا که میزان اینرسی آن به نسبت مناسب و شاخص سیلوئت نظیر آن نیز حدود 0.73 است که مقدار مناسبی ارزیابی می شود."
   ]
  },
  {
   "cell_type": "code",
   "execution_count": 11,
   "metadata": {},
   "outputs": [
    {
     "name": "stdout",
     "output_type": "stream",
     "text": [
      "inertia for clusters number between 2 to 5\n",
      "[270.85330824540875, 106.85346383439068, 57.241666945285445, 36.743208425969954]\n",
      "_____________________________________________\n",
      "silhouette for clusters number between 2 to 5\n",
      "[0.7666373292173682, 0.7352857931161181, 0.7114222707452318, 0.6876575224948338]\n"
     ]
    }
   ],
   "source": [
    "from sklearn.cluster import KMeans\n",
    "from sklearn.metrics import silhouette_score\n",
    "\n",
    "inertia = []\n",
    "silhouette = []\n",
    "for i in range(2, 6):\n",
    "    kme = KMeans(n_clusters=i)\n",
    "    labels = kme.fit_predict(authors_std)\n",
    "    iner = kme.inertia_\n",
    "    sil = silhouette_score(authors_std, labels)\n",
    "    silhouette.append(sil)\n",
    "    inertia.append(iner)\n",
    "\n",
    "print('inertia for clusters number between 2 to 5')\n",
    "print(inertia)\n",
    "print('_____________________________________________')\n",
    "print('silhouette for clusters number between 2 to 5')\n",
    "print(silhouette)"
   ]
  },
  {
   "cell_type": "code",
   "execution_count": 12,
   "metadata": {},
   "outputs": [
    {
     "data": {
      "image/png": "[encoded data removed]",
      "text/plain": [
       "<Figure size 432x432 with 1 Axes>"
      ]
     },
     "metadata": {
      "needs_background": "light"
     },
     "output_type": "display_data"
    }
   ],
   "source": [
    "plt.figure(figsize=(6, 6))\n",
    "plt.plot(range(2, 6), inertia, c=\"#008fd5\", label=\"inertia\")\n",
    "\n",
    "\n",
    "plt.xlabel(\"cluster_num\")\n",
    "plt.ylabel(\"inertia\")\n",
    "plt.legend()\n",
    "plt.title(\"Clustering Performance Based on Clusters Number\")\n",
    "plt.tight_layout()\n",
    "plt.show()"
   ]
  },
  {
   "cell_type": "code",
   "execution_count": 13,
   "metadata": {},
   "outputs": [
    {
     "data": {
      "image/png": "[encoded data removed]",
      "text/plain": [
       "<Figure size 432x432 with 1 Axes>"
      ]
     },
     "metadata": {
      "needs_background": "light"
     },
     "output_type": "display_data"
    }
   ],
   "source": [
    "plt.figure(figsize=(6, 6))\n",
    "plt.plot(range(2, 6), silhouette, c=\"#008fd5\", label=\"silhouette_score\")\n",
    "\n",
    "\n",
    "plt.xlabel(\"cluster_num\")\n",
    "plt.ylabel(\"silhouette_score\")\n",
    "plt.legend()\n",
    "plt.title(\"Clustering Performance Based on Clusters Number\")\n",
    "plt.tight_layout()\n",
    "plt.show()"
   ]
  },
  {
   "cell_type": "code",
   "execution_count": 14,
   "metadata": {},
   "outputs": [],
   "source": [
    "kmeans01 = KMeans(n_clusters = 3)\n",
    "cluster = kmeans01.fit_predict(authors_std)\n",
    "centroids = kmeans01.cluster_centers_"
   ]
  },
  {
   "cell_type": "code",
   "execution_count": 21,
   "metadata": {},
   "outputs": [
    {
     "data": {
      "text/plain": [
       "array([[7.51305025e-05, 7.24500009e-01, 4.10119836e-02, 6.58380417e-01],\n",
       "       [1.25187685e-05, 9.91187556e-01, 5.14689569e-03, 7.92019534e-02],\n",
       "       [5.14810538e-05, 1.35743079e-01, 5.22043229e-02, 9.79684151e-01]])"
      ]
     },
     "execution_count": 21,
     "metadata": {},
     "output_type": "execute_result"
    }
   ],
   "source": [
    "centroids"
   ]
  },
  {
   "cell_type": "code",
   "execution_count": 15,
   "metadata": {},
   "outputs": [],
   "source": [
    "authors_std['Class'] = cluster"
   ]
  },
  {
   "cell_type": "markdown",
   "metadata": {},
   "source": [
    "<div style=\"direction:rtl\", align=\"justify\"><h3>\n",
    "    <span style='font-family:\"B Nazanin\"'>\n",
    "    با توجه به مقادیر زیر به نظر می رسد تعداد نویسندگانی که در خوشه 1 قرار گرفته اند حدودا 3 برابر و تعداد نویسندگانی که در خوشه 2 قرار گرفته اند حدودا 2 برابر تعداد نویسندگان در خوشه 0 است."
   ]
  },
  {
   "cell_type": "code",
   "execution_count": 16,
   "metadata": {},
   "outputs": [
    {
     "data": {
      "text/plain": [
       "1    2971\n",
       "2    1865\n",
       "0     948\n",
       "Name: Class, dtype: int64"
      ]
     },
     "execution_count": 16,
     "metadata": {},
     "output_type": "execute_result"
    }
   ],
   "source": [
    "authors_std['Class'].value_counts()"
   ]
  },
  {
   "cell_type": "code",
   "execution_count": 45,
   "metadata": {},
   "outputs": [
    {
     "data": {
      "text/html": [
       "<div>\n",
       "<style scoped>\n",
       "    .dataframe tbody tr th:only-of-type {\n",
       "        vertical-align: middle;\n",
       "    }\n",
       "\n",
       "    .dataframe tbody tr th {\n",
       "        vertical-align: top;\n",
       "    }\n",
       "\n",
       "    .dataframe thead th {\n",
       "        text-align: right;\n",
       "    }\n",
       "</style>\n",
       "<table border=\"1\" class=\"dataframe\">\n",
       "  <thead>\n",
       "    <tr style=\"text-align: right;\">\n",
       "      <th></th>\n",
       "      <th>average_rating</th>\n",
       "      <th>author_id</th>\n",
       "      <th>text_reviews_count</th>\n",
       "      <th>ratings_count</th>\n",
       "      <th>Class</th>\n",
       "      <th>name</th>\n",
       "    </tr>\n",
       "  </thead>\n",
       "  <tbody>\n",
       "    <tr>\n",
       "      <th>0</th>\n",
       "      <td>4.912076e-07</td>\n",
       "      <td>0.999996</td>\n",
       "      <td>1.038904e-04</td>\n",
       "      <td>0.002944</td>\n",
       "      <td>1</td>\n",
       "      <td>Titus Lucretius Carus</td>\n",
       "    </tr>\n",
       "    <tr>\n",
       "      <th>1</th>\n",
       "      <td>1.161618e-06</td>\n",
       "      <td>0.999212</td>\n",
       "      <td>2.690788e-03</td>\n",
       "      <td>0.039592</td>\n",
       "      <td>1</td>\n",
       "      <td>Justin Halpern</td>\n",
       "    </tr>\n",
       "    <tr>\n",
       "      <th>2</th>\n",
       "      <td>2.226210e-05</td>\n",
       "      <td>0.902424</td>\n",
       "      <td>3.420220e-02</td>\n",
       "      <td>0.429489</td>\n",
       "      <td>0</td>\n",
       "      <td>L.A. Meyer</td>\n",
       "    </tr>\n",
       "    <tr>\n",
       "      <th>3</th>\n",
       "      <td>7.686619e-06</td>\n",
       "      <td>0.275735</td>\n",
       "      <td>8.665422e-02</td>\n",
       "      <td>0.957320</td>\n",
       "      <td>2</td>\n",
       "      <td>Tana French</td>\n",
       "    </tr>\n",
       "    <tr>\n",
       "      <th>4</th>\n",
       "      <td>2.560704e-07</td>\n",
       "      <td>1.000000</td>\n",
       "      <td>5.643424e-07</td>\n",
       "      <td>0.000004</td>\n",
       "      <td>1</td>\n",
       "      <td>Tana French</td>\n",
       "    </tr>\n",
       "  </tbody>\n",
       "</table>\n",
       "</div>"
      ],
      "text/plain": [
       "   average_rating  author_id  text_reviews_count  ratings_count  Class  \\\n",
       "0    4.912076e-07   0.999996        1.038904e-04       0.002944      1   \n",
       "1    1.161618e-06   0.999212        2.690788e-03       0.039592      1   \n",
       "2    2.226210e-05   0.902424        3.420220e-02       0.429489      0   \n",
       "3    7.686619e-06   0.275735        8.665422e-02       0.957320      2   \n",
       "4    2.560704e-07   1.000000        5.643424e-07       0.000004      1   \n",
       "\n",
       "                    name  \n",
       "0  Titus Lucretius Carus  \n",
       "1         Justin Halpern  \n",
       "2             L.A. Meyer  \n",
       "3            Tana French  \n",
       "4            Tana French  "
      ]
     },
     "execution_count": 45,
     "metadata": {},
     "output_type": "execute_result"
    }
   ],
   "source": [
    "authors_std.head()"
   ]
  },
  {
   "cell_type": "code",
   "execution_count": 27,
   "metadata": {},
   "outputs": [],
   "source": [
    "import plotly.graph_objects as go\n",
    "\n",
    "# 3D scatter plot\n",
    "#========================= Clusters Which Is Made Using KMeans =========================#\n",
    "PLOT = go.Figure()\n",
    "\n",
    "for C in range(0,3):\n",
    "    \n",
    "    PLOT.add_trace(go.Scatter3d(x = authors_std[authors_std['Class'] == C]['text_reviews_count'],\n",
    "                                y = authors_std[authors_std['Class'] == C]['average_rating'],\n",
    "                                z = authors_std[authors_std['Class'] == C]['ratings_count'],\n",
    "                                mode = 'markers', marker_size = 8, marker_line_width = 1,\n",
    "                                name = 'Cluster ' + str(C)))\n",
    "\n",
    "            \n",
    "PLOT.add_trace(go.Scatter3d(x = (centroids[0][2],centroids[1][2],centroids[2][2]) , \n",
    "                            y = (centroids[0][0],centroids[1][0],centroids[2][0]), \n",
    "                            z = (centroids[0][3],centroids[1][3],centroids[2][3]),\n",
    "                            mode = 'markers', marker_size = 8, marker_line_width = 1,\n",
    "                                name = 'centroids'))\n",
    "\n",
    "PLOT.update_layout(width = 700, height = 700, autosize = True, showlegend = True,\n",
    "                   scene = dict(xaxis=dict(title = 'text_reviews_count', titlefont_color = 'black'),\n",
    "                                yaxis=dict(title = 'average_rating', titlefont_color = 'black'),\n",
    "                                zaxis=dict(title = 'ratings_count', titlefont_color = 'black')),\n",
    "                   font = dict(family = \"Gilroy\", color  = 'black', size = 12))"
   ]
  },
  {
   "cell_type": "markdown",
   "metadata": {},
   "source": [
    "<div style=\"direction:rtl\", align=\"justify\"><h3>\n",
    "    <span style='font-family:\"B Nazanin\"'>\n",
    "    نمودار زیر نحوه دسته بندی نویسندگان در 3 خوشه را به خوبی نشان می دهد."
   ]
  },
  {
   "cell_type": "code",
   "execution_count": 28,
   "metadata": {},
   "outputs": [
    {
     "data": {
      "image/png": "[encoded data removed]",
      "text/plain": [
       "<IPython.core.display.Image object>"
      ]
     },
     "execution_count": 28,
     "metadata": {},
     "output_type": "execute_result"
    }
   ],
   "source": [
    "from IPython.display import Image\n",
    "Image(\"C:/Users/User/Downloads/test2/Clusters.png\")"
   ]
  },
  {
   "cell_type": "code",
   "execution_count": 29,
   "metadata": {},
   "outputs": [
    {
     "data": {
      "text/html": [
       "<div>\n",
       "<style scoped>\n",
       "    .dataframe tbody tr th:only-of-type {\n",
       "        vertical-align: middle;\n",
       "    }\n",
       "\n",
       "    .dataframe tbody tr th {\n",
       "        vertical-align: top;\n",
       "    }\n",
       "\n",
       "    .dataframe thead th {\n",
       "        text-align: right;\n",
       "    }\n",
       "</style>\n",
       "<table border=\"1\" class=\"dataframe\">\n",
       "  <thead>\n",
       "    <tr style=\"text-align: right;\">\n",
       "      <th></th>\n",
       "      <th>average_rating</th>\n",
       "      <th>author_id</th>\n",
       "      <th>text_reviews_count</th>\n",
       "      <th>ratings_count</th>\n",
       "      <th>Class</th>\n",
       "    </tr>\n",
       "  </thead>\n",
       "  <tbody>\n",
       "    <tr>\n",
       "      <th>count</th>\n",
       "      <td>9.480000e+02</td>\n",
       "      <td>948.000000</td>\n",
       "      <td>948.000000</td>\n",
       "      <td>948.000000</td>\n",
       "      <td>948.0</td>\n",
       "    </tr>\n",
       "    <tr>\n",
       "      <th>mean</th>\n",
       "      <td>7.513050e-05</td>\n",
       "      <td>0.724500</td>\n",
       "      <td>0.041012</td>\n",
       "      <td>0.658380</td>\n",
       "      <td>0.0</td>\n",
       "    </tr>\n",
       "    <tr>\n",
       "      <th>std</th>\n",
       "      <td>7.226057e-05</td>\n",
       "      <td>0.134407</td>\n",
       "      <td>0.026948</td>\n",
       "      <td>0.145615</td>\n",
       "      <td>0.0</td>\n",
       "    </tr>\n",
       "    <tr>\n",
       "      <th>min</th>\n",
       "      <td>6.785359e-07</td>\n",
       "      <td>0.462616</td>\n",
       "      <td>0.001435</td>\n",
       "      <td>0.398791</td>\n",
       "      <td>0.0</td>\n",
       "    </tr>\n",
       "    <tr>\n",
       "      <th>25%</th>\n",
       "      <td>3.347279e-05</td>\n",
       "      <td>0.607129</td>\n",
       "      <td>0.020269</td>\n",
       "      <td>0.529627</td>\n",
       "      <td>0.0</td>\n",
       "    </tr>\n",
       "    <tr>\n",
       "      <th>50%</th>\n",
       "      <td>5.928053e-05</td>\n",
       "      <td>0.743342</td>\n",
       "      <td>0.035579</td>\n",
       "      <td>0.668265</td>\n",
       "      <td>0.0</td>\n",
       "    </tr>\n",
       "    <tr>\n",
       "      <th>75%</th>\n",
       "      <td>1.000753e-04</td>\n",
       "      <td>0.847379</td>\n",
       "      <td>0.058113</td>\n",
       "      <td>0.791559</td>\n",
       "      <td>0.0</td>\n",
       "    </tr>\n",
       "    <tr>\n",
       "      <th>max</th>\n",
       "      <td>1.352532e-03</td>\n",
       "      <td>0.916817</td>\n",
       "      <td>0.156044</td>\n",
       "      <td>0.884573</td>\n",
       "      <td>0.0</td>\n",
       "    </tr>\n",
       "  </tbody>\n",
       "</table>\n",
       "</div>"
      ],
      "text/plain": [
       "       average_rating   author_id  text_reviews_count  ratings_count  Class\n",
       "count    9.480000e+02  948.000000          948.000000     948.000000  948.0\n",
       "mean     7.513050e-05    0.724500            0.041012       0.658380    0.0\n",
       "std      7.226057e-05    0.134407            0.026948       0.145615    0.0\n",
       "min      6.785359e-07    0.462616            0.001435       0.398791    0.0\n",
       "25%      3.347279e-05    0.607129            0.020269       0.529627    0.0\n",
       "50%      5.928053e-05    0.743342            0.035579       0.668265    0.0\n",
       "75%      1.000753e-04    0.847379            0.058113       0.791559    0.0\n",
       "max      1.352532e-03    0.916817            0.156044       0.884573    0.0"
      ]
     },
     "execution_count": 29,
     "metadata": {},
     "output_type": "execute_result"
    }
   ],
   "source": [
    "authors_std[cluster == 0].describe()"
   ]
  },
  {
   "cell_type": "code",
   "execution_count": 30,
   "metadata": {},
   "outputs": [
    {
     "data": {
      "text/html": [
       "<div>\n",
       "<style scoped>\n",
       "    .dataframe tbody tr th:only-of-type {\n",
       "        vertical-align: middle;\n",
       "    }\n",
       "\n",
       "    .dataframe tbody tr th {\n",
       "        vertical-align: top;\n",
       "    }\n",
       "\n",
       "    .dataframe thead th {\n",
       "        text-align: right;\n",
       "    }\n",
       "</style>\n",
       "<table border=\"1\" class=\"dataframe\">\n",
       "  <thead>\n",
       "    <tr style=\"text-align: right;\">\n",
       "      <th></th>\n",
       "      <th>average_rating</th>\n",
       "      <th>author_id</th>\n",
       "      <th>text_reviews_count</th>\n",
       "      <th>ratings_count</th>\n",
       "      <th>Class</th>\n",
       "    </tr>\n",
       "  </thead>\n",
       "  <tbody>\n",
       "    <tr>\n",
       "      <th>count</th>\n",
       "      <td>2.971000e+03</td>\n",
       "      <td>2971.000000</td>\n",
       "      <td>2971.000000</td>\n",
       "      <td>2971.000000</td>\n",
       "      <td>2971.0</td>\n",
       "    </tr>\n",
       "    <tr>\n",
       "      <th>mean</th>\n",
       "      <td>1.251877e-05</td>\n",
       "      <td>0.991188</td>\n",
       "      <td>0.005147</td>\n",
       "      <td>0.079202</td>\n",
       "      <td>1.0</td>\n",
       "    </tr>\n",
       "    <tr>\n",
       "      <th>std</th>\n",
       "      <td>4.739684e-05</td>\n",
       "      <td>0.017737</td>\n",
       "      <td>0.008699</td>\n",
       "      <td>0.104218</td>\n",
       "      <td>0.0</td>\n",
       "    </tr>\n",
       "    <tr>\n",
       "      <th>min</th>\n",
       "      <td>0.000000e+00</td>\n",
       "      <td>0.917816</td>\n",
       "      <td>0.000000</td>\n",
       "      <td>0.000000</td>\n",
       "      <td>1.0</td>\n",
       "    </tr>\n",
       "    <tr>\n",
       "      <th>25%</th>\n",
       "      <td>7.258719e-07</td>\n",
       "      <td>0.993246</td>\n",
       "      <td>0.000382</td>\n",
       "      <td>0.005813</td>\n",
       "      <td>1.0</td>\n",
       "    </tr>\n",
       "    <tr>\n",
       "      <th>50%</th>\n",
       "      <td>1.471344e-06</td>\n",
       "      <td>0.999619</td>\n",
       "      <td>0.001521</td>\n",
       "      <td>0.027522</td>\n",
       "      <td>1.0</td>\n",
       "    </tr>\n",
       "    <tr>\n",
       "      <th>75%</th>\n",
       "      <td>1.192688e-05</td>\n",
       "      <td>0.999983</td>\n",
       "      <td>0.005881</td>\n",
       "      <td>0.115390</td>\n",
       "      <td>1.0</td>\n",
       "    </tr>\n",
       "    <tr>\n",
       "      <th>max</th>\n",
       "      <td>2.016677e-03</td>\n",
       "      <td>1.000000</td>\n",
       "      <td>0.074140</td>\n",
       "      <td>0.395323</td>\n",
       "      <td>1.0</td>\n",
       "    </tr>\n",
       "  </tbody>\n",
       "</table>\n",
       "</div>"
      ],
      "text/plain": [
       "       average_rating    author_id  text_reviews_count  ratings_count   Class\n",
       "count    2.971000e+03  2971.000000         2971.000000    2971.000000  2971.0\n",
       "mean     1.251877e-05     0.991188            0.005147       0.079202     1.0\n",
       "std      4.739684e-05     0.017737            0.008699       0.104218     0.0\n",
       "min      0.000000e+00     0.917816            0.000000       0.000000     1.0\n",
       "25%      7.258719e-07     0.993246            0.000382       0.005813     1.0\n",
       "50%      1.471344e-06     0.999619            0.001521       0.027522     1.0\n",
       "75%      1.192688e-05     0.999983            0.005881       0.115390     1.0\n",
       "max      2.016677e-03     1.000000            0.074140       0.395323     1.0"
      ]
     },
     "execution_count": 30,
     "metadata": {},
     "output_type": "execute_result"
    }
   ],
   "source": [
    "authors_std[cluster == 1].describe()"
   ]
  },
  {
   "cell_type": "code",
   "execution_count": 31,
   "metadata": {},
   "outputs": [
    {
     "data": {
      "text/html": [
       "<div>\n",
       "<style scoped>\n",
       "    .dataframe tbody tr th:only-of-type {\n",
       "        vertical-align: middle;\n",
       "    }\n",
       "\n",
       "    .dataframe tbody tr th {\n",
       "        vertical-align: top;\n",
       "    }\n",
       "\n",
       "    .dataframe thead th {\n",
       "        text-align: right;\n",
       "    }\n",
       "</style>\n",
       "<table border=\"1\" class=\"dataframe\">\n",
       "  <thead>\n",
       "    <tr style=\"text-align: right;\">\n",
       "      <th></th>\n",
       "      <th>average_rating</th>\n",
       "      <th>author_id</th>\n",
       "      <th>text_reviews_count</th>\n",
       "      <th>ratings_count</th>\n",
       "      <th>Class</th>\n",
       "    </tr>\n",
       "  </thead>\n",
       "  <tbody>\n",
       "    <tr>\n",
       "      <th>count</th>\n",
       "      <td>1.865000e+03</td>\n",
       "      <td>1865.000000</td>\n",
       "      <td>1865.000000</td>\n",
       "      <td>1865.000000</td>\n",
       "      <td>1865.0</td>\n",
       "    </tr>\n",
       "    <tr>\n",
       "      <th>mean</th>\n",
       "      <td>5.148105e-05</td>\n",
       "      <td>0.135743</td>\n",
       "      <td>0.052204</td>\n",
       "      <td>0.979684</td>\n",
       "      <td>2.0</td>\n",
       "    </tr>\n",
       "    <tr>\n",
       "      <th>std</th>\n",
       "      <td>5.919066e-05</td>\n",
       "      <td>0.132006</td>\n",
       "      <td>0.028772</td>\n",
       "      <td>0.028711</td>\n",
       "      <td>0.0</td>\n",
       "    </tr>\n",
       "    <tr>\n",
       "      <th>min</th>\n",
       "      <td>2.391027e-07</td>\n",
       "      <td>0.000002</td>\n",
       "      <td>0.001050</td>\n",
       "      <td>0.879263</td>\n",
       "      <td>2.0</td>\n",
       "    </tr>\n",
       "    <tr>\n",
       "      <th>25%</th>\n",
       "      <td>1.328831e-05</td>\n",
       "      <td>0.024904</td>\n",
       "      <td>0.030823</td>\n",
       "      <td>0.972815</td>\n",
       "      <td>2.0</td>\n",
       "    </tr>\n",
       "    <tr>\n",
       "      <th>50%</th>\n",
       "      <td>3.120830e-05</td>\n",
       "      <td>0.088802</td>\n",
       "      <td>0.046656</td>\n",
       "      <td>0.994142</td>\n",
       "      <td>2.0</td>\n",
       "    </tr>\n",
       "    <tr>\n",
       "      <th>75%</th>\n",
       "      <td>6.758679e-05</td>\n",
       "      <td>0.221196</td>\n",
       "      <td>0.068408</td>\n",
       "      <td>0.998227</td>\n",
       "      <td>2.0</td>\n",
       "    </tr>\n",
       "    <tr>\n",
       "      <th>max</th>\n",
       "      <td>4.400610e-04</td>\n",
       "      <td>0.463144</td>\n",
       "      <td>0.173046</td>\n",
       "      <td>0.999958</td>\n",
       "      <td>2.0</td>\n",
       "    </tr>\n",
       "  </tbody>\n",
       "</table>\n",
       "</div>"
      ],
      "text/plain": [
       "       average_rating    author_id  text_reviews_count  ratings_count   Class\n",
       "count    1.865000e+03  1865.000000         1865.000000    1865.000000  1865.0\n",
       "mean     5.148105e-05     0.135743            0.052204       0.979684     2.0\n",
       "std      5.919066e-05     0.132006            0.028772       0.028711     0.0\n",
       "min      2.391027e-07     0.000002            0.001050       0.879263     2.0\n",
       "25%      1.328831e-05     0.024904            0.030823       0.972815     2.0\n",
       "50%      3.120830e-05     0.088802            0.046656       0.994142     2.0\n",
       "75%      6.758679e-05     0.221196            0.068408       0.998227     2.0\n",
       "max      4.400610e-04     0.463144            0.173046       0.999958     2.0"
      ]
     },
     "execution_count": 31,
     "metadata": {},
     "output_type": "execute_result"
    }
   ],
   "source": [
    "authors_std[cluster == 2].describe()"
   ]
  },
  {
   "cell_type": "code",
   "execution_count": 32,
   "metadata": {},
   "outputs": [],
   "source": [
    "author_class = pd.DataFrame(np.zeros((10000,3)),columns=['class_0','class_1','class_2'],index=[i for i in range(1,10001)])"
   ]
  },
  {
   "cell_type": "code",
   "execution_count": 33,
   "metadata": {},
   "outputs": [],
   "source": [
    "authors_std['name'] = authors_df['name']"
   ]
  },
  {
   "cell_type": "markdown",
   "metadata": {},
   "source": [
    "<div style=\"direction:rtl\", align=\"justify\"><h3>\n",
    "    <span style='font-family:\"B Nazanin\"'>\n",
    "    حال با توجه به خوشه های بدست آمده لیبل مربوط به خوشه هر نویسنده را درون دیتاست کتاب جایگذاری می کنیم."
   ]
  },
  {
   "cell_type": "code",
   "execution_count": 36,
   "metadata": {
    "scrolled": true
   },
   "outputs": [],
   "source": [
    "import re\n",
    "unique_authors = set()\n",
    "for i in range(len(book)):\n",
    "    res = re.split(',', book.loc[i,'authors'])\n",
    "    for j in res:\n",
    "        author_class.iloc[i, authors_std['Class'][authors_std['name'] == j]] = 1"
   ]
  },
  {
   "cell_type": "code",
   "execution_count": 107,
   "metadata": {},
   "outputs": [
    {
     "data": {
      "text/plain": [
       "15320"
      ]
     },
     "execution_count": 107,
     "metadata": {},
     "output_type": "execute_result"
    }
   ],
   "source": [
    "import gc\n",
    "gc.collect()"
   ]
  },
  {
   "cell_type": "code",
   "execution_count": 37,
   "metadata": {},
   "outputs": [
    {
     "data": {
      "text/html": [
       "<div>\n",
       "<style scoped>\n",
       "    .dataframe tbody tr th:only-of-type {\n",
       "        vertical-align: middle;\n",
       "    }\n",
       "\n",
       "    .dataframe tbody tr th {\n",
       "        vertical-align: top;\n",
       "    }\n",
       "\n",
       "    .dataframe thead th {\n",
       "        text-align: right;\n",
       "    }\n",
       "</style>\n",
       "<table border=\"1\" class=\"dataframe\">\n",
       "  <thead>\n",
       "    <tr style=\"text-align: right;\">\n",
       "      <th></th>\n",
       "      <th>class_0</th>\n",
       "      <th>class_1</th>\n",
       "      <th>class_2</th>\n",
       "    </tr>\n",
       "  </thead>\n",
       "  <tbody>\n",
       "    <tr>\n",
       "      <th>1</th>\n",
       "      <td>0.0</td>\n",
       "      <td>0.0</td>\n",
       "      <td>1.0</td>\n",
       "    </tr>\n",
       "    <tr>\n",
       "      <th>2</th>\n",
       "      <td>0.0</td>\n",
       "      <td>0.0</td>\n",
       "      <td>1.0</td>\n",
       "    </tr>\n",
       "    <tr>\n",
       "      <th>3</th>\n",
       "      <td>0.0</td>\n",
       "      <td>0.0</td>\n",
       "      <td>1.0</td>\n",
       "    </tr>\n",
       "    <tr>\n",
       "      <th>4</th>\n",
       "      <td>0.0</td>\n",
       "      <td>0.0</td>\n",
       "      <td>1.0</td>\n",
       "    </tr>\n",
       "    <tr>\n",
       "      <th>5</th>\n",
       "      <td>0.0</td>\n",
       "      <td>0.0</td>\n",
       "      <td>1.0</td>\n",
       "    </tr>\n",
       "    <tr>\n",
       "      <th>...</th>\n",
       "      <td>...</td>\n",
       "      <td>...</td>\n",
       "      <td>...</td>\n",
       "    </tr>\n",
       "    <tr>\n",
       "      <th>9996</th>\n",
       "      <td>0.0</td>\n",
       "      <td>0.0</td>\n",
       "      <td>1.0</td>\n",
       "    </tr>\n",
       "    <tr>\n",
       "      <th>9997</th>\n",
       "      <td>0.0</td>\n",
       "      <td>0.0</td>\n",
       "      <td>1.0</td>\n",
       "    </tr>\n",
       "    <tr>\n",
       "      <th>9998</th>\n",
       "      <td>0.0</td>\n",
       "      <td>0.0</td>\n",
       "      <td>1.0</td>\n",
       "    </tr>\n",
       "    <tr>\n",
       "      <th>9999</th>\n",
       "      <td>1.0</td>\n",
       "      <td>0.0</td>\n",
       "      <td>0.0</td>\n",
       "    </tr>\n",
       "    <tr>\n",
       "      <th>10000</th>\n",
       "      <td>0.0</td>\n",
       "      <td>1.0</td>\n",
       "      <td>0.0</td>\n",
       "    </tr>\n",
       "  </tbody>\n",
       "</table>\n",
       "<p>10000 rows × 3 columns</p>\n",
       "</div>"
      ],
      "text/plain": [
       "       class_0  class_1  class_2\n",
       "1          0.0      0.0      1.0\n",
       "2          0.0      0.0      1.0\n",
       "3          0.0      0.0      1.0\n",
       "4          0.0      0.0      1.0\n",
       "5          0.0      0.0      1.0\n",
       "...        ...      ...      ...\n",
       "9996       0.0      0.0      1.0\n",
       "9997       0.0      0.0      1.0\n",
       "9998       0.0      0.0      1.0\n",
       "9999       1.0      0.0      0.0\n",
       "10000      0.0      1.0      0.0\n",
       "\n",
       "[10000 rows x 3 columns]"
      ]
     },
     "execution_count": 37,
     "metadata": {},
     "output_type": "execute_result"
    }
   ],
   "source": [
    "author_class"
   ]
  },
  {
   "cell_type": "markdown",
   "metadata": {},
   "source": [
    "### ✅ Check if there is a book not in 4 class"
   ]
  },
  {
   "cell_type": "markdown",
   "metadata": {},
   "source": [
    "<div style=\"direction:rtl\", align=\"justify\"><h3>\n",
    "    <span style='font-family:\"B Nazanin\"'>\n",
    "    با توجه به اینکه دیتاست حاوی اطلاعات نویسندگان فاقد اطلاعات برخی از آن ها بوده است لذا به نظر میرسد 229 کتاب از نویسنده یا نویسندگان آن ها هیچ اطلاعاتی در دست نیست و لذا خوشه جدیدی ایجاد میکنیم و این کتاب ها در خوشه جدید قرار خواهند گرفت. "
   ]
  },
  {
   "cell_type": "code",
   "execution_count": 38,
   "metadata": {},
   "outputs": [
    {
     "data": {
      "text/html": [
       "<div>\n",
       "<style scoped>\n",
       "    .dataframe tbody tr th:only-of-type {\n",
       "        vertical-align: middle;\n",
       "    }\n",
       "\n",
       "    .dataframe tbody tr th {\n",
       "        vertical-align: top;\n",
       "    }\n",
       "\n",
       "    .dataframe thead th {\n",
       "        text-align: right;\n",
       "    }\n",
       "</style>\n",
       "<table border=\"1\" class=\"dataframe\">\n",
       "  <thead>\n",
       "    <tr style=\"text-align: right;\">\n",
       "      <th></th>\n",
       "      <th>class_0</th>\n",
       "      <th>class_1</th>\n",
       "      <th>class_2</th>\n",
       "    </tr>\n",
       "  </thead>\n",
       "  <tbody>\n",
       "    <tr>\n",
       "      <th>43</th>\n",
       "      <td>0.0</td>\n",
       "      <td>0.0</td>\n",
       "      <td>0.0</td>\n",
       "    </tr>\n",
       "    <tr>\n",
       "      <th>63</th>\n",
       "      <td>0.0</td>\n",
       "      <td>0.0</td>\n",
       "      <td>0.0</td>\n",
       "    </tr>\n",
       "    <tr>\n",
       "      <th>80</th>\n",
       "      <td>0.0</td>\n",
       "      <td>0.0</td>\n",
       "      <td>0.0</td>\n",
       "    </tr>\n",
       "    <tr>\n",
       "      <th>94</th>\n",
       "      <td>0.0</td>\n",
       "      <td>0.0</td>\n",
       "      <td>0.0</td>\n",
       "    </tr>\n",
       "    <tr>\n",
       "      <th>233</th>\n",
       "      <td>0.0</td>\n",
       "      <td>0.0</td>\n",
       "      <td>0.0</td>\n",
       "    </tr>\n",
       "    <tr>\n",
       "      <th>...</th>\n",
       "      <td>...</td>\n",
       "      <td>...</td>\n",
       "      <td>...</td>\n",
       "    </tr>\n",
       "    <tr>\n",
       "      <th>9809</th>\n",
       "      <td>0.0</td>\n",
       "      <td>0.0</td>\n",
       "      <td>0.0</td>\n",
       "    </tr>\n",
       "    <tr>\n",
       "      <th>9829</th>\n",
       "      <td>0.0</td>\n",
       "      <td>0.0</td>\n",
       "      <td>0.0</td>\n",
       "    </tr>\n",
       "    <tr>\n",
       "      <th>9858</th>\n",
       "      <td>0.0</td>\n",
       "      <td>0.0</td>\n",
       "      <td>0.0</td>\n",
       "    </tr>\n",
       "    <tr>\n",
       "      <th>9891</th>\n",
       "      <td>0.0</td>\n",
       "      <td>0.0</td>\n",
       "      <td>0.0</td>\n",
       "    </tr>\n",
       "    <tr>\n",
       "      <th>9929</th>\n",
       "      <td>0.0</td>\n",
       "      <td>0.0</td>\n",
       "      <td>0.0</td>\n",
       "    </tr>\n",
       "  </tbody>\n",
       "</table>\n",
       "<p>229 rows × 3 columns</p>\n",
       "</div>"
      ],
      "text/plain": [
       "      class_0  class_1  class_2\n",
       "43        0.0      0.0      0.0\n",
       "63        0.0      0.0      0.0\n",
       "80        0.0      0.0      0.0\n",
       "94        0.0      0.0      0.0\n",
       "233       0.0      0.0      0.0\n",
       "...       ...      ...      ...\n",
       "9809      0.0      0.0      0.0\n",
       "9829      0.0      0.0      0.0\n",
       "9858      0.0      0.0      0.0\n",
       "9891      0.0      0.0      0.0\n",
       "9929      0.0      0.0      0.0\n",
       "\n",
       "[229 rows x 3 columns]"
      ]
     },
     "execution_count": 38,
     "metadata": {},
     "output_type": "execute_result"
    }
   ],
   "source": [
    "author_class[author_class.sum(axis=1) == 0]"
   ]
  },
  {
   "cell_type": "markdown",
   "metadata": {},
   "source": [
    "### ✅ So we add a fifth column for class named others"
   ]
  },
  {
   "cell_type": "code",
   "execution_count": 39,
   "metadata": {},
   "outputs": [],
   "source": [
    "author_class['class_others'] = np.zeros((10000,1))"
   ]
  },
  {
   "cell_type": "code",
   "execution_count": 40,
   "metadata": {},
   "outputs": [],
   "source": [
    "author_class.class_others[author_class.drop(['class_others'],axis=1).sum(axis=1)==0] = 1"
   ]
  },
  {
   "cell_type": "code",
   "execution_count": 41,
   "metadata": {},
   "outputs": [
    {
     "data": {
      "text/html": [
       "<div>\n",
       "<style scoped>\n",
       "    .dataframe tbody tr th:only-of-type {\n",
       "        vertical-align: middle;\n",
       "    }\n",
       "\n",
       "    .dataframe tbody tr th {\n",
       "        vertical-align: top;\n",
       "    }\n",
       "\n",
       "    .dataframe thead th {\n",
       "        text-align: right;\n",
       "    }\n",
       "</style>\n",
       "<table border=\"1\" class=\"dataframe\">\n",
       "  <thead>\n",
       "    <tr style=\"text-align: right;\">\n",
       "      <th></th>\n",
       "      <th>class_0</th>\n",
       "      <th>class_1</th>\n",
       "      <th>class_2</th>\n",
       "      <th>class_others</th>\n",
       "    </tr>\n",
       "  </thead>\n",
       "  <tbody>\n",
       "    <tr>\n",
       "      <th>1</th>\n",
       "      <td>0.0</td>\n",
       "      <td>0.0</td>\n",
       "      <td>1.0</td>\n",
       "      <td>0.0</td>\n",
       "    </tr>\n",
       "    <tr>\n",
       "      <th>2</th>\n",
       "      <td>0.0</td>\n",
       "      <td>0.0</td>\n",
       "      <td>1.0</td>\n",
       "      <td>0.0</td>\n",
       "    </tr>\n",
       "    <tr>\n",
       "      <th>3</th>\n",
       "      <td>0.0</td>\n",
       "      <td>0.0</td>\n",
       "      <td>1.0</td>\n",
       "      <td>0.0</td>\n",
       "    </tr>\n",
       "    <tr>\n",
       "      <th>4</th>\n",
       "      <td>0.0</td>\n",
       "      <td>0.0</td>\n",
       "      <td>1.0</td>\n",
       "      <td>0.0</td>\n",
       "    </tr>\n",
       "    <tr>\n",
       "      <th>5</th>\n",
       "      <td>0.0</td>\n",
       "      <td>0.0</td>\n",
       "      <td>1.0</td>\n",
       "      <td>0.0</td>\n",
       "    </tr>\n",
       "  </tbody>\n",
       "</table>\n",
       "</div>"
      ],
      "text/plain": [
       "   class_0  class_1  class_2  class_others\n",
       "1      0.0      0.0      1.0           0.0\n",
       "2      0.0      0.0      1.0           0.0\n",
       "3      0.0      0.0      1.0           0.0\n",
       "4      0.0      0.0      1.0           0.0\n",
       "5      0.0      0.0      1.0           0.0"
      ]
     },
     "execution_count": 41,
     "metadata": {},
     "output_type": "execute_result"
    }
   ],
   "source": [
    "author_class.head()"
   ]
  },
  {
   "cell_type": "code",
   "execution_count": 42,
   "metadata": {},
   "outputs": [],
   "source": [
    "author_class.to_csv(path + \"author_class.csv\", index=False)"
   ]
  }
 ],
 "metadata": {
  "kernelspec": {
   "display_name": "Python 3",
   "language": "python",
   "name": "python3"
  },
  "language_info": {
   "codemirror_mode": {
    "name": "ipython",
    "version": 3
   },
   "file_extension": ".py",
   "mimetype": "text/x-python",
   "name": "python",
   "nbconvert_exporter": "python",
   "pygments_lexer": "ipython3",
   "version": "3.7.1"
  }
 },
 "nbformat": 4,
 "nbformat_minor": 2
}
