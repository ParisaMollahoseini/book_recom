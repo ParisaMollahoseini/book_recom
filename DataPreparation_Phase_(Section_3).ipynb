{
 "cells": [
  {
   "cell_type": "code",
   "execution_count": 1,
   "id": "premium-gauge",
   "metadata": {},
   "outputs": [],
   "source": [
    "import pandas as pd\n",
    "import numpy as np"
   ]
  },
  {
   "cell_type": "code",
   "execution_count": 2,
   "id": "stuck-significance",
   "metadata": {},
   "outputs": [],
   "source": [
    "path = \"E:/my_courses/data mining/project/data_genre/\"\n",
    "path = \"C:/Users/User/Downloads/test2/\""
   ]
  },
  {
   "cell_type": "code",
   "execution_count": 3,
   "id": "detected-recipe",
   "metadata": {},
   "outputs": [],
   "source": [
    "book = pd.read_csv(path + 'book_no_null_language_merging.csv')"
   ]
  },
  {
   "cell_type": "markdown",
   "id": "prescribed-psychology",
   "metadata": {},
   "source": [
    "# 2️⃣ Data Preparation Phase : Section 3\n",
    "<hr style=\"border:2px solid gray\"> </hr>"
   ]
  },
  {
   "cell_type": "markdown",
   "id": "generous-probability",
   "metadata": {},
   "source": [
    "## 📑 Using genres field"
   ]
  },
  {
   "cell_type": "markdown",
   "id": "banner-plastic",
   "metadata": {},
   "source": [
    "### ✅ Joining books with genres"
   ]
  },
  {
   "cell_type": "markdown",
   "id": "excited-dietary",
   "metadata": {},
   "source": [
    "<div style=\"direction:rtl\", align=\"justify\">\n",
    "<h3>\n",
    "<span style='font-family:\"B Nazanin\"'>\n",
    "در این قسمت قصد داریم که ژانرهای مختلف هرکتاب را به دیتاست کتابی که داشتیم اضافه کنیم .\n",
    "برای انجام این امر، از دیتاست دیگری که برگرفته از سایت goodreads میباشد استفاده میکنیم چراکه دیتاست اصلی حاوی ژانر نمی باشد."
   ]
  },
  {
   "cell_type": "code",
   "execution_count": 3,
   "id": "caroline-sleeve",
   "metadata": {},
   "outputs": [
    {
     "name": "stdout",
     "output_type": "stream",
     "text": [
      "<class 'pandas.core.frame.DataFrame'>\n",
      "RangeIndex: 10000 entries, 0 to 9999\n",
      "Data columns (total 23 columns):\n",
      " #   Column                     Non-Null Count  Dtype  \n",
      "---  ------                     --------------  -----  \n",
      " 0   book_id                    10000 non-null  int64  \n",
      " 1   goodreads_book_id          10000 non-null  int64  \n",
      " 2   best_book_id               10000 non-null  int64  \n",
      " 3   work_id                    10000 non-null  int64  \n",
      " 4   books_count                10000 non-null  int64  \n",
      " 5   isbn                       9300 non-null   object \n",
      " 6   isbn13                     9924 non-null   float64\n",
      " 7   authors                    10000 non-null  object \n",
      " 8   original_publication_year  10000 non-null  float64\n",
      " 9   original_title             9415 non-null   object \n",
      " 10  title                      10000 non-null  object \n",
      " 11  language_code              10000 non-null  object \n",
      " 12  average_rating             10000 non-null  float64\n",
      " 13  ratings_count              10000 non-null  int64  \n",
      " 14  work_ratings_count         10000 non-null  int64  \n",
      " 15  work_text_reviews_count    10000 non-null  int64  \n",
      " 16  ratings_1                  10000 non-null  int64  \n",
      " 17  ratings_2                  10000 non-null  int64  \n",
      " 18  ratings_3                  10000 non-null  int64  \n",
      " 19  ratings_4                  10000 non-null  int64  \n",
      " 20  ratings_5                  10000 non-null  int64  \n",
      " 21  image_url                  10000 non-null  object \n",
      " 22  small_image_url            10000 non-null  object \n",
      "dtypes: float64(3), int64(13), object(7)\n",
      "memory usage: 1.8+ MB\n"
     ]
    }
   ],
   "source": [
    "book.info()"
   ]
  },
  {
   "cell_type": "code",
   "execution_count": 4,
   "id": "cooperative-simulation",
   "metadata": {},
   "outputs": [],
   "source": [
    "genres_df = pd.read_json('goodreads_book_genres_initial.json', lines=True)"
   ]
  },
  {
   "cell_type": "code",
   "execution_count": 5,
   "id": "formed-belly",
   "metadata": {},
   "outputs": [],
   "source": [
    "genres_df.columns = ['goodreads_book_id','genres']"
   ]
  },
  {
   "cell_type": "markdown",
   "id": "altered-david",
   "metadata": {},
   "source": [
    "<div style=\"direction:rtl\", align=\"justify\">\n",
    "<h3>\n",
    "<span style='font-family:\"B Nazanin\"'>\n",
    "در دیتاست زیر هر کتاب دارای لیستی از ژانرهایی است که بیشتر به آن رای داده اند مثلا اولین سطر نشان میدهد که این کتاب تاریخی میباشد."
   ]
  },
  {
   "cell_type": "code",
   "execution_count": 6,
   "id": "expanded-coast",
   "metadata": {},
   "outputs": [
    {
     "data": {
      "text/html": [
       "<div>\n",
       "<style scoped>\n",
       "    .dataframe tbody tr th:only-of-type {\n",
       "        vertical-align: middle;\n",
       "    }\n",
       "\n",
       "    .dataframe tbody tr th {\n",
       "        vertical-align: top;\n",
       "    }\n",
       "\n",
       "    .dataframe thead th {\n",
       "        text-align: right;\n",
       "    }\n",
       "</style>\n",
       "<table border=\"1\" class=\"dataframe\">\n",
       "  <thead>\n",
       "    <tr style=\"text-align: right;\">\n",
       "      <th></th>\n",
       "      <th>goodreads_book_id</th>\n",
       "      <th>genres</th>\n",
       "    </tr>\n",
       "  </thead>\n",
       "  <tbody>\n",
       "    <tr>\n",
       "      <th>0</th>\n",
       "      <td>5333265</td>\n",
       "      <td>{'history, historical fiction, biography': 1}</td>\n",
       "    </tr>\n",
       "    <tr>\n",
       "      <th>1</th>\n",
       "      <td>1333909</td>\n",
       "      <td>{'fiction': 219, 'history, historical fiction,...</td>\n",
       "    </tr>\n",
       "    <tr>\n",
       "      <th>2</th>\n",
       "      <td>7327624</td>\n",
       "      <td>{'fantasy, paranormal': 31, 'fiction': 8, 'mys...</td>\n",
       "    </tr>\n",
       "    <tr>\n",
       "      <th>3</th>\n",
       "      <td>6066819</td>\n",
       "      <td>{'fiction': 555, 'romance': 23, 'mystery, thri...</td>\n",
       "    </tr>\n",
       "    <tr>\n",
       "      <th>4</th>\n",
       "      <td>287140</td>\n",
       "      <td>{'non-fiction': 3}</td>\n",
       "    </tr>\n",
       "  </tbody>\n",
       "</table>\n",
       "</div>"
      ],
      "text/plain": [
       "   goodreads_book_id                                             genres\n",
       "0            5333265      {'history, historical fiction, biography': 1}\n",
       "1            1333909  {'fiction': 219, 'history, historical fiction,...\n",
       "2            7327624  {'fantasy, paranormal': 31, 'fiction': 8, 'mys...\n",
       "3            6066819  {'fiction': 555, 'romance': 23, 'mystery, thri...\n",
       "4             287140                                 {'non-fiction': 3}"
      ]
     },
     "execution_count": 6,
     "metadata": {},
     "output_type": "execute_result"
    }
   ],
   "source": [
    "genres_df.head()"
   ]
  },
  {
   "cell_type": "markdown",
   "id": "married-province",
   "metadata": {},
   "source": [
    "<div style=\"direction:rtl\", align=\"justify\">\n",
    "<h3>\n",
    "<span style='font-family:\"B Nazanin\"'>\n",
    "دیتاست کتاب را با دیتاست ژانر ذکر شده جوین میکنیم."
   ]
  },
  {
   "cell_type": "code",
   "execution_count": 10,
   "id": "exposed-rental",
   "metadata": {},
   "outputs": [],
   "source": [
    "book_genres_df = pd.merge(book, genres_df, how='left', on=['goodreads_book_id'])"
   ]
  },
  {
   "cell_type": "code",
   "execution_count": 11,
   "id": "liberal-opinion",
   "metadata": {},
   "outputs": [
    {
     "data": {
      "text/plain": [
       "(10000, 24)"
      ]
     },
     "execution_count": 11,
     "metadata": {},
     "output_type": "execute_result"
    }
   ],
   "source": [
    "book_genres_df.shape"
   ]
  },
  {
   "cell_type": "code",
   "execution_count": 12,
   "id": "turkish-rates",
   "metadata": {},
   "outputs": [],
   "source": [
    "book_genres_df.drop(['goodreads_book_id', 'best_book_id','work_id','books_count','isbn',\n",
    "                     'isbn13','original_title','authors','image_url','small_image_url','title'], axis=1, inplace=True)"
   ]
  },
  {
   "cell_type": "code",
   "execution_count": 13,
   "id": "parental-render",
   "metadata": {},
   "outputs": [
    {
     "data": {
      "text/plain": [
       "(10000, 13)"
      ]
     },
     "execution_count": 13,
     "metadata": {},
     "output_type": "execute_result"
    }
   ],
   "source": [
    "book_genres_df.shape"
   ]
  },
  {
   "cell_type": "code",
   "execution_count": 14,
   "id": "surrounded-mandate",
   "metadata": {},
   "outputs": [],
   "source": [
    "book_genres_df.to_csv(path + 'genre_book.csv')"
   ]
  },
  {
   "cell_type": "markdown",
   "id": "billion-pharmacy",
   "metadata": {},
   "source": [
    "### ✅ Separating genres"
   ]
  },
  {
   "cell_type": "markdown",
   "id": "north-lindsay",
   "metadata": {},
   "source": [
    "<div style=\"direction:rtl\", align=\"justify\">\n",
    "<h3>\n",
    "<span style='font-family:\"B Nazanin\"'>\n",
    "در این قسمت ژانرها را جدا می کنیم تا در کل بفهمیم کتاب ها دارای چه نوع ژانرهایی\n",
    "    هستند. یک کتاب می تواند دارای چنیدن ژانر باشد."
   ]
  },
  {
   "cell_type": "code",
   "execution_count": 14,
   "id": "atlantic-singles",
   "metadata": {},
   "outputs": [],
   "source": [
    "book_genres_df = pd.read_csv(path + 'genre_book.csv')"
   ]
  },
  {
   "cell_type": "code",
   "execution_count": 15,
   "id": "dated-panama",
   "metadata": {},
   "outputs": [],
   "source": [
    "book_genres_df.drop(['Unnamed: 0'], axis=1, inplace=True)"
   ]
  },
  {
   "cell_type": "code",
   "execution_count": 16,
   "id": "promising-landscape",
   "metadata": {},
   "outputs": [
    {
     "data": {
      "text/plain": [
       "\"{'young-adult': 30173, 'fiction': 26304, 'fantasy, paranormal': 13609, 'romance': 3390, 'mystery, thriller, crime': 803}\""
      ]
     },
     "execution_count": 16,
     "metadata": {},
     "output_type": "execute_result"
    }
   ],
   "source": [
    "book_genres_df.loc[0,'genres']"
   ]
  },
  {
   "cell_type": "code",
   "execution_count": 17,
   "id": "accepting-option",
   "metadata": {},
   "outputs": [],
   "source": [
    "import json\n",
    "\n",
    "genres_list = set()\n",
    "for i in range(len(book_genres_df)):\n",
    "    if str(book_genres_df.loc[i,'genres']) != 'nan':\n",
    "        genres = json.loads(book_genres_df.loc[i,'genres'].replace(\"'\",\"\\\"\")).keys()\n",
    "        for j in genres:\n",
    "            genres_list.add(j)"
   ]
  },
  {
   "cell_type": "markdown",
   "id": "large-going",
   "metadata": {},
   "source": [
    "<div style=\"direction:rtl\", align=\"justify\">\n",
    "<h3>\n",
    "<span style='font-family:\"B Nazanin\"'>\n",
    "    همانطور که در زیر دیده میشود ژانرها به صورت زیر میباشد . بعضی ها به صورت تکی مانند ژانر کودک و بعضی از آنها به صورت گروهی در نظر گرفته شده اند مانند بایوگرافی ، تاریخی و تاریخی تخیلی"
   ]
  },
  {
   "cell_type": "code",
   "execution_count": 18,
   "id": "amazing-minister",
   "metadata": {},
   "outputs": [
    {
     "data": {
      "text/plain": [
       "{'children',\n",
       " 'comics, graphic',\n",
       " 'fantasy, paranormal',\n",
       " 'fiction',\n",
       " 'history, historical fiction, biography',\n",
       " 'mystery, thriller, crime',\n",
       " 'non-fiction',\n",
       " 'poetry',\n",
       " 'romance',\n",
       " 'young-adult'}"
      ]
     },
     "execution_count": 18,
     "metadata": {},
     "output_type": "execute_result"
    }
   ],
   "source": [
    "genres_list"
   ]
  },
  {
   "cell_type": "code",
   "execution_count": 19,
   "id": "olive-terminology",
   "metadata": {},
   "outputs": [
    {
     "data": {
      "text/plain": [
       "10"
      ]
     },
     "execution_count": 19,
     "metadata": {},
     "output_type": "execute_result"
    }
   ],
   "source": [
    "len(genres_list)"
   ]
  },
  {
   "cell_type": "markdown",
   "id": "august-cotton",
   "metadata": {},
   "source": [
    "### ✅ Creating one-hot genre"
   ]
  },
  {
   "cell_type": "markdown",
   "id": "reasonable-column",
   "metadata": {},
   "source": [
    "<div style=\"direction:rtl\", align=\"justify\">\n",
    "<h3>\n",
    "<span style='font-family:\"B Nazanin\"'>\n",
    "    حال در این قسمت یک one-hot از ژانرهایی که در قسمت قبل بدست آوردیم میسازیم.\n",
    "    به این دیتاست جدید آیدی کتاب ها را نیز اضافه میکنیم."
   ]
  },
  {
   "cell_type": "code",
   "execution_count": 20,
   "id": "settled-spider",
   "metadata": {},
   "outputs": [
    {
     "data": {
      "text/html": [
       "<div>\n",
       "<style scoped>\n",
       "    .dataframe tbody tr th:only-of-type {\n",
       "        vertical-align: middle;\n",
       "    }\n",
       "\n",
       "    .dataframe tbody tr th {\n",
       "        vertical-align: top;\n",
       "    }\n",
       "\n",
       "    .dataframe thead th {\n",
       "        text-align: right;\n",
       "    }\n",
       "</style>\n",
       "<table border=\"1\" class=\"dataframe\">\n",
       "  <thead>\n",
       "    <tr style=\"text-align: right;\">\n",
       "      <th></th>\n",
       "      <th>fantasy, paranormal</th>\n",
       "      <th>non-fiction</th>\n",
       "      <th>mystery, thriller, crime</th>\n",
       "      <th>fiction</th>\n",
       "      <th>young-adult</th>\n",
       "      <th>children</th>\n",
       "      <th>poetry</th>\n",
       "      <th>comics, graphic</th>\n",
       "      <th>romance</th>\n",
       "      <th>history, historical fiction, biography</th>\n",
       "      <th>book_id</th>\n",
       "    </tr>\n",
       "  </thead>\n",
       "  <tbody>\n",
       "    <tr>\n",
       "      <th>0</th>\n",
       "      <td>NaN</td>\n",
       "      <td>NaN</td>\n",
       "      <td>NaN</td>\n",
       "      <td>NaN</td>\n",
       "      <td>NaN</td>\n",
       "      <td>NaN</td>\n",
       "      <td>NaN</td>\n",
       "      <td>NaN</td>\n",
       "      <td>NaN</td>\n",
       "      <td>NaN</td>\n",
       "      <td>1</td>\n",
       "    </tr>\n",
       "    <tr>\n",
       "      <th>1</th>\n",
       "      <td>NaN</td>\n",
       "      <td>NaN</td>\n",
       "      <td>NaN</td>\n",
       "      <td>NaN</td>\n",
       "      <td>NaN</td>\n",
       "      <td>NaN</td>\n",
       "      <td>NaN</td>\n",
       "      <td>NaN</td>\n",
       "      <td>NaN</td>\n",
       "      <td>NaN</td>\n",
       "      <td>2</td>\n",
       "    </tr>\n",
       "    <tr>\n",
       "      <th>2</th>\n",
       "      <td>NaN</td>\n",
       "      <td>NaN</td>\n",
       "      <td>NaN</td>\n",
       "      <td>NaN</td>\n",
       "      <td>NaN</td>\n",
       "      <td>NaN</td>\n",
       "      <td>NaN</td>\n",
       "      <td>NaN</td>\n",
       "      <td>NaN</td>\n",
       "      <td>NaN</td>\n",
       "      <td>3</td>\n",
       "    </tr>\n",
       "    <tr>\n",
       "      <th>3</th>\n",
       "      <td>NaN</td>\n",
       "      <td>NaN</td>\n",
       "      <td>NaN</td>\n",
       "      <td>NaN</td>\n",
       "      <td>NaN</td>\n",
       "      <td>NaN</td>\n",
       "      <td>NaN</td>\n",
       "      <td>NaN</td>\n",
       "      <td>NaN</td>\n",
       "      <td>NaN</td>\n",
       "      <td>4</td>\n",
       "    </tr>\n",
       "    <tr>\n",
       "      <th>4</th>\n",
       "      <td>NaN</td>\n",
       "      <td>NaN</td>\n",
       "      <td>NaN</td>\n",
       "      <td>NaN</td>\n",
       "      <td>NaN</td>\n",
       "      <td>NaN</td>\n",
       "      <td>NaN</td>\n",
       "      <td>NaN</td>\n",
       "      <td>NaN</td>\n",
       "      <td>NaN</td>\n",
       "      <td>5</td>\n",
       "    </tr>\n",
       "  </tbody>\n",
       "</table>\n",
       "</div>"
      ],
      "text/plain": [
       "  fantasy, paranormal non-fiction mystery, thriller, crime fiction  \\\n",
       "0                 NaN         NaN                      NaN     NaN   \n",
       "1                 NaN         NaN                      NaN     NaN   \n",
       "2                 NaN         NaN                      NaN     NaN   \n",
       "3                 NaN         NaN                      NaN     NaN   \n",
       "4                 NaN         NaN                      NaN     NaN   \n",
       "\n",
       "  young-adult children poetry comics, graphic romance  \\\n",
       "0         NaN      NaN    NaN             NaN     NaN   \n",
       "1         NaN      NaN    NaN             NaN     NaN   \n",
       "2         NaN      NaN    NaN             NaN     NaN   \n",
       "3         NaN      NaN    NaN             NaN     NaN   \n",
       "4         NaN      NaN    NaN             NaN     NaN   \n",
       "\n",
       "  history, historical fiction, biography  book_id  \n",
       "0                                    NaN        1  \n",
       "1                                    NaN        2  \n",
       "2                                    NaN        3  \n",
       "3                                    NaN        4  \n",
       "4                                    NaN        5  "
      ]
     },
     "execution_count": 20,
     "metadata": {},
     "output_type": "execute_result"
    }
   ],
   "source": [
    "onehot = pd.DataFrame(columns=genres_list)\n",
    "onehot['book_id'] = book_genres_df['book_id']\n",
    "onehot.head()"
   ]
  },
  {
   "cell_type": "code",
   "execution_count": 21,
   "id": "regional-dominican",
   "metadata": {},
   "outputs": [],
   "source": [
    "for i in range(len(book_genres_df)):\n",
    "    if pd.isnull(book_genres_df.loc[i,'genres']) != True:\n",
    "        genres = json.loads(book_genres_df.loc[i,'genres'].replace(\"'\",\"\\\"\")).keys()\n",
    "        for j in genres:\n",
    "            onehot.loc[i,j] = 1"
   ]
  },
  {
   "cell_type": "markdown",
   "id": "fitted-blend",
   "metadata": {},
   "source": [
    "<div style=\"direction:rtl\", align=\"justify\">\n",
    "<h3>\n",
    "<span style='font-family:\"B Nazanin\"'>\n",
    "    در نهایت دیتاست به صورت زیر بدست می آید به طوریکه به ازای هر کتاب ژانرهایی که داشته است مقدار یک دارند و بقیه صفر هستند."
   ]
  },
  {
   "cell_type": "code",
   "execution_count": 22,
   "id": "completed-voltage",
   "metadata": {},
   "outputs": [
    {
     "data": {
      "text/html": [
       "<div>\n",
       "<style scoped>\n",
       "    .dataframe tbody tr th:only-of-type {\n",
       "        vertical-align: middle;\n",
       "    }\n",
       "\n",
       "    .dataframe tbody tr th {\n",
       "        vertical-align: top;\n",
       "    }\n",
       "\n",
       "    .dataframe thead th {\n",
       "        text-align: right;\n",
       "    }\n",
       "</style>\n",
       "<table border=\"1\" class=\"dataframe\">\n",
       "  <thead>\n",
       "    <tr style=\"text-align: right;\">\n",
       "      <th></th>\n",
       "      <th>fantasy, paranormal</th>\n",
       "      <th>non-fiction</th>\n",
       "      <th>mystery, thriller, crime</th>\n",
       "      <th>fiction</th>\n",
       "      <th>young-adult</th>\n",
       "      <th>children</th>\n",
       "      <th>poetry</th>\n",
       "      <th>comics, graphic</th>\n",
       "      <th>romance</th>\n",
       "      <th>history, historical fiction, biography</th>\n",
       "      <th>book_id</th>\n",
       "    </tr>\n",
       "  </thead>\n",
       "  <tbody>\n",
       "    <tr>\n",
       "      <th>0</th>\n",
       "      <td>1</td>\n",
       "      <td>0</td>\n",
       "      <td>1</td>\n",
       "      <td>1</td>\n",
       "      <td>1</td>\n",
       "      <td>0</td>\n",
       "      <td>0</td>\n",
       "      <td>0</td>\n",
       "      <td>1</td>\n",
       "      <td>0</td>\n",
       "      <td>1</td>\n",
       "    </tr>\n",
       "    <tr>\n",
       "      <th>1</th>\n",
       "      <td>1</td>\n",
       "      <td>0</td>\n",
       "      <td>1</td>\n",
       "      <td>1</td>\n",
       "      <td>1</td>\n",
       "      <td>1</td>\n",
       "      <td>0</td>\n",
       "      <td>0</td>\n",
       "      <td>0</td>\n",
       "      <td>0</td>\n",
       "      <td>2</td>\n",
       "    </tr>\n",
       "    <tr>\n",
       "      <th>2</th>\n",
       "      <td>1</td>\n",
       "      <td>0</td>\n",
       "      <td>0</td>\n",
       "      <td>1</td>\n",
       "      <td>1</td>\n",
       "      <td>0</td>\n",
       "      <td>0</td>\n",
       "      <td>0</td>\n",
       "      <td>1</td>\n",
       "      <td>0</td>\n",
       "      <td>3</td>\n",
       "    </tr>\n",
       "    <tr>\n",
       "      <th>3</th>\n",
       "      <td>0</td>\n",
       "      <td>0</td>\n",
       "      <td>1</td>\n",
       "      <td>1</td>\n",
       "      <td>1</td>\n",
       "      <td>0</td>\n",
       "      <td>0</td>\n",
       "      <td>0</td>\n",
       "      <td>0</td>\n",
       "      <td>1</td>\n",
       "      <td>4</td>\n",
       "    </tr>\n",
       "    <tr>\n",
       "      <th>4</th>\n",
       "      <td>0</td>\n",
       "      <td>0</td>\n",
       "      <td>0</td>\n",
       "      <td>1</td>\n",
       "      <td>1</td>\n",
       "      <td>0</td>\n",
       "      <td>0</td>\n",
       "      <td>0</td>\n",
       "      <td>1</td>\n",
       "      <td>1</td>\n",
       "      <td>5</td>\n",
       "    </tr>\n",
       "  </tbody>\n",
       "</table>\n",
       "</div>"
      ],
      "text/plain": [
       "   fantasy, paranormal  non-fiction  mystery, thriller, crime  fiction  \\\n",
       "0                    1            0                         1        1   \n",
       "1                    1            0                         1        1   \n",
       "2                    1            0                         0        1   \n",
       "3                    0            0                         1        1   \n",
       "4                    0            0                         0        1   \n",
       "\n",
       "   young-adult  children  poetry  comics, graphic  romance  \\\n",
       "0            1         0       0                0        1   \n",
       "1            1         1       0                0        0   \n",
       "2            1         0       0                0        1   \n",
       "3            1         0       0                0        0   \n",
       "4            1         0       0                0        1   \n",
       "\n",
       "   history, historical fiction, biography  book_id  \n",
       "0                                       0        1  \n",
       "1                                       0        2  \n",
       "2                                       0        3  \n",
       "3                                       1        4  \n",
       "4                                       1        5  "
      ]
     },
     "execution_count": 22,
     "metadata": {},
     "output_type": "execute_result"
    }
   ],
   "source": [
    "onehot = onehot.fillna(0)\n",
    "onehot.head()"
   ]
  },
  {
   "cell_type": "markdown",
   "id": "encouraging-excerpt",
   "metadata": {},
   "source": [
    "### ✅ Imputation of null genre manually"
   ]
  },
  {
   "cell_type": "markdown",
   "id": "defined-antigua",
   "metadata": {},
   "source": [
    "<div style=\"direction:rtl\", align=\"justify\">\n",
    "<h3>\n",
    "<span style='font-family:\"B Nazanin\"'>\n",
    "    در بین ژانرهایی که در دیتاست ژانر در قسمت های قبل دیده شد ، چند کتاب ژانری برایشان ثبت نشده بود پس داده های گم شده بودند .\n",
    "    در این قسمت این داده های گم شده را با استفاده از ویژگی های کتاب مورد نظر ، به صورت دستی جستجو و اپدیت میکنیم ."
   ]
  },
  {
   "cell_type": "code",
   "execution_count": 25,
   "id": "steady-seven",
   "metadata": {},
   "outputs": [
    {
     "data": {
      "text/html": [
       "<div>\n",
       "<style scoped>\n",
       "    .dataframe tbody tr th:only-of-type {\n",
       "        vertical-align: middle;\n",
       "    }\n",
       "\n",
       "    .dataframe tbody tr th {\n",
       "        vertical-align: top;\n",
       "    }\n",
       "\n",
       "    .dataframe thead th {\n",
       "        text-align: right;\n",
       "    }\n",
       "</style>\n",
       "<table border=\"1\" class=\"dataframe\">\n",
       "  <thead>\n",
       "    <tr style=\"text-align: right;\">\n",
       "      <th></th>\n",
       "      <th>book_id</th>\n",
       "      <th>original_publication_year</th>\n",
       "      <th>language_code</th>\n",
       "      <th>average_rating</th>\n",
       "      <th>ratings_count</th>\n",
       "      <th>work_ratings_count</th>\n",
       "      <th>work_text_reviews_count</th>\n",
       "      <th>ratings_1</th>\n",
       "      <th>ratings_2</th>\n",
       "      <th>ratings_3</th>\n",
       "      <th>ratings_4</th>\n",
       "      <th>ratings_5</th>\n",
       "      <th>genres</th>\n",
       "    </tr>\n",
       "  </thead>\n",
       "  <tbody>\n",
       "    <tr>\n",
       "      <th>7195</th>\n",
       "      <td>7196</td>\n",
       "      <td>2016.0</td>\n",
       "      <td>en</td>\n",
       "      <td>4.13</td>\n",
       "      <td>17375</td>\n",
       "      <td>22369</td>\n",
       "      <td>2309</td>\n",
       "      <td>299</td>\n",
       "      <td>726</td>\n",
       "      <td>3616</td>\n",
       "      <td>8891</td>\n",
       "      <td>8837</td>\n",
       "      <td>NaN</td>\n",
       "    </tr>\n",
       "    <tr>\n",
       "      <th>8700</th>\n",
       "      <td>8701</td>\n",
       "      <td>1991.0</td>\n",
       "      <td>es-ar</td>\n",
       "      <td>4.21</td>\n",
       "      <td>9115</td>\n",
       "      <td>9116</td>\n",
       "      <td>4</td>\n",
       "      <td>195</td>\n",
       "      <td>366</td>\n",
       "      <td>1301</td>\n",
       "      <td>2761</td>\n",
       "      <td>4493</td>\n",
       "      <td>NaN</td>\n",
       "    </tr>\n",
       "    <tr>\n",
       "      <th>9607</th>\n",
       "      <td>9608</td>\n",
       "      <td>1997.0</td>\n",
       "      <td>en</td>\n",
       "      <td>4.14</td>\n",
       "      <td>11106</td>\n",
       "      <td>11106</td>\n",
       "      <td>3</td>\n",
       "      <td>125</td>\n",
       "      <td>277</td>\n",
       "      <td>2425</td>\n",
       "      <td>3384</td>\n",
       "      <td>4895</td>\n",
       "      <td>NaN</td>\n",
       "    </tr>\n",
       "    <tr>\n",
       "      <th>9815</th>\n",
       "      <td>9816</td>\n",
       "      <td>2016.0</td>\n",
       "      <td>en</td>\n",
       "      <td>4.23</td>\n",
       "      <td>10891</td>\n",
       "      <td>13808</td>\n",
       "      <td>1655</td>\n",
       "      <td>148</td>\n",
       "      <td>438</td>\n",
       "      <td>1925</td>\n",
       "      <td>4879</td>\n",
       "      <td>6418</td>\n",
       "      <td>NaN</td>\n",
       "    </tr>\n",
       "  </tbody>\n",
       "</table>\n",
       "</div>"
      ],
      "text/plain": [
       "      book_id  original_publication_year language_code  average_rating  \\\n",
       "7195     7196                     2016.0            en            4.13   \n",
       "8700     8701                     1991.0         es-ar            4.21   \n",
       "9607     9608                     1997.0            en            4.14   \n",
       "9815     9816                     2016.0            en            4.23   \n",
       "\n",
       "      ratings_count  work_ratings_count  work_text_reviews_count  ratings_1  \\\n",
       "7195          17375               22369                     2309        299   \n",
       "8700           9115                9116                        4        195   \n",
       "9607          11106               11106                        3        125   \n",
       "9815          10891               13808                     1655        148   \n",
       "\n",
       "      ratings_2  ratings_3  ratings_4  ratings_5 genres  \n",
       "7195        726       3616       8891       8837    NaN  \n",
       "8700        366       1301       2761       4493    NaN  \n",
       "9607        277       2425       3384       4895    NaN  \n",
       "9815        438       1925       4879       6418    NaN  "
      ]
     },
     "execution_count": 25,
     "metadata": {},
     "output_type": "execute_result"
    }
   ],
   "source": [
    "book_genres_df[book_genres_df['genres'].isna()]"
   ]
  },
  {
   "cell_type": "code",
   "execution_count": 26,
   "id": "polyphonic-policy",
   "metadata": {},
   "outputs": [
    {
     "data": {
      "text/plain": [
       "fantasy, paranormal                          0\n",
       "non-fiction                                  0\n",
       "mystery, thriller, crime                     0\n",
       "fiction                                      0\n",
       "young-adult                                  0\n",
       "children                                     0\n",
       "poetry                                       0\n",
       "comics, graphic                              0\n",
       "romance                                      0\n",
       "history, historical fiction, biography       0\n",
       "book_id                                   7196\n",
       "Name: 7195, dtype: int64"
      ]
     },
     "execution_count": 26,
     "metadata": {},
     "output_type": "execute_result"
    }
   ],
   "source": [
    "onehot.loc[7195]"
   ]
  },
  {
   "cell_type": "code",
   "execution_count": 27,
   "id": "southwest-gilbert",
   "metadata": {},
   "outputs": [],
   "source": [
    "onehot.loc[7195,['romance','fiction']] = 1\n",
    "onehot.loc[8700,['comics, graphic','fiction']] = 1\n",
    "onehot.loc[9607,['children','fiction','young-adult']] = 1\n",
    "onehot.loc[9815,['romance','fiction']] = 1"
   ]
  },
  {
   "cell_type": "markdown",
   "id": "defensive-click",
   "metadata": {},
   "source": [
    "### ✅ Merge onehot with book_genres_df"
   ]
  },
  {
   "cell_type": "markdown",
   "id": "lonely-financing",
   "metadata": {},
   "source": [
    "<div style=\"direction:rtl\", align=\"justify\">\n",
    "<h3>\n",
    "<span style='font-family:\"B Nazanin\"'>\n",
    "    در نهایت دیتاست one-hot .ژانری که بدست آمد را با دیتاست کتاب جوین زده و فیلد genres قبلی از دیتاست حذف می گردد. "
   ]
  },
  {
   "cell_type": "code",
   "execution_count": 28,
   "id": "involved-mercy",
   "metadata": {},
   "outputs": [],
   "source": [
    "one_hot_genre = pd.merge(book_genres_df, onehot, how='inner', on=['book_id'])"
   ]
  },
  {
   "cell_type": "code",
   "execution_count": 29,
   "id": "romantic-coast",
   "metadata": {},
   "outputs": [
    {
     "data": {
      "text/html": [
       "<div>\n",
       "<style scoped>\n",
       "    .dataframe tbody tr th:only-of-type {\n",
       "        vertical-align: middle;\n",
       "    }\n",
       "\n",
       "    .dataframe tbody tr th {\n",
       "        vertical-align: top;\n",
       "    }\n",
       "\n",
       "    .dataframe thead th {\n",
       "        text-align: right;\n",
       "    }\n",
       "</style>\n",
       "<table border=\"1\" class=\"dataframe\">\n",
       "  <thead>\n",
       "    <tr style=\"text-align: right;\">\n",
       "      <th></th>\n",
       "      <th>book_id</th>\n",
       "      <th>original_publication_year</th>\n",
       "      <th>language_code</th>\n",
       "      <th>average_rating</th>\n",
       "      <th>ratings_count</th>\n",
       "      <th>work_ratings_count</th>\n",
       "      <th>work_text_reviews_count</th>\n",
       "      <th>ratings_1</th>\n",
       "      <th>ratings_2</th>\n",
       "      <th>ratings_3</th>\n",
       "      <th>...</th>\n",
       "      <th>fantasy, paranormal</th>\n",
       "      <th>non-fiction</th>\n",
       "      <th>mystery, thriller, crime</th>\n",
       "      <th>fiction</th>\n",
       "      <th>young-adult</th>\n",
       "      <th>children</th>\n",
       "      <th>poetry</th>\n",
       "      <th>comics, graphic</th>\n",
       "      <th>romance</th>\n",
       "      <th>history, historical fiction, biography</th>\n",
       "    </tr>\n",
       "  </thead>\n",
       "  <tbody>\n",
       "    <tr>\n",
       "      <th>0</th>\n",
       "      <td>1</td>\n",
       "      <td>2008.0</td>\n",
       "      <td>en</td>\n",
       "      <td>4.34</td>\n",
       "      <td>4780653</td>\n",
       "      <td>4942365</td>\n",
       "      <td>155254</td>\n",
       "      <td>66715</td>\n",
       "      <td>127936</td>\n",
       "      <td>560092</td>\n",
       "      <td>...</td>\n",
       "      <td>1</td>\n",
       "      <td>0</td>\n",
       "      <td>1</td>\n",
       "      <td>1</td>\n",
       "      <td>1</td>\n",
       "      <td>0</td>\n",
       "      <td>0</td>\n",
       "      <td>0</td>\n",
       "      <td>1</td>\n",
       "      <td>0</td>\n",
       "    </tr>\n",
       "    <tr>\n",
       "      <th>1</th>\n",
       "      <td>2</td>\n",
       "      <td>1997.0</td>\n",
       "      <td>en</td>\n",
       "      <td>4.44</td>\n",
       "      <td>4602479</td>\n",
       "      <td>4800065</td>\n",
       "      <td>75867</td>\n",
       "      <td>75504</td>\n",
       "      <td>101676</td>\n",
       "      <td>455024</td>\n",
       "      <td>...</td>\n",
       "      <td>1</td>\n",
       "      <td>0</td>\n",
       "      <td>1</td>\n",
       "      <td>1</td>\n",
       "      <td>1</td>\n",
       "      <td>1</td>\n",
       "      <td>0</td>\n",
       "      <td>0</td>\n",
       "      <td>0</td>\n",
       "      <td>0</td>\n",
       "    </tr>\n",
       "    <tr>\n",
       "      <th>2</th>\n",
       "      <td>3</td>\n",
       "      <td>2005.0</td>\n",
       "      <td>en</td>\n",
       "      <td>3.57</td>\n",
       "      <td>3866839</td>\n",
       "      <td>3916824</td>\n",
       "      <td>95009</td>\n",
       "      <td>456191</td>\n",
       "      <td>436802</td>\n",
       "      <td>793319</td>\n",
       "      <td>...</td>\n",
       "      <td>1</td>\n",
       "      <td>0</td>\n",
       "      <td>0</td>\n",
       "      <td>1</td>\n",
       "      <td>1</td>\n",
       "      <td>0</td>\n",
       "      <td>0</td>\n",
       "      <td>0</td>\n",
       "      <td>1</td>\n",
       "      <td>0</td>\n",
       "    </tr>\n",
       "    <tr>\n",
       "      <th>3</th>\n",
       "      <td>4</td>\n",
       "      <td>1960.0</td>\n",
       "      <td>en</td>\n",
       "      <td>4.25</td>\n",
       "      <td>3198671</td>\n",
       "      <td>3340896</td>\n",
       "      <td>72586</td>\n",
       "      <td>60427</td>\n",
       "      <td>117415</td>\n",
       "      <td>446835</td>\n",
       "      <td>...</td>\n",
       "      <td>0</td>\n",
       "      <td>0</td>\n",
       "      <td>1</td>\n",
       "      <td>1</td>\n",
       "      <td>1</td>\n",
       "      <td>0</td>\n",
       "      <td>0</td>\n",
       "      <td>0</td>\n",
       "      <td>0</td>\n",
       "      <td>1</td>\n",
       "    </tr>\n",
       "    <tr>\n",
       "      <th>4</th>\n",
       "      <td>5</td>\n",
       "      <td>1925.0</td>\n",
       "      <td>en</td>\n",
       "      <td>3.89</td>\n",
       "      <td>2683664</td>\n",
       "      <td>2773745</td>\n",
       "      <td>51992</td>\n",
       "      <td>86236</td>\n",
       "      <td>197621</td>\n",
       "      <td>606158</td>\n",
       "      <td>...</td>\n",
       "      <td>0</td>\n",
       "      <td>0</td>\n",
       "      <td>0</td>\n",
       "      <td>1</td>\n",
       "      <td>1</td>\n",
       "      <td>0</td>\n",
       "      <td>0</td>\n",
       "      <td>0</td>\n",
       "      <td>1</td>\n",
       "      <td>1</td>\n",
       "    </tr>\n",
       "  </tbody>\n",
       "</table>\n",
       "<p>5 rows × 23 columns</p>\n",
       "</div>"
      ],
      "text/plain": [
       "   book_id  original_publication_year language_code  average_rating  \\\n",
       "0        1                     2008.0            en            4.34   \n",
       "1        2                     1997.0            en            4.44   \n",
       "2        3                     2005.0            en            3.57   \n",
       "3        4                     1960.0            en            4.25   \n",
       "4        5                     1925.0            en            3.89   \n",
       "\n",
       "   ratings_count  work_ratings_count  work_text_reviews_count  ratings_1  \\\n",
       "0        4780653             4942365                   155254      66715   \n",
       "1        4602479             4800065                    75867      75504   \n",
       "2        3866839             3916824                    95009     456191   \n",
       "3        3198671             3340896                    72586      60427   \n",
       "4        2683664             2773745                    51992      86236   \n",
       "\n",
       "   ratings_2  ratings_3  ...  fantasy, paranormal  non-fiction  \\\n",
       "0     127936     560092  ...                    1            0   \n",
       "1     101676     455024  ...                    1            0   \n",
       "2     436802     793319  ...                    1            0   \n",
       "3     117415     446835  ...                    0            0   \n",
       "4     197621     606158  ...                    0            0   \n",
       "\n",
       "  mystery, thriller, crime  fiction  young-adult  children  poetry  \\\n",
       "0                        1        1            1         0       0   \n",
       "1                        1        1            1         1       0   \n",
       "2                        0        1            1         0       0   \n",
       "3                        1        1            1         0       0   \n",
       "4                        0        1            1         0       0   \n",
       "\n",
       "   comics, graphic  romance  history, historical fiction, biography  \n",
       "0                0        1                                       0  \n",
       "1                0        0                                       0  \n",
       "2                0        1                                       0  \n",
       "3                0        0                                       1  \n",
       "4                0        1                                       1  \n",
       "\n",
       "[5 rows x 23 columns]"
      ]
     },
     "execution_count": 29,
     "metadata": {},
     "output_type": "execute_result"
    }
   ],
   "source": [
    "one_hot_genre.head()"
   ]
  },
  {
   "cell_type": "code",
   "execution_count": 30,
   "id": "compatible-assessment",
   "metadata": {},
   "outputs": [],
   "source": [
    "one_hot_genre.drop(['genres'], inplace=True, axis=1)"
   ]
  },
  {
   "cell_type": "markdown",
   "id": "absent-commander",
   "metadata": {},
   "source": [
    "### ✅ Get dummy language_code"
   ]
  },
  {
   "cell_type": "markdown",
   "id": "processed-action",
   "metadata": {},
   "source": [
    "<div style=\"direction:rtl\", align=\"justify\">\n",
    "<h3>\n",
    "<span style='font-family:\"B Nazanin\"'>\n",
    "اگر تعداد زبان های unique را بدست آوریم درون این دیتاست کتاب هایی به 25 زبان گوناگون وجود دارند اما اگر به توزیع این زبان ها نگاهی بیندازیم مشخص است که 14 مورد حداکثر 3 کتاب درون دیتاست دارند و تعداد زیادی نیز تنها یک کتاب را شامل می شوند به این ترتیب میتوانیم یک خوشه بندی بر روی زبان هایی که کتاب کمتری دارند انجام دهیم."
   ]
  },
  {
   "cell_type": "code",
   "execution_count": 37,
   "id": "suspected-thursday",
   "metadata": {},
   "outputs": [
    {
     "data": {
      "text/plain": [
       "25"
      ]
     },
     "execution_count": 37,
     "metadata": {},
     "output_type": "execute_result"
    }
   ],
   "source": [
    "len(one_hot_genre['language_code'].unique())"
   ]
  },
  {
   "cell_type": "code",
   "execution_count": 38,
   "id": "subjective-heritage",
   "metadata": {},
   "outputs": [
    {
     "data": {
      "text/plain": [
       "en       9799\n",
       "ara        64\n",
       "fre        29\n",
       "ind        21\n",
       "spa        20\n",
       "ger        15\n",
       "jpn         9\n",
       "per         7\n",
       "pol         6\n",
       "por         6\n",
       "dan         3\n",
       "nor         3\n",
       "swe         2\n",
       "ita         2\n",
       "fil         2\n",
       "hin         2\n",
       "tur         2\n",
       "vie         1\n",
       "rus         1\n",
       "chi         1\n",
       "rum         1\n",
       "mul         1\n",
       "nl          1\n",
       "fin         1\n",
       "es-ar       1\n",
       "Name: language_code, dtype: int64"
      ]
     },
     "execution_count": 38,
     "metadata": {},
     "output_type": "execute_result"
    }
   ],
   "source": [
    "one_hot_genre['language_code'].value_counts()"
   ]
  },
  {
   "cell_type": "code",
   "execution_count": 39,
   "id": "antique-floor",
   "metadata": {},
   "outputs": [],
   "source": [
    "for i in one_hot_genre[~book['language_code'].isna()]['language_code'].unique():\n",
    "    if (one_hot_genre['language_code'].value_counts()[i] < 6):\n",
    "        one_hot_genre['language_code'].replace({i:'other'}, inplace=True)"
   ]
  },
  {
   "cell_type": "code",
   "execution_count": 40,
   "id": "governmental-sleep",
   "metadata": {},
   "outputs": [
    {
     "data": {
      "text/plain": [
       "11"
      ]
     },
     "execution_count": 40,
     "metadata": {},
     "output_type": "execute_result"
    }
   ],
   "source": [
    "len(one_hot_genre['language_code'].unique())"
   ]
  },
  {
   "cell_type": "code",
   "execution_count": 41,
   "id": "organic-caution",
   "metadata": {},
   "outputs": [
    {
     "data": {
      "text/plain": [
       "en       9799\n",
       "ara        64\n",
       "fre        29\n",
       "other      24\n",
       "ind        21\n",
       "spa        20\n",
       "ger        15\n",
       "jpn         9\n",
       "per         7\n",
       "pol         6\n",
       "por         6\n",
       "Name: language_code, dtype: int64"
      ]
     },
     "execution_count": 41,
     "metadata": {},
     "output_type": "execute_result"
    }
   ],
   "source": [
    "one_hot_genre['language_code'].value_counts()"
   ]
  },
  {
   "cell_type": "markdown",
   "id": "fewer-interface",
   "metadata": {},
   "source": [
    "<div style=\"direction:rtl\", align=\"justify\">\n",
    "<h3>\n",
    "<span style='font-family:\"B Nazanin\"'>\n",
    "پس از دسته بندی زبان ها و کاهش تعداد ستون های مربوطه از dummy استفاده کرده و ستون کتگوریکال language-code را به ستون های flag مانند تبدیل می کنیم."
   ]
  },
  {
   "cell_type": "code",
   "execution_count": 42,
   "id": "progressive-millennium",
   "metadata": {},
   "outputs": [
    {
     "data": {
      "text/html": [
       "<div>\n",
       "<style scoped>\n",
       "    .dataframe tbody tr th:only-of-type {\n",
       "        vertical-align: middle;\n",
       "    }\n",
       "\n",
       "    .dataframe tbody tr th {\n",
       "        vertical-align: top;\n",
       "    }\n",
       "\n",
       "    .dataframe thead th {\n",
       "        text-align: right;\n",
       "    }\n",
       "</style>\n",
       "<table border=\"1\" class=\"dataframe\">\n",
       "  <thead>\n",
       "    <tr style=\"text-align: right;\">\n",
       "      <th></th>\n",
       "      <th>book_id</th>\n",
       "      <th>original_publication_year</th>\n",
       "      <th>average_rating</th>\n",
       "      <th>ratings_count</th>\n",
       "      <th>work_ratings_count</th>\n",
       "      <th>work_text_reviews_count</th>\n",
       "      <th>ratings_1</th>\n",
       "      <th>ratings_2</th>\n",
       "      <th>ratings_3</th>\n",
       "      <th>ratings_4</th>\n",
       "      <th>...</th>\n",
       "      <th>en</th>\n",
       "      <th>fre</th>\n",
       "      <th>ger</th>\n",
       "      <th>ind</th>\n",
       "      <th>jpn</th>\n",
       "      <th>other</th>\n",
       "      <th>per</th>\n",
       "      <th>pol</th>\n",
       "      <th>por</th>\n",
       "      <th>spa</th>\n",
       "    </tr>\n",
       "  </thead>\n",
       "  <tbody>\n",
       "    <tr>\n",
       "      <th>0</th>\n",
       "      <td>1</td>\n",
       "      <td>2008.0</td>\n",
       "      <td>4.34</td>\n",
       "      <td>4780653</td>\n",
       "      <td>4942365</td>\n",
       "      <td>155254</td>\n",
       "      <td>66715</td>\n",
       "      <td>127936</td>\n",
       "      <td>560092</td>\n",
       "      <td>1481305</td>\n",
       "      <td>...</td>\n",
       "      <td>1</td>\n",
       "      <td>0</td>\n",
       "      <td>0</td>\n",
       "      <td>0</td>\n",
       "      <td>0</td>\n",
       "      <td>0</td>\n",
       "      <td>0</td>\n",
       "      <td>0</td>\n",
       "      <td>0</td>\n",
       "      <td>0</td>\n",
       "    </tr>\n",
       "    <tr>\n",
       "      <th>1</th>\n",
       "      <td>2</td>\n",
       "      <td>1997.0</td>\n",
       "      <td>4.44</td>\n",
       "      <td>4602479</td>\n",
       "      <td>4800065</td>\n",
       "      <td>75867</td>\n",
       "      <td>75504</td>\n",
       "      <td>101676</td>\n",
       "      <td>455024</td>\n",
       "      <td>1156318</td>\n",
       "      <td>...</td>\n",
       "      <td>1</td>\n",
       "      <td>0</td>\n",
       "      <td>0</td>\n",
       "      <td>0</td>\n",
       "      <td>0</td>\n",
       "      <td>0</td>\n",
       "      <td>0</td>\n",
       "      <td>0</td>\n",
       "      <td>0</td>\n",
       "      <td>0</td>\n",
       "    </tr>\n",
       "    <tr>\n",
       "      <th>2</th>\n",
       "      <td>3</td>\n",
       "      <td>2005.0</td>\n",
       "      <td>3.57</td>\n",
       "      <td>3866839</td>\n",
       "      <td>3916824</td>\n",
       "      <td>95009</td>\n",
       "      <td>456191</td>\n",
       "      <td>436802</td>\n",
       "      <td>793319</td>\n",
       "      <td>875073</td>\n",
       "      <td>...</td>\n",
       "      <td>1</td>\n",
       "      <td>0</td>\n",
       "      <td>0</td>\n",
       "      <td>0</td>\n",
       "      <td>0</td>\n",
       "      <td>0</td>\n",
       "      <td>0</td>\n",
       "      <td>0</td>\n",
       "      <td>0</td>\n",
       "      <td>0</td>\n",
       "    </tr>\n",
       "    <tr>\n",
       "      <th>3</th>\n",
       "      <td>4</td>\n",
       "      <td>1960.0</td>\n",
       "      <td>4.25</td>\n",
       "      <td>3198671</td>\n",
       "      <td>3340896</td>\n",
       "      <td>72586</td>\n",
       "      <td>60427</td>\n",
       "      <td>117415</td>\n",
       "      <td>446835</td>\n",
       "      <td>1001952</td>\n",
       "      <td>...</td>\n",
       "      <td>1</td>\n",
       "      <td>0</td>\n",
       "      <td>0</td>\n",
       "      <td>0</td>\n",
       "      <td>0</td>\n",
       "      <td>0</td>\n",
       "      <td>0</td>\n",
       "      <td>0</td>\n",
       "      <td>0</td>\n",
       "      <td>0</td>\n",
       "    </tr>\n",
       "    <tr>\n",
       "      <th>4</th>\n",
       "      <td>5</td>\n",
       "      <td>1925.0</td>\n",
       "      <td>3.89</td>\n",
       "      <td>2683664</td>\n",
       "      <td>2773745</td>\n",
       "      <td>51992</td>\n",
       "      <td>86236</td>\n",
       "      <td>197621</td>\n",
       "      <td>606158</td>\n",
       "      <td>936012</td>\n",
       "      <td>...</td>\n",
       "      <td>1</td>\n",
       "      <td>0</td>\n",
       "      <td>0</td>\n",
       "      <td>0</td>\n",
       "      <td>0</td>\n",
       "      <td>0</td>\n",
       "      <td>0</td>\n",
       "      <td>0</td>\n",
       "      <td>0</td>\n",
       "      <td>0</td>\n",
       "    </tr>\n",
       "  </tbody>\n",
       "</table>\n",
       "<p>5 rows × 32 columns</p>\n",
       "</div>"
      ],
      "text/plain": [
       "   book_id  original_publication_year  average_rating  ratings_count  \\\n",
       "0        1                     2008.0            4.34        4780653   \n",
       "1        2                     1997.0            4.44        4602479   \n",
       "2        3                     2005.0            3.57        3866839   \n",
       "3        4                     1960.0            4.25        3198671   \n",
       "4        5                     1925.0            3.89        2683664   \n",
       "\n",
       "   work_ratings_count  work_text_reviews_count  ratings_1  ratings_2  \\\n",
       "0             4942365                   155254      66715     127936   \n",
       "1             4800065                    75867      75504     101676   \n",
       "2             3916824                    95009     456191     436802   \n",
       "3             3340896                    72586      60427     117415   \n",
       "4             2773745                    51992      86236     197621   \n",
       "\n",
       "   ratings_3  ratings_4  ...  en  fre  ger  ind  jpn  other  per  pol  por  \\\n",
       "0     560092    1481305  ...   1    0    0    0    0      0    0    0    0   \n",
       "1     455024    1156318  ...   1    0    0    0    0      0    0    0    0   \n",
       "2     793319     875073  ...   1    0    0    0    0      0    0    0    0   \n",
       "3     446835    1001952  ...   1    0    0    0    0      0    0    0    0   \n",
       "4     606158     936012  ...   1    0    0    0    0      0    0    0    0   \n",
       "\n",
       "   spa  \n",
       "0    0  \n",
       "1    0  \n",
       "2    0  \n",
       "3    0  \n",
       "4    0  \n",
       "\n",
       "[5 rows x 32 columns]"
      ]
     },
     "execution_count": 42,
     "metadata": {},
     "output_type": "execute_result"
    }
   ],
   "source": [
    "final_book =  pd.get_dummies(one_hot_genre, columns=['language_code'] , prefix=[''],prefix_sep=[''])\n",
    "final_book.head()"
   ]
  },
  {
   "cell_type": "code",
   "execution_count": 43,
   "id": "polished-alias",
   "metadata": {},
   "outputs": [
    {
     "name": "stdout",
     "output_type": "stream",
     "text": [
      "['book_id', 'original_publication_year', 'average_rating', 'ratings_count', 'work_ratings_count', 'work_text_reviews_count', 'ratings_1', 'ratings_2', 'ratings_3', 'ratings_4', 'ratings_5', 'fantasy, paranormal', 'non-fiction', 'mystery, thriller, crime', 'fiction', 'young-adult', 'children', 'poetry', 'comics, graphic', 'romance', 'history, historical fiction, biography', 'ara', 'en', 'fre', 'ger', 'ind', 'jpn', 'other', 'per', 'pol', 'por', 'spa']\n"
     ]
    }
   ],
   "source": [
    "print(list(final_book.columns))"
   ]
  },
  {
   "cell_type": "code",
   "execution_count": 44,
   "id": "minor-sacramento",
   "metadata": {},
   "outputs": [],
   "source": [
    "final_book.to_csv(path + 'final_book.csv')"
   ]
  }
 ],
 "metadata": {
  "kernelspec": {
   "display_name": "Python 3",
   "language": "python",
   "name": "python3"
  },
  "language_info": {
   "codemirror_mode": {
    "name": "ipython",
    "version": 3
   },
   "file_extension": ".py",
   "mimetype": "text/x-python",
   "name": "python",
   "nbconvert_exporter": "python",
   "pygments_lexer": "ipython3",
   "version": "3.7.1"
  }
 },
 "nbformat": 4,
 "nbformat_minor": 5
}
